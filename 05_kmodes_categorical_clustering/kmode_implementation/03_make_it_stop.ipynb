{
 "cells": [
  {
   "cell_type": "markdown",
   "metadata": {},
   "source": [
    "# Boilerplate"
   ]
  },
  {
   "cell_type": "code",
   "execution_count": 17,
   "metadata": {},
   "outputs": [
    {
     "name": "stdout",
     "output_type": "stream",
     "text": [
      "The autoreload extension is already loaded. To reload it, use:\n",
      "  %reload_ext autoreload\n"
     ]
    }
   ],
   "source": [
    "import pandas as pd \n",
    "import pandasql as ps\n",
    "import matplotlib.pyplot as plt \n",
    "import numpy as np\n",
    "import seaborn as sns\n",
    "import scipy.stats as stats\n",
    "import statsmodels.stats.api as sms\n",
    "\n",
    "from IPython.display import display\n",
    "from IPython.display import Markdown as md\n",
    "from IPython.core.interactiveshell import InteractiveShell\n",
    "InteractiveShell.ast_node_interactivity = \"all\"\n",
    "\n",
    "def f():\n",
    "    pd.set_option('display.max_columns', None)\n",
    "    pd.set_option('display.max_rows', None)\n",
    "    \n",
    "def nf():\n",
    "    pd.set_option('display.max_columns', None)\n",
    "    pd.set_option('display.max_rows', 4)\n",
    "\n",
    "import warnings\n",
    "warnings.filterwarnings('ignore')\n",
    "\n",
    "def dp(df, r = 5, c = None):\n",
    "    from IPython.display import display\n",
    "    with pd.option_context('display.max_rows', 4, 'display.max_columns', None):\n",
    "        display(df)\n",
    "\n",
    "def fg(w = 6, h = 4, dpi = 120):\n",
    "    plt.rcParams['figure.figsize'] = (w,h)\n",
    "    plt.rcParams['figure.dpi'] = dpi\n",
    "fg()\n",
    "\n",
    "%load_ext autoreload\n",
    "%autoreload 2"
   ]
  },
  {
   "cell_type": "markdown",
   "metadata": {},
   "source": [
    "# Create sample"
   ]
  },
  {
   "cell_type": "code",
   "execution_count": 18,
   "metadata": {},
   "outputs": [],
   "source": [
    "import random \n",
    "import string "
   ]
  },
  {
   "cell_type": "markdown",
   "metadata": {},
   "source": [
    "# random sample selection"
   ]
  },
  {
   "cell_type": "code",
   "execution_count": 20,
   "metadata": {
    "scrolled": true
   },
   "outputs": [
    {
     "name": "stdout",
     "output_type": "stream",
     "text": [
      "out of range\n",
      "current3634 and former 3634\n",
      "current3682 and former 3634\n",
      "current3690 and former 3682\n",
      "current3712 and former 3690\n",
      "current3722 and former 3712\n",
      "current3722 and former 3722\n",
      "Convergence reached\n"
     ]
    }
   ],
   "source": [
    "# letters = string.ascii_uppercasedfall = df\n",
    "letters = string.ascii_uppercase[:5]\n",
    "\n",
    "df = pd.DataFrame()\n",
    "_len = 2000\n",
    "for i in range(5):\n",
    "    df[f'Q{i}'] = [''.join(random.choice(letters) for _ in range(1)) for _ in range(_len)]\n",
    "\n",
    "# init\n",
    "n_clu = 7\n",
    "_cho = random.sample(df.index.to_list(),n_clu)\n",
    "\n",
    "dfcho = df[df.index.isin(_cho)].reset_index(drop = True)\n",
    "\n",
    "dforig = df.copy()\n",
    "df = dforig.copy()\n",
    "\n",
    "# To store every output of clusters\n",
    "dfall = pd.DataFrame()\n",
    " \n",
    "# compute difference thorught loopings\n",
    "difflist = []\n",
    "\n",
    "# to receive buckets of similarities\n",
    "bucketlist = []\n",
    "\n",
    "# to iterate over the bucketlist\n",
    "cont = 0\n",
    "_maxiter = 50\n",
    "for _ in range(_maxiter):\n",
    "    # restart df\n",
    "    df = dforig.copy()\n",
    "    # computacao ineficient O(n²) ou mais\n",
    "#     print('cluster dataframe')\n",
    "#     dfcho\n",
    "    for idx in df.index:\n",
    "        for clu in dfcho.index:\n",
    "            df.loc[idx,f'C{clu}'] = sum(dforig.iloc[idx,:] == dfcho.iloc[clu,:])\n",
    "            \n",
    "    # Minimum distances to clusters\n",
    "    dfclosest = df.select_dtypes(include = [float]).idxmin(axis = 1)\n",
    "\n",
    "    closest = 'closest'\n",
    "    df[closest] = dfclosest\n",
    "\n",
    "    clusters = df.select_dtypes(include = [float]).columns\n",
    "\n",
    "    # for clu in clusters:\n",
    "    #     df[df.closest == clu]\n",
    "\n",
    "    # Return mode\n",
    "\n",
    "    _dforig = dforig.copy()\n",
    "    _dforig[closest] = df[closest]\n",
    "\n",
    "    dfmode = pd.DataFrame()\n",
    "    for clu in clusters:\n",
    "        dfmode = dfmode.append(_dforig[_dforig.closest == clu].mode(axis = 0).iloc[0,:])\n",
    "#         print('loop dfmode')\n",
    "#         dfmode\n",
    "\n",
    "    # new clusters\n",
    "    dfmode = dfmode.drop(closest, axis = 1)\n",
    "    \n",
    "#     print('Clusters found')\n",
    "#     dfmode\n",
    "    \n",
    "    del dfcho\n",
    "    dfcho = dfmode.copy().reset_index(drop = True)\n",
    "    \n",
    "    dfall = dfall.append(dfcho)\n",
    "    \n",
    "    # Compute similarities\n",
    "    dfclosest = dfclosest.reset_index().rename(columns = {0:'cluster'})\n",
    "    buckets = {}\n",
    "    for clu in dfcho.index:\n",
    "        buckets[f'C{clu}'] = dfclosest[dfclosest.cluster == f'C{clu}'].index.to_list()\n",
    "    bucketlist.append(buckets)\n",
    "    \n",
    "    # only computes distance from secon iteration\n",
    "    if cont >=1:\n",
    "        diff = 0\n",
    "        for clu in dfcho.index:\n",
    "            _clu = f'C{clu}'\n",
    "            diff += len(set(bucketlist[cont].get(_clu))^set(bucketlist[cont-1].get(_clu)))\n",
    "#             print(f'difference{diff}')\n",
    "        difflist.append(diff)\n",
    "        print(f'current{difflist[cont-1]} and former {difflist[cont-2]}')\n",
    "    \n",
    "    try:\n",
    "        if (cont > 2) & (difflist[cont-1] == difflist[cont-2]):\n",
    "            print('Convergence reached')\n",
    "            break\n",
    "    except IndexError:\n",
    "        print('out of range')\n",
    "\n",
    "    cont +=1"
   ]
  },
  {
   "cell_type": "code",
   "execution_count": 21,
   "metadata": {},
   "outputs": [
    {
     "data": {
      "text/plain": [
       "[3634, 3682, 3690, 3712, 3722, 3722]"
      ]
     },
     "execution_count": 21,
     "metadata": {},
     "output_type": "execute_result"
    }
   ],
   "source": [
    "difflist"
   ]
  }
 ],
 "metadata": {
  "kernelspec": {
   "display_name": "Python 3",
   "language": "python",
   "name": "python3"
  },
  "language_info": {
   "codemirror_mode": {
    "name": "ipython",
    "version": 3
   },
   "file_extension": ".py",
   "mimetype": "text/x-python",
   "name": "python",
   "nbconvert_exporter": "python",
   "pygments_lexer": "ipython3",
   "version": "3.7.6"
  },
  "toc": {
   "base_numbering": 1,
   "nav_menu": {},
   "number_sections": true,
   "sideBar": true,
   "skip_h1_title": false,
   "title_cell": "Table of Contents",
   "title_sidebar": "Contents",
   "toc_cell": false,
   "toc_position": {},
   "toc_section_display": true,
   "toc_window_display": true
  },
  "varInspector": {
   "cols": {
    "lenName": 16,
    "lenType": 16,
    "lenVar": 40
   },
   "kernels_config": {
    "python": {
     "delete_cmd_postfix": "",
     "delete_cmd_prefix": "del ",
     "library": "var_list.py",
     "varRefreshCmd": "print(var_dic_list())"
    },
    "r": {
     "delete_cmd_postfix": ") ",
     "delete_cmd_prefix": "rm(",
     "library": "var_list.r",
     "varRefreshCmd": "cat(var_dic_list()) "
    }
   },
   "types_to_exclude": [
    "module",
    "function",
    "builtin_function_or_method",
    "instance",
    "_Feature"
   ],
   "window_display": false
  }
 },
 "nbformat": 4,
 "nbformat_minor": 4
}
