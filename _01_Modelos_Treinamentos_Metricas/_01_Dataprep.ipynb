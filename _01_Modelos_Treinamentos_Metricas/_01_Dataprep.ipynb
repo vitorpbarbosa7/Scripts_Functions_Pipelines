{
 "cells": [
  {
   "cell_type": "code",
   "execution_count": 2,
   "id": "cdf2952d-f790-4d9a-b15b-8366a3b5559a",
   "metadata": {},
   "outputs": [],
   "source": [
    "# %%\n",
    "import pandas as pd \n",
    "import seaborn as sns\n",
    "import matplotlib.pyplot as plt \n",
    "import numpy as np"
   ]
  },
  {
   "cell_type": "code",
   "execution_count": 5,
   "id": "26708e77-9165-4bf1-9a9f-0bfb533ea8e5",
   "metadata": {},
   "outputs": [],
   "source": [
    "# %%\n",
    "data = pd.read_csv('data/alldata.csv', sep = ',')\n",
    "\n",
    "# %% Selecionar principais variaveis:\n",
    "    \n",
    "#Crosstable\n",
    "    \n",
    "crosstable = pd.read_csv('data/CrosstableVariables.csv', sep = ';')\n",
    "crosstable.drop(crosstable.columns[[0,4,5,6,7,8,9,10]], axis = 1, inplace =  True)\n",
    "\n",
    "#Apenas dor na lombar\n",
    "crosstable = crosstable.loc[crosstable['denominador']=='D30']\n",
    "\n",
    "#Filtro da frequência\n",
    "crosstable = crosstable.loc[crosstable['Frequência']>0.6]\n",
    "\n",
    "crossnames = list(crosstable.numerador)\n",
    "\n",
    "# Bisserial\n",
    "biserial = pd.read_csv('data/biseralmaincorrelations.csv', sep = ',')\n",
    "biserial.drop(biserial.columns[[3,4,5,6]], axis = 1, inplace = True)\n",
    "\n",
    "#Apenas dor na lombar\n",
    "biserial = biserial.loc[biserial['Binaria']=='Lombalgia']\n",
    "\n",
    "#Filtro do coeficiente de correlação de ponto bisserial\n",
    "biserial = biserial.loc[(biserial['rpb'] > 0.5) | (biserial['rpb'] < -0.5)]\n",
    "\n",
    "biserialnames = list(biserial.Ordinal)\n",
    "#Final\n",
    "\n",
    "biserialandcross = crossnames + biserialnames\n",
    "\n",
    "data = data[biserialandcross]\n",
    "\n",
    "#Retornar apenas as linhas que possuem resultado em D30\n",
    "\n",
    "data = data[data.D30.notnull()]\n",
    "data.drop('Há quanto tempo em São Paulo se de outro local', axis = 1, inplace = True)\n",
    "\n",
    "#Retornar apenas as linhas que possuem menos de 10 % de valores nulos\n",
    "nulldataframe = pd.DataFrame(data.isnull().sum())\n",
    "miss = nulldataframe/data.shape[0]\n",
    "\n",
    "miss.columns = ['Valor']\n",
    "\n",
    "miss = miss[miss['Valor'] < 0.15]\n",
    "\n",
    "listanaonulos = list(miss.index)\n",
    "\n",
    "data = data[listanaonulos]\n",
    "# %% Imputar valores nulos\n",
    "from sklearn.impute import SimpleImputer\n",
    "\n",
    "imp = SimpleImputer(missing_values = np.nan, strategy = 'median')\n",
    "\n",
    "imp.fit(data)\n",
    "\n",
    "data_nonan = pd.DataFrame(imp.transform(data), columns = list(data))\n",
    "\n",
    "data_nonan.isnull().sum().sum()\n",
    "\n",
    "#Testando só com binários:\n",
    "data_pca = data_nonan\n",
    "\n",
    "# %% Normalização dos ordinais\n",
    "\n",
    "data_bin = data_pca.iloc[:,np.r_[0:7]]\n",
    "data_ord = data_pca.iloc[:,np.r_[7:10]]\n",
    "\n",
    "from sklearn.preprocessing import StandardScaler\n",
    "ss = StandardScaler()\n",
    "\n",
    "ss.fit(data_ord)\n",
    "\n",
    "data_ord_ss = pd.DataFrame(ss.transform(data_ord), columns = list(data_ord))\n",
    "\n",
    "data_pca = pd.concat([data_bin,data_ord_ss], axis = 1)"
   ]
  },
  {
   "cell_type": "code",
   "execution_count": 6,
   "id": "a56d9e0d-a7dd-4a36-b622-86cd0dbf0143",
   "metadata": {},
   "outputs": [],
   "source": [
    "\n",
    "df = data_pca"
   ]
  },
  {
   "cell_type": "code",
   "execution_count": 8,
   "id": "5f81bb55",
   "metadata": {},
   "outputs": [],
   "source": [
    "data_pca.to_csv('data/dados_tratados.csv', index = False)"
   ]
  },
  {
   "cell_type": "markdown",
   "id": "7aa9154a",
   "metadata": {},
   "source": [
    "# - END - "
   ]
  }
 ],
 "metadata": {
  "kernelspec": {
   "display_name": "Python 3",
   "language": "python",
   "name": "python3"
  },
  "language_info": {
   "codemirror_mode": {
    "name": "ipython",
    "version": 3
   },
   "file_extension": ".py",
   "mimetype": "text/x-python",
   "name": "python",
   "nbconvert_exporter": "python",
   "pygments_lexer": "ipython3",
   "version": "3.7.11"
  },
  "varInspector": {
   "cols": {
    "lenName": 16,
    "lenType": 16,
    "lenVar": 40
   },
   "kernels_config": {
    "python": {
     "delete_cmd_postfix": "",
     "delete_cmd_prefix": "del ",
     "library": "var_list.py",
     "varRefreshCmd": "print(var_dic_list())"
    },
    "r": {
     "delete_cmd_postfix": ") ",
     "delete_cmd_prefix": "rm(",
     "library": "var_list.r",
     "varRefreshCmd": "cat(var_dic_list()) "
    }
   },
   "types_to_exclude": [
    "module",
    "function",
    "builtin_function_or_method",
    "instance",
    "_Feature"
   ],
   "window_display": false
  }
 },
 "nbformat": 4,
 "nbformat_minor": 5
}
