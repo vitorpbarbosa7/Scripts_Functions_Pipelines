{
 "cells": [
  {
   "cell_type": "code",
   "execution_count": 1,
   "id": "54758a46",
   "metadata": {},
   "outputs": [],
   "source": [
    "import pandas as pd"
   ]
  },
  {
   "cell_type": "code",
   "execution_count": 2,
   "id": "057574ee",
   "metadata": {},
   "outputs": [
    {
     "name": "stdout",
     "output_type": "stream",
     "text": [
      "Requirement already satisfied: jinjasql in /Users/vpb/anaconda3/lib/python3.9/site-packages (0.1.8)\r\n",
      "Requirement already satisfied: Jinja2>=2.5 in /Users/vpb/anaconda3/lib/python3.9/site-packages (from jinjasql) (2.11.3)\r\n",
      "Requirement already satisfied: MarkupSafe>=0.23 in /Users/vpb/anaconda3/lib/python3.9/site-packages (from Jinja2>=2.5->jinjasql) (1.1.1)\r\n"
     ]
    }
   ],
   "source": [
    "! python3 -m pip install jinjasql"
   ]
  },
  {
   "cell_type": "code",
   "execution_count": 3,
   "id": "540cf018",
   "metadata": {},
   "outputs": [],
   "source": [
    "query_file= open('query.sql', 'r')\n",
    "query_template = query_file.read()\n",
    "query_file.close()"
   ]
  },
  {
   "cell_type": "code",
   "execution_count": 4,
   "id": "791724ef",
   "metadata": {},
   "outputs": [],
   "source": [
    "ref = '202202'\n",
    "particao_publico = 'teste_v1'"
   ]
  },
  {
   "cell_type": "code",
   "execution_count": 5,
   "id": "14a71277",
   "metadata": {},
   "outputs": [],
   "source": [
    "params = {\n",
    "    'ref': ref,\n",
    "    'particao_publico': particao_publico\n",
    "}"
   ]
  },
  {
   "cell_type": "code",
   "execution_count": 6,
   "id": "a2783645",
   "metadata": {},
   "outputs": [],
   "source": [
    "from jinjasql import JinjaSql\n",
    "j = JinjaSql(param_style='pyformat')\n",
    "query_binded, bind_params = j.prepare_query(query_template, params)"
   ]
  },
  {
   "cell_type": "code",
   "execution_count": 7,
   "id": "0a1eff80",
   "metadata": {},
   "outputs": [
    {
     "name": "stdout",
     "output_type": "stream",
     "text": [
      "select\n",
      "    user_id\n",
      "    , count(*) as num_transactions\n",
      "    , sum(amount) as total_amount\n",
      "from\n",
      "    transactions\n",
      "where\n",
      "    user_id = %(ref_1)s\n",
      "    and transaction_date = %(particao_publico_2)s\n",
      "group by\n",
      "    user_id\n"
     ]
    }
   ],
   "source": [
    "print(query_binded)"
   ]
  },
  {
   "cell_type": "code",
   "execution_count": 8,
   "id": "b2b79b48",
   "metadata": {},
   "outputs": [
    {
     "name": "stdout",
     "output_type": "stream",
     "text": [
      "{'ref_1': '202202', 'particao_publico_2': 'teste_v1'}\n"
     ]
    }
   ],
   "source": [
    "print(bind_params)"
   ]
  },
  {
   "cell_type": "code",
   "execution_count": 9,
   "id": "00359809",
   "metadata": {},
   "outputs": [],
   "source": [
    "final_query = (query_binded % bind_params)"
   ]
  },
  {
   "cell_type": "code",
   "execution_count": 10,
   "id": "f8ba30d1",
   "metadata": {},
   "outputs": [
    {
     "name": "stdout",
     "output_type": "stream",
     "text": [
      "select\n",
      "    user_id\n",
      "    , count(*) as num_transactions\n",
      "    , sum(amount) as total_amount\n",
      "from\n",
      "    transactions\n",
      "where\n",
      "    user_id = 202202\n",
      "    and transaction_date = teste_v1\n",
      "group by\n",
      "    user_id\n"
     ]
    }
   ],
   "source": [
    "print(final_query)"
   ]
  },
  {
   "cell_type": "code",
   "execution_count": null,
   "id": "ee3b3afb",
   "metadata": {},
   "outputs": [],
   "source": []
  }
 ],
 "metadata": {
  "kernelspec": {
   "display_name": "Python 3 (ipykernel)",
   "language": "python",
   "name": "python3"
  },
  "language_info": {
   "codemirror_mode": {
    "name": "ipython",
    "version": 3
   },
   "file_extension": ".py",
   "mimetype": "text/x-python",
   "name": "python",
   "nbconvert_exporter": "python",
   "pygments_lexer": "ipython3",
   "version": "3.9.7"
  }
 },
 "nbformat": 4,
 "nbformat_minor": 5
}
