{
 "cells": [
  {
   "cell_type": "code",
   "execution_count": 27,
   "id": "16a9549b",
   "metadata": {},
   "outputs": [],
   "source": [
    "import pandas as pd\n",
    "import matplotlib.pyplot as plt \n",
    "import seaborn as sns\n",
    "import numpy as np"
   ]
  },
  {
   "cell_type": "code",
   "execution_count": 28,
   "id": "c4722002",
   "metadata": {},
   "outputs": [],
   "source": [
    "data = pd.read_csv('data.csv', sep = ';')"
   ]
  },
  {
   "cell_type": "code",
   "execution_count": 31,
   "id": "3bcc999c",
   "metadata": {},
   "outputs": [],
   "source": [
    "from sklearn.model_selection import train_test_split"
   ]
  },
  {
   "cell_type": "code",
   "execution_count": 32,
   "id": "72b8d9d2",
   "metadata": {},
   "outputs": [],
   "source": [
    "X = data.drop('Y', axis = 1)"
   ]
  },
  {
   "cell_type": "code",
   "execution_count": 33,
   "id": "bb53c5a2",
   "metadata": {},
   "outputs": [],
   "source": [
    "y = data.Y"
   ]
  },
  {
   "cell_type": "code",
   "execution_count": 34,
   "id": "51e2697d",
   "metadata": {},
   "outputs": [],
   "source": [
    "X_train, X_test, y_train, y_test = train_test_split(X, y, test_size = 0.3)"
   ]
  },
  {
   "cell_type": "code",
   "execution_count": 35,
   "id": "836d2017",
   "metadata": {},
   "outputs": [],
   "source": [
    "import statsmodels.api as sm"
   ]
  },
  {
   "cell_type": "code",
   "execution_count": 36,
   "id": "f35378fd",
   "metadata": {},
   "outputs": [
    {
     "name": "stdout",
     "output_type": "stream",
     "text": [
      "Optimization terminated successfully.\n",
      "         Current function value: 0.211423\n",
      "         Iterations 8\n"
     ]
    }
   ],
   "source": [
    "log_reg = sm.Logit(y_train, X_train).fit()"
   ]
  },
  {
   "cell_type": "code",
   "execution_count": 37,
   "id": "2145bdd5",
   "metadata": {},
   "outputs": [
    {
     "name": "stdout",
     "output_type": "stream",
     "text": [
      "                           Logit Regression Results                           \n",
      "==============================================================================\n",
      "Dep. Variable:                      Y   No. Observations:                   51\n",
      "Model:                          Logit   Df Residuals:                       47\n",
      "Method:                           MLE   Df Model:                            3\n",
      "Date:                Tue, 13 Jul 2021   Pseudo R-squ.:                  0.6908\n",
      "Time:                        20:48:41   Log-Likelihood:                -10.783\n",
      "converged:                       True   LL-Null:                       -34.869\n",
      "Covariance Type:            nonrobust   LLR p-value:                 1.957e-10\n",
      "==============================================================================\n",
      "                 coef    std err          z      P>|z|      [0.025      0.975]\n",
      "------------------------------------------------------------------------------\n",
      "X1             1.9886      0.616      3.228      0.001       0.781       3.196\n",
      "X2            -0.1627      0.226     -0.720      0.471      -0.605       0.280\n",
      "X3            -0.5215      0.202     -2.578      0.010      -0.918      -0.125\n",
      "X4            -0.2725      0.232     -1.175      0.240      -0.727       0.182\n",
      "==============================================================================\n"
     ]
    }
   ],
   "source": [
    "print(log_reg.summary())"
   ]
  },
  {
   "cell_type": "code",
   "execution_count": null,
   "id": "a2e96771",
   "metadata": {},
   "outputs": [],
   "source": []
  }
 ],
 "metadata": {
  "kernelspec": {
   "display_name": "Python 3",
   "language": "python",
   "name": "python3"
  },
  "language_info": {
   "codemirror_mode": {
    "name": "ipython",
    "version": 3
   },
   "file_extension": ".py",
   "mimetype": "text/x-python",
   "name": "python",
   "nbconvert_exporter": "python",
   "pygments_lexer": "ipython3",
   "version": "3.8.5"
  }
 },
 "nbformat": 4,
 "nbformat_minor": 5
}
