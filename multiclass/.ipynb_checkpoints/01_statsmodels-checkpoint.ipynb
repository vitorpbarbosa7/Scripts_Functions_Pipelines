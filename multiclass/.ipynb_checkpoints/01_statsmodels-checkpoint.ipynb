{
 "cells": [
  {
   "cell_type": "markdown",
   "metadata": {},
   "source": [
    "# Boiler"
   ]
  },
  {
   "cell_type": "code",
   "execution_count": 33,
   "metadata": {
    "ExecuteTime": {
     "end_time": "2021-12-18T15:29:50.505373Z",
     "start_time": "2021-12-18T15:29:50.450669Z"
    }
   },
   "outputs": [
    {
     "name": "stdout",
     "output_type": "stream",
     "text": [
      "The autoreload extension is already loaded. To reload it, use:\n",
      "  %reload_ext autoreload\n"
     ]
    }
   ],
   "source": [
    "import pandas as pd \n",
    "import pandasql as ps\n",
    "import matplotlib.pyplot as plt \n",
    "import numpy as np\n",
    "import seaborn as sns\n",
    "import scipy.stats as stats\n",
    "import statsmodels.stats.api as sms\n",
    "\n",
    "plt.style.use('seaborn-white')\n",
    "\n",
    "\n",
    "from IPython.display import display\n",
    "from IPython.display import Markdown as md\n",
    "from IPython.core.interactiveshell import InteractiveShell\n",
    "InteractiveShell.ast_node_interactivity = \"all\"\n",
    "\n",
    "def f():\n",
    "    pd.set_option('display.max_columns', None)\n",
    "    pd.set_option('display.max_rows', None)\n",
    "    \n",
    "def nf():\n",
    "    pd.set_option('display.max_columns', None)\n",
    "    pd.set_option('display.max_rows', 4)\n",
    "\n",
    "import warnings\n",
    "warnings.filterwarnings('ignore')\n",
    "\n",
    "def dp(df, r = 5, c = None):\n",
    "    from IPython.display import display\n",
    "    with pd.option_context('display.max_rows', 4, 'display.max_columns', None):\n",
    "        display(df)\n",
    "\n",
    "def fg(w = 6, h = 4, dpi = 120):\n",
    "    plt.rcParams['figure.figsize'] = (w,h)\n",
    "    plt.rcParams['figure.dpi'] = dpi\n",
    "fg()\n",
    "\n",
    "%load_ext autoreload\n",
    "%autoreload 2"
   ]
  },
  {
   "cell_type": "code",
   "execution_count": 38,
   "metadata": {
    "ExecuteTime": {
     "end_time": "2021-12-18T15:32:18.892471Z",
     "start_time": "2021-12-18T15:32:18.847282Z"
    }
   },
   "outputs": [],
   "source": [
    "from sklearn.model_selection import train_test_split\n",
    "from sklearn.linear_model import LogisticRegression\n",
    "from sklearn.metrics import classification_report\n",
    "from sklearn import metrics \n",
    "from sklearn.metrics import confusion_matrix\n",
    "import statsmodels.api as sm\n",
    "import matplotlib.pyplot as plt"
   ]
  },
  {
   "cell_type": "code",
   "execution_count": 42,
   "metadata": {
    "ExecuteTime": {
     "end_time": "2021-12-18T15:34:16.403929Z",
     "start_time": "2021-12-18T15:34:16.352763Z"
    }
   },
   "outputs": [
    {
     "data": {
      "text/html": [
       "<div>\n",
       "<style scoped>\n",
       "    .dataframe tbody tr th:only-of-type {\n",
       "        vertical-align: middle;\n",
       "    }\n",
       "\n",
       "    .dataframe tbody tr th {\n",
       "        vertical-align: top;\n",
       "    }\n",
       "\n",
       "    .dataframe thead th {\n",
       "        text-align: right;\n",
       "    }\n",
       "</style>\n",
       "<table border=\"1\" class=\"dataframe\">\n",
       "  <thead>\n",
       "    <tr style=\"text-align: right;\">\n",
       "      <th></th>\n",
       "      <th>Sex</th>\n",
       "      <th>Length</th>\n",
       "      <th>Diameter</th>\n",
       "      <th>Height</th>\n",
       "      <th>Whole_weight</th>\n",
       "      <th>Shucked_weight</th>\n",
       "      <th>Viscera_weight</th>\n",
       "      <th>Shell_weight</th>\n",
       "      <th>Class_number_of_rings</th>\n",
       "    </tr>\n",
       "  </thead>\n",
       "  <tbody>\n",
       "    <tr>\n",
       "      <th>0</th>\n",
       "      <td>M</td>\n",
       "      <td>0.455</td>\n",
       "      <td>0.365</td>\n",
       "      <td>0.095</td>\n",
       "      <td>0.5140</td>\n",
       "      <td>0.2245</td>\n",
       "      <td>0.1010</td>\n",
       "      <td>0.150</td>\n",
       "      <td>15</td>\n",
       "    </tr>\n",
       "    <tr>\n",
       "      <th>1</th>\n",
       "      <td>M</td>\n",
       "      <td>0.350</td>\n",
       "      <td>0.265</td>\n",
       "      <td>0.090</td>\n",
       "      <td>0.2255</td>\n",
       "      <td>0.0995</td>\n",
       "      <td>0.0485</td>\n",
       "      <td>0.070</td>\n",
       "      <td>7</td>\n",
       "    </tr>\n",
       "    <tr>\n",
       "      <th>2</th>\n",
       "      <td>F</td>\n",
       "      <td>0.530</td>\n",
       "      <td>0.420</td>\n",
       "      <td>0.135</td>\n",
       "      <td>0.6770</td>\n",
       "      <td>0.2565</td>\n",
       "      <td>0.1415</td>\n",
       "      <td>0.210</td>\n",
       "      <td>9</td>\n",
       "    </tr>\n",
       "    <tr>\n",
       "      <th>3</th>\n",
       "      <td>M</td>\n",
       "      <td>0.440</td>\n",
       "      <td>0.365</td>\n",
       "      <td>0.125</td>\n",
       "      <td>0.5160</td>\n",
       "      <td>0.2155</td>\n",
       "      <td>0.1140</td>\n",
       "      <td>0.155</td>\n",
       "      <td>10</td>\n",
       "    </tr>\n",
       "    <tr>\n",
       "      <th>4</th>\n",
       "      <td>I</td>\n",
       "      <td>0.330</td>\n",
       "      <td>0.255</td>\n",
       "      <td>0.080</td>\n",
       "      <td>0.2050</td>\n",
       "      <td>0.0895</td>\n",
       "      <td>0.0395</td>\n",
       "      <td>0.055</td>\n",
       "      <td>7</td>\n",
       "    </tr>\n",
       "  </tbody>\n",
       "</table>\n",
       "</div>"
      ],
      "text/plain": [
       "  Sex  Length  Diameter  Height  Whole_weight  Shucked_weight  Viscera_weight  \\\n",
       "0   M   0.455     0.365   0.095        0.5140          0.2245          0.1010   \n",
       "1   M   0.350     0.265   0.090        0.2255          0.0995          0.0485   \n",
       "2   F   0.530     0.420   0.135        0.6770          0.2565          0.1415   \n",
       "3   M   0.440     0.365   0.125        0.5160          0.2155          0.1140   \n",
       "4   I   0.330     0.255   0.080        0.2050          0.0895          0.0395   \n",
       "\n",
       "   Shell_weight  Class_number_of_rings  \n",
       "0         0.150                     15  \n",
       "1         0.070                      7  \n",
       "2         0.210                      9  \n",
       "3         0.155                     10  \n",
       "4         0.055                      7  "
      ]
     },
     "execution_count": 42,
     "metadata": {},
     "output_type": "execute_result"
    }
   ],
   "source": [
    "#read the dataset\n",
    "#note that the csv file is space delimited\n",
    "df = pd.read_csv('data/abalone_csv.csv',  delimiter=',') \n",
    "df.head()"
   ]
  },
  {
   "cell_type": "markdown",
   "metadata": {},
   "source": [
    "## dataprep"
   ]
  },
  {
   "cell_type": "code",
   "execution_count": 43,
   "metadata": {
    "ExecuteTime": {
     "end_time": "2021-12-18T15:34:25.809775Z",
     "start_time": "2021-12-18T15:34:25.765238Z"
    }
   },
   "outputs": [],
   "source": [
    "df.columns = df.columns.str.lower()"
   ]
  },
  {
   "cell_type": "code",
   "execution_count": 44,
   "metadata": {
    "ExecuteTime": {
     "end_time": "2021-12-18T15:34:26.182944Z",
     "start_time": "2021-12-18T15:34:26.133517Z"
    }
   },
   "outputs": [
    {
     "data": {
      "text/html": [
       "<div>\n",
       "<style scoped>\n",
       "    .dataframe tbody tr th:only-of-type {\n",
       "        vertical-align: middle;\n",
       "    }\n",
       "\n",
       "    .dataframe tbody tr th {\n",
       "        vertical-align: top;\n",
       "    }\n",
       "\n",
       "    .dataframe thead th {\n",
       "        text-align: right;\n",
       "    }\n",
       "</style>\n",
       "<table border=\"1\" class=\"dataframe\">\n",
       "  <thead>\n",
       "    <tr style=\"text-align: right;\">\n",
       "      <th></th>\n",
       "      <th>sex</th>\n",
       "      <th>length</th>\n",
       "      <th>diameter</th>\n",
       "      <th>height</th>\n",
       "      <th>whole_weight</th>\n",
       "      <th>shucked_weight</th>\n",
       "      <th>viscera_weight</th>\n",
       "      <th>shell_weight</th>\n",
       "      <th>class_number_of_rings</th>\n",
       "    </tr>\n",
       "  </thead>\n",
       "  <tbody>\n",
       "    <tr>\n",
       "      <th>0</th>\n",
       "      <td>M</td>\n",
       "      <td>0.455</td>\n",
       "      <td>0.365</td>\n",
       "      <td>0.095</td>\n",
       "      <td>0.5140</td>\n",
       "      <td>0.2245</td>\n",
       "      <td>0.1010</td>\n",
       "      <td>0.1500</td>\n",
       "      <td>15</td>\n",
       "    </tr>\n",
       "    <tr>\n",
       "      <th>1</th>\n",
       "      <td>M</td>\n",
       "      <td>0.350</td>\n",
       "      <td>0.265</td>\n",
       "      <td>0.090</td>\n",
       "      <td>0.2255</td>\n",
       "      <td>0.0995</td>\n",
       "      <td>0.0485</td>\n",
       "      <td>0.0700</td>\n",
       "      <td>7</td>\n",
       "    </tr>\n",
       "    <tr>\n",
       "      <th>2</th>\n",
       "      <td>F</td>\n",
       "      <td>0.530</td>\n",
       "      <td>0.420</td>\n",
       "      <td>0.135</td>\n",
       "      <td>0.6770</td>\n",
       "      <td>0.2565</td>\n",
       "      <td>0.1415</td>\n",
       "      <td>0.2100</td>\n",
       "      <td>9</td>\n",
       "    </tr>\n",
       "    <tr>\n",
       "      <th>3</th>\n",
       "      <td>M</td>\n",
       "      <td>0.440</td>\n",
       "      <td>0.365</td>\n",
       "      <td>0.125</td>\n",
       "      <td>0.5160</td>\n",
       "      <td>0.2155</td>\n",
       "      <td>0.1140</td>\n",
       "      <td>0.1550</td>\n",
       "      <td>10</td>\n",
       "    </tr>\n",
       "    <tr>\n",
       "      <th>4</th>\n",
       "      <td>I</td>\n",
       "      <td>0.330</td>\n",
       "      <td>0.255</td>\n",
       "      <td>0.080</td>\n",
       "      <td>0.2050</td>\n",
       "      <td>0.0895</td>\n",
       "      <td>0.0395</td>\n",
       "      <td>0.0550</td>\n",
       "      <td>7</td>\n",
       "    </tr>\n",
       "    <tr>\n",
       "      <th>...</th>\n",
       "      <td>...</td>\n",
       "      <td>...</td>\n",
       "      <td>...</td>\n",
       "      <td>...</td>\n",
       "      <td>...</td>\n",
       "      <td>...</td>\n",
       "      <td>...</td>\n",
       "      <td>...</td>\n",
       "      <td>...</td>\n",
       "    </tr>\n",
       "    <tr>\n",
       "      <th>4172</th>\n",
       "      <td>F</td>\n",
       "      <td>0.565</td>\n",
       "      <td>0.450</td>\n",
       "      <td>0.165</td>\n",
       "      <td>0.8870</td>\n",
       "      <td>0.3700</td>\n",
       "      <td>0.2390</td>\n",
       "      <td>0.2490</td>\n",
       "      <td>11</td>\n",
       "    </tr>\n",
       "    <tr>\n",
       "      <th>4173</th>\n",
       "      <td>M</td>\n",
       "      <td>0.590</td>\n",
       "      <td>0.440</td>\n",
       "      <td>0.135</td>\n",
       "      <td>0.9660</td>\n",
       "      <td>0.4390</td>\n",
       "      <td>0.2145</td>\n",
       "      <td>0.2605</td>\n",
       "      <td>10</td>\n",
       "    </tr>\n",
       "    <tr>\n",
       "      <th>4174</th>\n",
       "      <td>M</td>\n",
       "      <td>0.600</td>\n",
       "      <td>0.475</td>\n",
       "      <td>0.205</td>\n",
       "      <td>1.1760</td>\n",
       "      <td>0.5255</td>\n",
       "      <td>0.2875</td>\n",
       "      <td>0.3080</td>\n",
       "      <td>9</td>\n",
       "    </tr>\n",
       "    <tr>\n",
       "      <th>4175</th>\n",
       "      <td>F</td>\n",
       "      <td>0.625</td>\n",
       "      <td>0.485</td>\n",
       "      <td>0.150</td>\n",
       "      <td>1.0945</td>\n",
       "      <td>0.5310</td>\n",
       "      <td>0.2610</td>\n",
       "      <td>0.2960</td>\n",
       "      <td>10</td>\n",
       "    </tr>\n",
       "    <tr>\n",
       "      <th>4176</th>\n",
       "      <td>M</td>\n",
       "      <td>0.710</td>\n",
       "      <td>0.555</td>\n",
       "      <td>0.195</td>\n",
       "      <td>1.9485</td>\n",
       "      <td>0.9455</td>\n",
       "      <td>0.3765</td>\n",
       "      <td>0.4950</td>\n",
       "      <td>12</td>\n",
       "    </tr>\n",
       "  </tbody>\n",
       "</table>\n",
       "<p>4177 rows × 9 columns</p>\n",
       "</div>"
      ],
      "text/plain": [
       "     sex  length  diameter  height  whole_weight  shucked_weight  \\\n",
       "0      M   0.455     0.365   0.095        0.5140          0.2245   \n",
       "1      M   0.350     0.265   0.090        0.2255          0.0995   \n",
       "2      F   0.530     0.420   0.135        0.6770          0.2565   \n",
       "3      M   0.440     0.365   0.125        0.5160          0.2155   \n",
       "4      I   0.330     0.255   0.080        0.2050          0.0895   \n",
       "...   ..     ...       ...     ...           ...             ...   \n",
       "4172   F   0.565     0.450   0.165        0.8870          0.3700   \n",
       "4173   M   0.590     0.440   0.135        0.9660          0.4390   \n",
       "4174   M   0.600     0.475   0.205        1.1760          0.5255   \n",
       "4175   F   0.625     0.485   0.150        1.0945          0.5310   \n",
       "4176   M   0.710     0.555   0.195        1.9485          0.9455   \n",
       "\n",
       "      viscera_weight  shell_weight  class_number_of_rings  \n",
       "0             0.1010        0.1500                     15  \n",
       "1             0.0485        0.0700                      7  \n",
       "2             0.1415        0.2100                      9  \n",
       "3             0.1140        0.1550                     10  \n",
       "4             0.0395        0.0550                      7  \n",
       "...              ...           ...                    ...  \n",
       "4172          0.2390        0.2490                     11  \n",
       "4173          0.2145        0.2605                     10  \n",
       "4174          0.2875        0.3080                      9  \n",
       "4175          0.2610        0.2960                     10  \n",
       "4176          0.3765        0.4950                     12  \n",
       "\n",
       "[4177 rows x 9 columns]"
      ]
     },
     "execution_count": 44,
     "metadata": {},
     "output_type": "execute_result"
    }
   ],
   "source": [
    "df"
   ]
  },
  {
   "cell_type": "markdown",
   "metadata": {},
   "source": [
    "## split data"
   ]
  },
  {
   "cell_type": "code",
   "execution_count": 47,
   "metadata": {
    "ExecuteTime": {
     "end_time": "2021-12-18T15:36:54.143083Z",
     "start_time": "2021-12-18T15:36:54.094610Z"
    }
   },
   "outputs": [
    {
     "name": "stdout",
     "output_type": "stream",
     "text": [
      "['length', 'diameter', 'height', 'whole_weight', 'shucked_weight', 'viscera_weight', 'shell_weight', 'class_number_of_rings']\n",
      "(3341, 8)\n",
      "(836, 8)\n",
      "(3341,)\n",
      "(836,)\n"
     ]
    }
   ],
   "source": [
    "#CLASS needs to be dropped\n",
    "X = df.drop(['sex'], axis=1) \n",
    "y = df['sex']\n",
    "\n",
    "print(list(X.columns.values)) \n",
    "\n",
    "X_train, X_test, y_train, y_test = train_test_split(X, y, test_size = 0.20, random_state = 5)\n",
    "print(X_train.shape)\n",
    "print(X_test.shape)\n",
    "print(y_train.shape)\n",
    "print(y_test.shape)"
   ]
  },
  {
   "cell_type": "markdown",
   "metadata": {},
   "source": [
    "### Sklearn"
   ]
  },
  {
   "cell_type": "code",
   "execution_count": 61,
   "metadata": {
    "ExecuteTime": {
     "end_time": "2021-12-18T15:40:09.834339Z",
     "start_time": "2021-12-18T15:40:09.661027Z"
    }
   },
   "outputs": [
    {
     "data": {
      "text/plain": [
       "LogisticRegression(multi_class='multinomial', penalty='none', random_state=0,\n",
       "                   solver='newton-cg')"
      ]
     },
     "execution_count": 61,
     "metadata": {},
     "output_type": "execute_result"
    }
   ],
   "source": [
    "ma = LogisticRegression(random_state=0, \n",
    "                            multi_class='multinomial', \n",
    "                            penalty='none', \n",
    "                            solver='newton-cg')\n",
    "ma.fit(X_train, y_train)\n",
    "probs1 = ma.predict_proba(X_test)"
   ]
  },
  {
   "cell_type": "code",
   "execution_count": 62,
   "metadata": {
    "ExecuteTime": {
     "end_time": "2021-12-18T15:40:13.817730Z",
     "start_time": "2021-12-18T15:40:13.798992Z"
    }
   },
   "outputs": [
    {
     "data": {
      "text/plain": [
       "array(['F', 'I', 'M'], dtype=object)"
      ]
     },
     "execution_count": 62,
     "metadata": {},
     "output_type": "execute_result"
    }
   ],
   "source": [
    "ma.classes_"
   ]
  },
  {
   "cell_type": "code",
   "execution_count": 65,
   "metadata": {
    "ExecuteTime": {
     "end_time": "2021-12-18T15:40:30.620185Z",
     "start_time": "2021-12-18T15:40:30.588340Z"
    }
   },
   "outputs": [
    {
     "data": {
      "text/html": [
       "<div>\n",
       "<style scoped>\n",
       "    .dataframe tbody tr th:only-of-type {\n",
       "        vertical-align: middle;\n",
       "    }\n",
       "\n",
       "    .dataframe tbody tr th {\n",
       "        vertical-align: top;\n",
       "    }\n",
       "\n",
       "    .dataframe thead th {\n",
       "        text-align: right;\n",
       "    }\n",
       "</style>\n",
       "<table border=\"1\" class=\"dataframe\">\n",
       "  <thead>\n",
       "    <tr style=\"text-align: right;\">\n",
       "      <th></th>\n",
       "      <th>0</th>\n",
       "      <th>1</th>\n",
       "      <th>2</th>\n",
       "    </tr>\n",
       "  </thead>\n",
       "  <tbody>\n",
       "    <tr>\n",
       "      <th>0</th>\n",
       "      <td>-6.145904</td>\n",
       "      <td>12.179397</td>\n",
       "      <td>-6.033493</td>\n",
       "    </tr>\n",
       "    <tr>\n",
       "      <th>1</th>\n",
       "      <td>6.607274</td>\n",
       "      <td>-6.830407</td>\n",
       "      <td>0.223133</td>\n",
       "    </tr>\n",
       "    <tr>\n",
       "      <th>2</th>\n",
       "      <td>3.929135</td>\n",
       "      <td>-5.450526</td>\n",
       "      <td>1.521391</td>\n",
       "    </tr>\n",
       "    <tr>\n",
       "      <th>3</th>\n",
       "      <td>1.872581</td>\n",
       "      <td>-4.222005</td>\n",
       "      <td>2.349425</td>\n",
       "    </tr>\n",
       "    <tr>\n",
       "      <th>4</th>\n",
       "      <td>-2.668916</td>\n",
       "      <td>2.797617</td>\n",
       "      <td>-0.128700</td>\n",
       "    </tr>\n",
       "    <tr>\n",
       "      <th>5</th>\n",
       "      <td>5.989396</td>\n",
       "      <td>-8.493247</td>\n",
       "      <td>2.503851</td>\n",
       "    </tr>\n",
       "    <tr>\n",
       "      <th>6</th>\n",
       "      <td>-1.506299</td>\n",
       "      <td>3.095346</td>\n",
       "      <td>-1.589047</td>\n",
       "    </tr>\n",
       "    <tr>\n",
       "      <th>7</th>\n",
       "      <td>0.061426</td>\n",
       "      <td>-0.122362</td>\n",
       "      <td>0.060936</td>\n",
       "    </tr>\n",
       "  </tbody>\n",
       "</table>\n",
       "</div>"
      ],
      "text/plain": [
       "          0          1         2\n",
       "0 -6.145904  12.179397 -6.033493\n",
       "1  6.607274  -6.830407  0.223133\n",
       "2  3.929135  -5.450526  1.521391\n",
       "3  1.872581  -4.222005  2.349425\n",
       "4 -2.668916   2.797617 -0.128700\n",
       "5  5.989396  -8.493247  2.503851\n",
       "6 -1.506299   3.095346 -1.589047\n",
       "7  0.061426  -0.122362  0.060936"
      ]
     },
     "execution_count": 65,
     "metadata": {},
     "output_type": "execute_result"
    }
   ],
   "source": [
    "pd.DataFrame(ma.coef_).T"
   ]
  },
  {
   "cell_type": "markdown",
   "metadata": {},
   "source": [
    "#### acurária"
   ]
  },
  {
   "cell_type": "code",
   "execution_count": 72,
   "metadata": {
    "ExecuteTime": {
     "end_time": "2021-12-18T15:41:37.506983Z",
     "start_time": "2021-12-18T15:41:37.475177Z"
    }
   },
   "outputs": [
    {
     "data": {
      "text/plain": [
       "0.5490430622009569"
      ]
     },
     "execution_count": 72,
     "metadata": {},
     "output_type": "execute_result"
    }
   ],
   "source": [
    "ma.score(X_test, y_test)"
   ]
  },
  {
   "cell_type": "code",
   "execution_count": 75,
   "metadata": {
    "ExecuteTime": {
     "end_time": "2021-12-18T15:42:59.754197Z",
     "start_time": "2021-12-18T15:42:59.727146Z"
    }
   },
   "outputs": [
    {
     "data": {
      "text/plain": [
       "array([[2.15764270e-01, 4.52622188e-01, 3.31613543e-01],\n",
       "       [3.05785903e-01, 3.40526545e-01, 3.53687552e-01],\n",
       "       [4.69308992e-01, 9.80572492e-03, 5.20885283e-01],\n",
       "       ...,\n",
       "       [5.58415028e-01, 6.11268243e-04, 4.40973704e-01],\n",
       "       [9.03178424e-02, 7.14079028e-01, 1.95603130e-01],\n",
       "       [4.56505065e-01, 6.00366203e-02, 4.83458315e-01]])"
      ]
     },
     "execution_count": 75,
     "metadata": {},
     "output_type": "execute_result"
    }
   ],
   "source": [
    "probsexp = np.exp(ma.predict_log_proba(X_test))\n",
    "probsexp"
   ]
  },
  {
   "cell_type": "code",
   "execution_count": 76,
   "metadata": {
    "ExecuteTime": {
     "end_time": "2021-12-18T15:43:35.132437Z",
     "start_time": "2021-12-18T15:43:35.110565Z"
    }
   },
   "outputs": [
    {
     "data": {
      "text/plain": [
       "{'C': 1.0,\n",
       " 'class_weight': None,\n",
       " 'dual': False,\n",
       " 'fit_intercept': True,\n",
       " 'intercept_scaling': 1,\n",
       " 'l1_ratio': None,\n",
       " 'max_iter': 100,\n",
       " 'multi_class': 'multinomial',\n",
       " 'n_jobs': None,\n",
       " 'penalty': 'none',\n",
       " 'random_state': 0,\n",
       " 'solver': 'newton-cg',\n",
       " 'tol': 0.0001,\n",
       " 'verbose': 0,\n",
       " 'warm_start': False}"
      ]
     },
     "execution_count": 76,
     "metadata": {},
     "output_type": "execute_result"
    }
   ],
   "source": [
    "ma.get_params(deep=True)"
   ]
  },
  {
   "cell_type": "code",
   "execution_count": 56,
   "metadata": {
    "ExecuteTime": {
     "end_time": "2021-12-18T15:39:05.556045Z",
     "start_time": "2021-12-18T15:39:05.508612Z"
    }
   },
   "outputs": [],
   "source": [
    "probs1df = pd.DataFrame(probs1, columns = ['M','I','F'])"
   ]
  },
  {
   "cell_type": "code",
   "execution_count": 58,
   "metadata": {
    "ExecuteTime": {
     "end_time": "2021-12-18T15:39:12.096550Z",
     "start_time": "2021-12-18T15:39:12.065399Z"
    }
   },
   "outputs": [
    {
     "data": {
      "text/html": [
       "<div>\n",
       "<style scoped>\n",
       "    .dataframe tbody tr th:only-of-type {\n",
       "        vertical-align: middle;\n",
       "    }\n",
       "\n",
       "    .dataframe tbody tr th {\n",
       "        vertical-align: top;\n",
       "    }\n",
       "\n",
       "    .dataframe thead th {\n",
       "        text-align: right;\n",
       "    }\n",
       "</style>\n",
       "<table border=\"1\" class=\"dataframe\">\n",
       "  <thead>\n",
       "    <tr style=\"text-align: right;\">\n",
       "      <th></th>\n",
       "      <th>M</th>\n",
       "      <th>I</th>\n",
       "      <th>F</th>\n",
       "    </tr>\n",
       "  </thead>\n",
       "  <tbody>\n",
       "    <tr>\n",
       "      <th>0</th>\n",
       "      <td>0.215764</td>\n",
       "      <td>0.452622</td>\n",
       "      <td>0.331614</td>\n",
       "    </tr>\n",
       "    <tr>\n",
       "      <th>1</th>\n",
       "      <td>0.305786</td>\n",
       "      <td>0.340527</td>\n",
       "      <td>0.353688</td>\n",
       "    </tr>\n",
       "    <tr>\n",
       "      <th>2</th>\n",
       "      <td>0.469309</td>\n",
       "      <td>0.009806</td>\n",
       "      <td>0.520885</td>\n",
       "    </tr>\n",
       "    <tr>\n",
       "      <th>3</th>\n",
       "      <td>0.454394</td>\n",
       "      <td>0.091497</td>\n",
       "      <td>0.454108</td>\n",
       "    </tr>\n",
       "    <tr>\n",
       "      <th>4</th>\n",
       "      <td>0.543455</td>\n",
       "      <td>0.000973</td>\n",
       "      <td>0.455572</td>\n",
       "    </tr>\n",
       "    <tr>\n",
       "      <th>...</th>\n",
       "      <td>...</td>\n",
       "      <td>...</td>\n",
       "      <td>...</td>\n",
       "    </tr>\n",
       "    <tr>\n",
       "      <th>831</th>\n",
       "      <td>0.560852</td>\n",
       "      <td>0.001991</td>\n",
       "      <td>0.437157</td>\n",
       "    </tr>\n",
       "    <tr>\n",
       "      <th>832</th>\n",
       "      <td>0.090335</td>\n",
       "      <td>0.731598</td>\n",
       "      <td>0.178067</td>\n",
       "    </tr>\n",
       "    <tr>\n",
       "      <th>833</th>\n",
       "      <td>0.558415</td>\n",
       "      <td>0.000611</td>\n",
       "      <td>0.440974</td>\n",
       "    </tr>\n",
       "    <tr>\n",
       "      <th>834</th>\n",
       "      <td>0.090318</td>\n",
       "      <td>0.714079</td>\n",
       "      <td>0.195603</td>\n",
       "    </tr>\n",
       "    <tr>\n",
       "      <th>835</th>\n",
       "      <td>0.456505</td>\n",
       "      <td>0.060037</td>\n",
       "      <td>0.483458</td>\n",
       "    </tr>\n",
       "  </tbody>\n",
       "</table>\n",
       "<p>836 rows × 3 columns</p>\n",
       "</div>"
      ],
      "text/plain": [
       "            M         I         F\n",
       "0    0.215764  0.452622  0.331614\n",
       "1    0.305786  0.340527  0.353688\n",
       "2    0.469309  0.009806  0.520885\n",
       "3    0.454394  0.091497  0.454108\n",
       "4    0.543455  0.000973  0.455572\n",
       "..        ...       ...       ...\n",
       "831  0.560852  0.001991  0.437157\n",
       "832  0.090335  0.731598  0.178067\n",
       "833  0.558415  0.000611  0.440974\n",
       "834  0.090318  0.714079  0.195603\n",
       "835  0.456505  0.060037  0.483458\n",
       "\n",
       "[836 rows x 3 columns]"
      ]
     },
     "execution_count": 58,
     "metadata": {},
     "output_type": "execute_result"
    }
   ],
   "source": [
    "probs1df"
   ]
  },
  {
   "cell_type": "markdown",
   "metadata": {},
   "source": [
    "### statsmodels"
   ]
  },
  {
   "cell_type": "code",
   "execution_count": 78,
   "metadata": {
    "ExecuteTime": {
     "end_time": "2021-12-18T15:49:57.892890Z",
     "start_time": "2021-12-18T15:49:57.756901Z"
    }
   },
   "outputs": [
    {
     "data": {
      "text/plain": [
       "<statsmodels.discrete.discrete_model.MNLogit at 0x7faec337b290>"
      ]
     },
     "execution_count": 78,
     "metadata": {},
     "output_type": "execute_result"
    },
    {
     "name": "stdout",
     "output_type": "stream",
     "text": [
      "Optimization terminated successfully.\n",
      "         Current function value: 0.850662\n",
      "         Iterations 8\n"
     ]
    }
   ],
   "source": [
    "logit_model=sm.MNLogit(endog = y_train,\n",
    "                       exog = sm.add_constant(X_train))\n",
    "logit_model\n",
    "result=logit_model.fit()"
   ]
  },
  {
   "cell_type": "markdown",
   "metadata": {},
   "source": [
    "#### Utilização de grupo de referência"
   ]
  },
  {
   "cell_type": "code",
   "execution_count": 80,
   "metadata": {
    "ExecuteTime": {
     "end_time": "2021-12-18T15:50:54.582434Z",
     "start_time": "2021-12-18T15:50:54.545654Z"
    }
   },
   "outputs": [
    {
     "name": "stdout",
     "output_type": "stream",
     "text": [
      "                          MNLogit Regression Results                          \n",
      "==============================================================================\n",
      "Dep. Variable:                    sex   No. Observations:                 3341\n",
      "Model:                        MNLogit   Df Residuals:                     3323\n",
      "Method:                           MLE   Df Model:                           16\n",
      "Date:                Sat, 18 Dec 2021   Pseudo R-squ.:                  0.2239\n",
      "Time:                        12:50:54   Log-Likelihood:                -2842.1\n",
      "converged:                       True   LL-Null:                       -3662.2\n",
      "Covariance Type:            nonrobust   LLR p-value:                     0.000\n",
      "=========================================================================================\n",
      "                sex=I       coef    std err          z      P>|z|      [0.025      0.975]\n",
      "-----------------------------------------------------------------------------------------\n",
      "const                     2.8285      0.569      4.968      0.000       1.713       3.944\n",
      "length                   18.3254      3.142      5.832      0.000      12.167      24.484\n",
      "diameter                -13.4377      3.870     -3.472      0.001     -21.023      -5.852\n",
      "height                   -9.3798      3.754     -2.498      0.012     -16.738      -2.021\n",
      "whole_weight             -6.0946      1.973     -3.090      0.002      -9.961      -2.228\n",
      "shucked_weight            5.4665      2.238      2.443      0.015       1.081       9.852\n",
      "viscera_weight          -14.4827      2.981     -4.858      0.000     -20.325      -8.640\n",
      "shell_weight              4.6017      2.874      1.601      0.109      -1.031      10.234\n",
      "class_number_of_rings    -0.1838      0.030     -6.183      0.000      -0.242      -0.126\n",
      "-----------------------------------------------------------------------------------------\n",
      "                sex=M       coef    std err          z      P>|z|      [0.025      0.975]\n",
      "-----------------------------------------------------------------------------------------\n",
      "const                     2.5332      0.484      5.236      0.000       1.585       3.481\n",
      "length                    0.1124      2.133      0.053      0.958      -4.069       4.294\n",
      "diameter                 -6.3842      2.574     -2.480      0.013     -11.429      -1.339\n",
      "height                   -2.4078      1.852     -1.300      0.194      -6.038       1.222\n",
      "whole_weight              0.4768      0.817      0.584      0.559      -1.124       2.078\n",
      "shucked_weight            2.5402      0.974      2.608      0.009       0.631       4.449\n",
      "viscera_weight           -3.4855      1.443     -2.415      0.016      -6.314      -0.657\n",
      "shell_weight             -0.0827      1.285     -0.064      0.949      -2.601       2.436\n",
      "class_number_of_rings    -0.0005      0.018     -0.028      0.978      -0.035       0.034\n",
      "=========================================================================================\n"
     ]
    }
   ],
   "source": [
    "stats1=result.summary()\n",
    "print(stats1)"
   ]
  },
  {
   "cell_type": "code",
   "execution_count": 81,
   "metadata": {
    "ExecuteTime": {
     "end_time": "2021-12-18T15:52:22.379006Z",
     "start_time": "2021-12-18T15:52:22.327454Z"
    }
   },
   "outputs": [
    {
     "name": "stdout",
     "output_type": "stream",
     "text": [
      "                           Results: MNLogit\n",
      "=======================================================================\n",
      "Model:                 MNLogit            Pseudo R-squared:   0.224    \n",
      "Dependent Variable:    sex                AIC:                5720.1255\n",
      "Date:                  2021-12-18 12:52   BIC:                5830.1779\n",
      "No. Observations:      3341               Log-Likelihood:     -2842.1  \n",
      "Df Model:              16                 LL-Null:            -3662.2  \n",
      "Df Residuals:          3323               LLR p-value:        0.0000   \n",
      "Converged:             1.0000             Scale:              1.0000   \n",
      "No. Iterations:        8.0000                                          \n",
      "-----------------------------------------------------------------------\n",
      "       sex = 0         Coef.   Std.Err.    t    P>|t|   [0.025   0.975]\n",
      "-----------------------------------------------------------------------\n",
      "                const   2.8285   0.5693  4.9680 0.0000   1.7126  3.9444\n",
      "               length  18.3254   3.1420  5.8323 0.0000  12.1671 24.4837\n",
      "             diameter -13.4377   3.8703 -3.4720 0.0005 -21.0234 -5.8521\n",
      "               height  -9.3798   3.7544 -2.4984 0.0125 -16.7383 -2.0213\n",
      "         whole_weight  -6.0946   1.9726 -3.0897 0.0020  -9.9607 -2.2284\n",
      "       shucked_weight   5.4665   2.2378  2.4428 0.0146   1.0805  9.8525\n",
      "       viscera_weight -14.4827   2.9809 -4.8584 0.0000 -20.3252 -8.6401\n",
      "         shell_weight   4.6017   2.8737  1.6013 0.1093  -1.0307 10.2340\n",
      "class_number_of_rings  -0.1838   0.0297 -6.1826 0.0000  -0.2421 -0.1255\n",
      "-----------------------------------------------------------------------\n",
      "       sex = 1          Coef.  Std.Err.    t    P>|t|   [0.025   0.975]\n",
      "-----------------------------------------------------------------------\n",
      "                const   2.5332   0.4838  5.2361 0.0000   1.5850  3.4814\n",
      "               length   0.1124   2.1332  0.0527 0.9580  -4.0686  4.2935\n",
      "             diameter  -6.3842   2.5740 -2.4802 0.0131 -11.4292 -1.3392\n",
      "               height  -2.4078   1.8521 -1.3000 0.1936  -6.0378  1.2222\n",
      "         whole_weight   0.4768   0.8170  0.5836 0.5595  -1.1245  2.0782\n",
      "       shucked_weight   2.5402   0.9739  2.6082 0.0091   0.6314  4.4491\n",
      "       viscera_weight  -3.4855   1.4432 -2.4152 0.0157  -6.3141 -0.6570\n",
      "         shell_weight  -0.0827   1.2850 -0.0644 0.9487  -2.6012  2.4357\n",
      "class_number_of_rings  -0.0005   0.0178 -0.0276 0.9780  -0.0353  0.0344\n",
      "=======================================================================\n",
      "\n"
     ]
    }
   ],
   "source": [
    "stats2=result.summary2()\n",
    "print(stats2)"
   ]
  },
  {
   "cell_type": "code",
   "execution_count": 107,
   "metadata": {
    "ExecuteTime": {
     "end_time": "2021-12-18T16:14:14.201683Z",
     "start_time": "2021-12-18T16:14:14.165358Z"
    }
   },
   "outputs": [
    {
     "data": {
      "text/html": [
       "<div>\n",
       "<style scoped>\n",
       "    .dataframe tbody tr th:only-of-type {\n",
       "        vertical-align: middle;\n",
       "    }\n",
       "\n",
       "    .dataframe tbody tr th {\n",
       "        vertical-align: top;\n",
       "    }\n",
       "\n",
       "    .dataframe thead th {\n",
       "        text-align: right;\n",
       "    }\n",
       "</style>\n",
       "<table border=\"1\" class=\"dataframe\">\n",
       "  <thead>\n",
       "    <tr style=\"text-align: right;\">\n",
       "      <th></th>\n",
       "      <th>0</th>\n",
       "      <th>1</th>\n",
       "    </tr>\n",
       "  </thead>\n",
       "  <tbody>\n",
       "    <tr>\n",
       "      <th>const</th>\n",
       "      <td>2.828472</td>\n",
       "      <td>2.533185</td>\n",
       "    </tr>\n",
       "    <tr>\n",
       "      <th>length</th>\n",
       "      <td>18.325373</td>\n",
       "      <td>0.112435</td>\n",
       "    </tr>\n",
       "    <tr>\n",
       "      <th>diameter</th>\n",
       "      <td>-13.437747</td>\n",
       "      <td>-6.384173</td>\n",
       "    </tr>\n",
       "    <tr>\n",
       "      <th>height</th>\n",
       "      <td>-9.379826</td>\n",
       "      <td>-2.407771</td>\n",
       "    </tr>\n",
       "    <tr>\n",
       "      <th>whole_weight</th>\n",
       "      <td>-6.094563</td>\n",
       "      <td>0.476838</td>\n",
       "    </tr>\n",
       "    <tr>\n",
       "      <th>shucked_weight</th>\n",
       "      <td>5.466499</td>\n",
       "      <td>2.540222</td>\n",
       "    </tr>\n",
       "    <tr>\n",
       "      <th>viscera_weight</th>\n",
       "      <td>-14.482651</td>\n",
       "      <td>-3.485534</td>\n",
       "    </tr>\n",
       "    <tr>\n",
       "      <th>shell_weight</th>\n",
       "      <td>4.601655</td>\n",
       "      <td>-0.082733</td>\n",
       "    </tr>\n",
       "    <tr>\n",
       "      <th>class_number_of_rings</th>\n",
       "      <td>-0.183787</td>\n",
       "      <td>-0.000490</td>\n",
       "    </tr>\n",
       "  </tbody>\n",
       "</table>\n",
       "</div>"
      ],
      "text/plain": [
       "                               0         1\n",
       "const                   2.828472  2.533185\n",
       "length                 18.325373  0.112435\n",
       "diameter              -13.437747 -6.384173\n",
       "height                 -9.379826 -2.407771\n",
       "whole_weight           -6.094563  0.476838\n",
       "shucked_weight          5.466499  2.540222\n",
       "viscera_weight        -14.482651 -3.485534\n",
       "shell_weight            4.601655 -0.082733\n",
       "class_number_of_rings  -0.183787 -0.000490"
      ]
     },
     "execution_count": 107,
     "metadata": {},
     "output_type": "execute_result"
    }
   ],
   "source": [
    "params = result.params\n",
    "params"
   ]
  },
  {
   "cell_type": "code",
   "execution_count": 110,
   "metadata": {
    "ExecuteTime": {
     "end_time": "2021-12-18T16:15:38.400252Z",
     "start_time": "2021-12-18T16:15:38.378908Z"
    }
   },
   "outputs": [
    {
     "data": {
      "text/plain": [
       "(3341, 8)"
      ]
     },
     "execution_count": 110,
     "metadata": {},
     "output_type": "execute_result"
    },
    {
     "data": {
      "text/plain": [
       "(836, 8)"
      ]
     },
     "execution_count": 110,
     "metadata": {},
     "output_type": "execute_result"
    }
   ],
   "source": [
    "X_train.shape\n",
    "X_test.shape"
   ]
  },
  {
   "cell_type": "code",
   "execution_count": 128,
   "metadata": {
    "ExecuteTime": {
     "end_time": "2021-12-18T16:21:39.218123Z",
     "start_time": "2021-12-18T16:21:39.191230Z"
    }
   },
   "outputs": [
    {
     "data": {
      "text/html": [
       "<div>\n",
       "<style scoped>\n",
       "    .dataframe tbody tr th:only-of-type {\n",
       "        vertical-align: middle;\n",
       "    }\n",
       "\n",
       "    .dataframe tbody tr th {\n",
       "        vertical-align: top;\n",
       "    }\n",
       "\n",
       "    .dataframe thead th {\n",
       "        text-align: right;\n",
       "    }\n",
       "</style>\n",
       "<table border=\"1\" class=\"dataframe\">\n",
       "  <thead>\n",
       "    <tr style=\"text-align: right;\">\n",
       "      <th></th>\n",
       "      <th>F</th>\n",
       "      <th>I</th>\n",
       "      <th>M</th>\n",
       "    </tr>\n",
       "  </thead>\n",
       "  <tbody>\n",
       "    <tr>\n",
       "      <th>0</th>\n",
       "      <td>0.215764</td>\n",
       "      <td>0.452623</td>\n",
       "      <td>0.331613</td>\n",
       "    </tr>\n",
       "    <tr>\n",
       "      <th>1</th>\n",
       "      <td>0.305786</td>\n",
       "      <td>0.340527</td>\n",
       "      <td>0.353688</td>\n",
       "    </tr>\n",
       "    <tr>\n",
       "      <th>2</th>\n",
       "      <td>0.469309</td>\n",
       "      <td>0.009806</td>\n",
       "      <td>0.520885</td>\n",
       "    </tr>\n",
       "    <tr>\n",
       "      <th>3</th>\n",
       "      <td>0.454394</td>\n",
       "      <td>0.091497</td>\n",
       "      <td>0.454109</td>\n",
       "    </tr>\n",
       "    <tr>\n",
       "      <th>4</th>\n",
       "      <td>0.543455</td>\n",
       "      <td>0.000973</td>\n",
       "      <td>0.455572</td>\n",
       "    </tr>\n",
       "    <tr>\n",
       "      <th>...</th>\n",
       "      <td>...</td>\n",
       "      <td>...</td>\n",
       "      <td>...</td>\n",
       "    </tr>\n",
       "    <tr>\n",
       "      <th>831</th>\n",
       "      <td>0.560852</td>\n",
       "      <td>0.001991</td>\n",
       "      <td>0.437157</td>\n",
       "    </tr>\n",
       "    <tr>\n",
       "      <th>832</th>\n",
       "      <td>0.090335</td>\n",
       "      <td>0.731598</td>\n",
       "      <td>0.178067</td>\n",
       "    </tr>\n",
       "    <tr>\n",
       "      <th>833</th>\n",
       "      <td>0.558415</td>\n",
       "      <td>0.000611</td>\n",
       "      <td>0.440973</td>\n",
       "    </tr>\n",
       "    <tr>\n",
       "      <th>834</th>\n",
       "      <td>0.090318</td>\n",
       "      <td>0.714079</td>\n",
       "      <td>0.195603</td>\n",
       "    </tr>\n",
       "    <tr>\n",
       "      <th>835</th>\n",
       "      <td>0.456505</td>\n",
       "      <td>0.060037</td>\n",
       "      <td>0.483458</td>\n",
       "    </tr>\n",
       "  </tbody>\n",
       "</table>\n",
       "<p>836 rows × 3 columns</p>\n",
       "</div>"
      ],
      "text/plain": [
       "            F         I         M\n",
       "0    0.215764  0.452623  0.331613\n",
       "1    0.305786  0.340527  0.353688\n",
       "2    0.469309  0.009806  0.520885\n",
       "3    0.454394  0.091497  0.454109\n",
       "4    0.543455  0.000973  0.455572\n",
       "..        ...       ...       ...\n",
       "831  0.560852  0.001991  0.437157\n",
       "832  0.090335  0.731598  0.178067\n",
       "833  0.558415  0.000611  0.440973\n",
       "834  0.090318  0.714079  0.195603\n",
       "835  0.456505  0.060037  0.483458\n",
       "\n",
       "[836 rows x 3 columns]"
      ]
     },
     "execution_count": 128,
     "metadata": {},
     "output_type": "execute_result"
    }
   ],
   "source": [
    "probs = logit_model.predict(params = params, exog = sm.add_constant(X_test))\n",
    "probsdf = pd.DataFrame(probs, columns = ['F','I','M'])\n",
    "probsdf"
   ]
  },
  {
   "cell_type": "code",
   "execution_count": 130,
   "metadata": {
    "ExecuteTime": {
     "end_time": "2021-12-18T16:27:09.272961Z",
     "start_time": "2021-12-18T16:27:09.254905Z"
    }
   },
   "outputs": [],
   "source": [
    "preds = probsdf.idxmax(axis=1)"
   ]
  },
  {
   "cell_type": "code",
   "execution_count": 132,
   "metadata": {
    "ExecuteTime": {
     "end_time": "2021-12-18T16:27:24.293471Z",
     "start_time": "2021-12-18T16:27:24.261105Z"
    }
   },
   "outputs": [
    {
     "data": {
      "text/plain": [
       "array([[ 88,  44, 138],\n",
       "       [ 15, 210,  35],\n",
       "       [ 79,  66, 161]])"
      ]
     },
     "execution_count": 132,
     "metadata": {},
     "output_type": "execute_result"
    },
    {
     "data": {
      "text/html": [
       "<div>\n",
       "<style scoped>\n",
       "    .dataframe tbody tr th:only-of-type {\n",
       "        vertical-align: middle;\n",
       "    }\n",
       "\n",
       "    .dataframe tbody tr th {\n",
       "        vertical-align: top;\n",
       "    }\n",
       "\n",
       "    .dataframe thead th {\n",
       "        text-align: right;\n",
       "    }\n",
       "</style>\n",
       "<table border=\"1\" class=\"dataframe\">\n",
       "  <thead>\n",
       "    <tr style=\"text-align: right;\">\n",
       "      <th></th>\n",
       "      <th>predicted_Female</th>\n",
       "      <th>predicted_Infant</th>\n",
       "      <th>predicted_Male</th>\n",
       "    </tr>\n",
       "  </thead>\n",
       "  <tbody>\n",
       "    <tr>\n",
       "      <th>Female</th>\n",
       "      <td>88</td>\n",
       "      <td>44</td>\n",
       "      <td>138</td>\n",
       "    </tr>\n",
       "    <tr>\n",
       "      <th>Infant</th>\n",
       "      <td>15</td>\n",
       "      <td>210</td>\n",
       "      <td>35</td>\n",
       "    </tr>\n",
       "    <tr>\n",
       "      <th>Male</th>\n",
       "      <td>79</td>\n",
       "      <td>66</td>\n",
       "      <td>161</td>\n",
       "    </tr>\n",
       "  </tbody>\n",
       "</table>\n",
       "</div>"
      ],
      "text/plain": [
       "        predicted_Female  predicted_Infant  predicted_Male\n",
       "Female                88                44             138\n",
       "Infant                15               210              35\n",
       "Male                  79                66             161"
      ]
     },
     "execution_count": 132,
     "metadata": {},
     "output_type": "execute_result"
    }
   ],
   "source": [
    "#Create a confusion matrix\n",
    "#y_test as first argument and the preds as second argument \n",
    "cm = confusion_matrix(y_test, preds)\n",
    "cm\n",
    "\n",
    "#transform confusion matrix into array\n",
    "#the matrix is stored in a vaiable called confmtrx\n",
    "confmtrx = np.array(cm)\n",
    "#Create DataFrame from confmtrx array \n",
    "#rows for test: Male, Female, Infant designation as index \n",
    "#columns for preds: male, predicted_female, predicted_infant as column\n",
    "\n",
    "pd.DataFrame(confmtrx, index=['Female','Infant', 'Male'],\n",
    "columns=['predicted_Female', 'predicted_Infant', 'predicted_Male'])"
   ]
  },
  {
   "cell_type": "code",
   "execution_count": 135,
   "metadata": {
    "ExecuteTime": {
     "end_time": "2021-12-18T16:28:28.764892Z",
     "start_time": "2021-12-18T16:28:28.741853Z"
    }
   },
   "outputs": [
    {
     "name": "stdout",
     "output_type": "stream",
     "text": [
      "Accuracy Score: 0.5490430622009569\n"
     ]
    }
   ],
   "source": [
    "#Accuracy statistics\n",
    "print('Accuracy Score:', metrics.accuracy_score(y_test, preds))  "
   ]
  },
  {
   "cell_type": "code",
   "execution_count": 136,
   "metadata": {
    "ExecuteTime": {
     "end_time": "2021-12-18T16:28:29.423231Z",
     "start_time": "2021-12-18T16:28:29.361847Z"
    }
   },
   "outputs": [
    {
     "name": "stdout",
     "output_type": "stream",
     "text": [
      "              precision    recall  f1-score   support\n",
      "\n",
      "           F       0.48      0.33      0.39       270\n",
      "           I       0.66      0.81      0.72       260\n",
      "           M       0.48      0.53      0.50       306\n",
      "\n",
      "    accuracy                           0.55       836\n",
      "   macro avg       0.54      0.55      0.54       836\n",
      "weighted avg       0.54      0.55      0.54       836\n",
      "\n"
     ]
    }
   ],
   "source": [
    "#Create classification report\n",
    "class_report=classification_report(y_test, preds)\n",
    "print(class_report)"
   ]
  },
  {
   "cell_type": "markdown",
   "metadata": {},
   "source": [
    "# Metrics plot"
   ]
  },
  {
   "cell_type": "code",
   "execution_count": 182,
   "metadata": {
    "ExecuteTime": {
     "end_time": "2021-12-18T16:46:12.456349Z",
     "start_time": "2021-12-18T16:46:12.415677Z"
    }
   },
   "outputs": [],
   "source": [
    "from sklearn.metrics import roc_auc_score, roc_curve, auc\n",
    "from scipy import interp"
   ]
  },
  {
   "cell_type": "code",
   "execution_count": 155,
   "metadata": {
    "ExecuteTime": {
     "end_time": "2021-12-18T16:39:33.942648Z",
     "start_time": "2021-12-18T16:39:33.917428Z"
    }
   },
   "outputs": [],
   "source": [
    "n_classes = y.nunique()"
   ]
  },
  {
   "cell_type": "code",
   "execution_count": 156,
   "metadata": {
    "ExecuteTime": {
     "end_time": "2021-12-18T16:39:34.263749Z",
     "start_time": "2021-12-18T16:39:34.234712Z"
    }
   },
   "outputs": [],
   "source": [
    "y_test_one = np.array(pd.get_dummies(y_test))"
   ]
  },
  {
   "cell_type": "code",
   "execution_count": 163,
   "metadata": {
    "ExecuteTime": {
     "end_time": "2021-12-18T16:40:44.423021Z",
     "start_time": "2021-12-18T16:40:44.398899Z"
    }
   },
   "outputs": [],
   "source": [
    "# Compute ROC curve and ROC area for each class\n",
    "fpr = dict()\n",
    "tpr = dict()\n",
    "thres = dict()\n",
    "roc_auc = dict()\n",
    "for i in range(n_classes):\n",
    "    fpr[i], tpr[i], thres[i] = roc_curve(y_test_one[:, i], probs[:, i])\n",
    "    roc_auc[i] = auc(fpr[i], tpr[i])"
   ]
  },
  {
   "cell_type": "markdown",
   "metadata": {},
   "source": [
    "### Calcular a curva roc_auc micro, ponderada então pela quantidade existente em cada classe"
   ]
  },
  {
   "cell_type": "code",
   "execution_count": 225,
   "metadata": {
    "ExecuteTime": {
     "end_time": "2021-12-18T17:08:25.275470Z",
     "start_time": "2021-12-18T17:08:25.252571Z"
    }
   },
   "outputs": [
    {
     "data": {
      "text/plain": [
       "array([[0, 0, 1],\n",
       "       [1, 0, 0],\n",
       "       [1, 0, 0],\n",
       "       ...,\n",
       "       [0, 0, 1],\n",
       "       [0, 1, 0],\n",
       "       [0, 1, 0]], dtype=uint8)"
      ]
     },
     "execution_count": 225,
     "metadata": {},
     "output_type": "execute_result"
    }
   ],
   "source": [
    "y_test_one"
   ]
  },
  {
   "cell_type": "code",
   "execution_count": 226,
   "metadata": {
    "ExecuteTime": {
     "end_time": "2021-12-18T17:08:32.886312Z",
     "start_time": "2021-12-18T17:08:32.865106Z"
    }
   },
   "outputs": [
    {
     "data": {
      "text/plain": [
       "array([[2.15763933e-01, 4.52622731e-01, 3.31613335e-01],\n",
       "       [3.05785940e-01, 3.40526546e-01, 3.53687515e-01],\n",
       "       [4.69308754e-01, 9.80576393e-03, 5.20885482e-01],\n",
       "       ...,\n",
       "       [5.58415422e-01, 6.11268305e-04, 4.40973309e-01],\n",
       "       [9.03177912e-02, 7.14079112e-01, 1.95603097e-01],\n",
       "       [4.56505275e-01, 6.00365154e-02, 4.83458209e-01]])"
      ]
     },
     "execution_count": 226,
     "metadata": {},
     "output_type": "execute_result"
    }
   ],
   "source": [
    "probs"
   ]
  },
  {
   "cell_type": "code",
   "execution_count": 229,
   "metadata": {
    "ExecuteTime": {
     "end_time": "2021-12-18T17:11:14.016434Z",
     "start_time": "2021-12-18T17:11:13.985125Z"
    }
   },
   "outputs": [],
   "source": [
    "# Compute micro-average ROC curve and ROC area\n",
    "# Perceba que o número de amostras existentes em cada classe fará diferença, afinal serão \n",
    "# diferentes matrizes de confusão produzidas\n",
    "fpr_micro, tpr_micro, _ = roc_curve(y_test_one.ravel(), probs.ravel())\n",
    "roc_auc_micro= auc(fpr_micro, tpr_micro)"
   ]
  },
  {
   "cell_type": "markdown",
   "metadata": {},
   "source": [
    "### Calcular a curva roc_auc média 'macro'"
   ]
  },
  {
   "cell_type": "markdown",
   "metadata": {},
   "source": [
    "#### Interpolação"
   ]
  },
  {
   "cell_type": "code",
   "execution_count": 218,
   "metadata": {
    "ExecuteTime": {
     "end_time": "2021-12-18T17:04:56.629038Z",
     "start_time": "2021-12-18T17:04:56.590490Z"
    }
   },
   "outputs": [],
   "source": [
    "# First aggregate all false positive rates\n",
    "all_fpr = np.unique(np.concatenate([fpr[i] for i in range(n_classes)]))"
   ]
  },
  {
   "cell_type": "code",
   "execution_count": 219,
   "metadata": {
    "ExecuteTime": {
     "end_time": "2021-12-18T17:04:56.941810Z",
     "start_time": "2021-12-18T17:04:56.923688Z"
    }
   },
   "outputs": [],
   "source": [
    "# Then interpolate all ROC curves at this points\n",
    "mean_tpr = np.zeros_like(all_fpr)\n",
    "# Obter TRP pela interpolação entre as curvas\n",
    "for i in range(n_classes):\n",
    "    mean_tpr += interp(all_fpr, fpr[i], tpr[i])"
   ]
  },
  {
   "cell_type": "code",
   "execution_count": 223,
   "metadata": {
    "ExecuteTime": {
     "end_time": "2021-12-18T17:07:45.865524Z",
     "start_time": "2021-12-18T17:07:45.846448Z"
    }
   },
   "outputs": [],
   "source": [
    "fpr_macro = all_fpr\n",
    "# Ponderar pelas 3 classes\n",
    "# Desta forma é ponderação simples, e não considerando o quanto tem de cada classe\n",
    "tpr_macro = mean_tpr/ n_classes"
   ]
  },
  {
   "cell_type": "code",
   "execution_count": 230,
   "metadata": {
    "ExecuteTime": {
     "end_time": "2021-12-18T17:11:38.134667Z",
     "start_time": "2021-12-18T17:11:38.111965Z"
    }
   },
   "outputs": [],
   "source": [
    "roc_auc_macro = auc(fpr_macro, tpr_macro)"
   ]
  },
  {
   "cell_type": "code",
   "execution_count": 231,
   "metadata": {
    "ExecuteTime": {
     "end_time": "2021-12-18T17:12:08.630626Z",
     "start_time": "2021-12-18T17:12:08.394575Z"
    }
   },
   "outputs": [
    {
     "data": {
      "image/png": "[encoded data removed]",
      "text/plain": [
       "<Figure size 1600x1000 with 1 Axes>"
      ]
     },
     "metadata": {},
     "output_type": "display_data"
    }
   ],
   "source": [
    "fg(w = 8, h = 5, dpi = 200)\n",
    "plt.plot([0,1],[0,1], '--');\n",
    "plt.plot(fpr[0], tpr[0], label = 'F - area = {0:0.2f}'.format(roc_auc[0]));\n",
    "plt.plot(fpr[1], tpr[1], label = 'I - area = {0:0.2f}'.format(roc_auc[1]));\n",
    "plt.plot(fpr[2], tpr[2], label = 'M - area = {0:0.2f}'.format(roc_auc[2]));\n",
    "plt.plot(fpr_macro, tpr_macro, label = 'macro - area = {0:0.2f}'.format(roc_auc_macro))\n",
    "plt.plot(fpr_micro, tpr_micro, label = 'micro - area = {0:0.2f}'.format(roc_auc_micro))\n",
    "plt.xlabel('FPR')\n",
    "plt.ylabel('TPR')\n",
    "plt.legend();\n",
    "plt.show();"
   ]
  },
  {
   "cell_type": "code",
   "execution_count": null,
   "metadata": {},
   "outputs": [],
   "source": [
    "for i in range(n_classes):\n",
    "    mean_tpr += interp(all_fpr, fpr[i], tpr[i])"
   ]
  },
  {
   "cell_type": "code",
   "execution_count": null,
   "metadata": {},
   "outputs": [],
   "source": [
    "# Finally average it and compute AUC\n",
    "mean_tpr /= n_classes\n",
    "\n",
    "fpr[\"macro\"] = all_fpr\n",
    "tpr[\"macro\"] = mean_tpr\n",
    "roc_auc[\"macro\"] = auc(fpr[\"macro\"], tpr[\"macro\"])"
   ]
  },
  {
   "cell_type": "markdown",
   "metadata": {},
   "source": [
    "### Brier score loss"
   ]
  },
  {
   "cell_type": "code",
   "execution_count": 232,
   "metadata": {
    "ExecuteTime": {
     "end_time": "2021-12-18T17:15:43.648703Z",
     "start_time": "2021-12-18T17:15:43.615784Z"
    }
   },
   "outputs": [],
   "source": [
    "from sklearn.metrics import brier_score_loss"
   ]
  },
  {
   "cell_type": "code",
   "execution_count": 265,
   "metadata": {
    "ExecuteTime": {
     "end_time": "2021-12-18T17:32:41.888439Z",
     "start_time": "2021-12-18T17:32:41.683403Z"
    }
   },
   "outputs": [],
   "source": [
    "predictions = probs[:,0]\n",
    "testy = y_test_one[:,0]\n",
    "losses = [\n",
    "    brier_score_loss(\n",
    "    testy,\n",
    "    [y for x in range(len(testy))]) for y in predictions\n",
    "]"
   ]
  },
  {
   "cell_type": "code",
   "execution_count": 269,
   "metadata": {
    "ExecuteTime": {
     "end_time": "2021-12-18T17:35:43.703003Z",
     "start_time": "2021-12-18T17:35:43.675815Z"
    }
   },
   "outputs": [],
   "source": [
    "brierdf = pd.DataFrame({'real':testy,'predictions':predictions,'brier':losses})"
   ]
  },
  {
   "cell_type": "code",
   "execution_count": 270,
   "metadata": {
    "ExecuteTime": {
     "end_time": "2021-12-18T17:35:49.372525Z",
     "start_time": "2021-12-18T17:35:49.117842Z"
    }
   },
   "outputs": [
    {
     "data": {
      "image/png": "[encoded data removed]",
      "text/plain": [
       "<Figure size 1600x1000 with 1 Axes>"
      ]
     },
     "metadata": {},
     "output_type": "display_data"
    }
   ],
   "source": [
    "sns.scatterplot(x = predictions, y = losses, hue = testy);\n",
    "plt.xlabel('Predições');\n",
    "plt.ylabel('Brier');\n",
    "plt.show();"
   ]
  },
  {
   "cell_type": "code",
   "execution_count": null,
   "metadata": {},
   "outputs": [],
   "source": [
    "plt.scatter(predictions, losses)\n",
    "plt.xlabel('Predictions')\n",
    "plt.ylabel('Erros')"
   ]
  }
 ],
 "metadata": {
  "kernelspec": {
   "display_name": "Python 3",
   "language": "python",
   "name": "python3"
  },
  "language_info": {
   "codemirror_mode": {
    "name": "ipython",
    "version": 3
   },
   "file_extension": ".py",
   "mimetype": "text/x-python",
   "name": "python",
   "nbconvert_exporter": "python",
   "pygments_lexer": "ipython3",
   "version": "3.7.6"
  },
  "toc": {
   "base_numbering": 1,
   "nav_menu": {},
   "number_sections": true,
   "sideBar": true,
   "skip_h1_title": false,
   "title_cell": "Table of Contents",
   "title_sidebar": "Contents",
   "toc_cell": false,
   "toc_position": {},
   "toc_section_display": true,
   "toc_window_display": false
  },
  "varInspector": {
   "cols": {
    "lenName": 16,
    "lenType": 16,
    "lenVar": 40
   },
   "kernels_config": {
    "python": {
     "delete_cmd_postfix": "",
     "delete_cmd_prefix": "del ",
     "library": "var_list.py",
     "varRefreshCmd": "print(var_dic_list())"
    },
    "r": {
     "delete_cmd_postfix": ") ",
     "delete_cmd_prefix": "rm(",
     "library": "var_list.r",
     "varRefreshCmd": "cat(var_dic_list()) "
    }
   },
   "types_to_exclude": [
    "module",
    "function",
    "builtin_function_or_method",
    "instance",
    "_Feature"
   ],
   "window_display": false
  }
 },
 "nbformat": 4,
 "nbformat_minor": 4
}
