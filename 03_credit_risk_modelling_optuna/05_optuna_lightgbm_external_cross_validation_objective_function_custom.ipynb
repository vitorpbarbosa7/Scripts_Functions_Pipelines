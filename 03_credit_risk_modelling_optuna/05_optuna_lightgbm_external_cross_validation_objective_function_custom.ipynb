{
 "cells": [
  {
   "cell_type": "markdown",
   "metadata": {},
   "source": [
    "# Boilerplate"
   ]
  },
  {
   "cell_type": "code",
   "execution_count": 1,
   "metadata": {
    "ExecuteTime": {
     "end_time": "2023-03-01T11:28:06.176337Z",
     "start_time": "2023-03-01T11:28:04.679185Z"
    }
   },
   "outputs": [
    {
     "name": "stderr",
     "output_type": "stream",
     "text": [
      "/Users/vpb/anaconda3/envs/ds/lib/python3.8/site-packages/tqdm/auto.py:22: TqdmWarning: IProgress not found. Please update jupyter and ipywidgets. See https://ipywidgets.readthedocs.io/en/stable/user_install.html\n",
      "  from .autonotebook import tqdm as notebook_tqdm\n"
     ]
    }
   ],
   "source": [
    "%load_ext autoreload\n",
    "%autoreload\n",
    "\n",
    "import pandas as pd \n",
    "import matplotlib.pyplot as plt \n",
    "import numpy as np\n",
    "import seaborn as sns\n",
    "import scipy.stats as stats\n",
    "import statsmodels.stats.api as sms\n",
    "import json\n",
    "import optuna\n",
    "\n",
    "from IPython.display import display\n",
    "from IPython.display import Markdown as md\n",
    "from IPython.core.interactiveshell import InteractiveShell\n",
    "InteractiveShell.ast_node_interactivity = \"all\"\n",
    "\n",
    "def f():\n",
    "    pd.set_option('display.max_columns', None)\n",
    "    pd.set_option('display.max_rows', None)\n",
    "    \n",
    "def nf():\n",
    "    pd.set_option('display.max_columns', None)\n",
    "    pd.set_option('display.max_rows', 4)\n",
    "nf()\n",
    "import warnings\n",
    "warnings.filterwarnings('ignore')\n",
    "\n",
    "def dp(df, r = 5, c = None):\n",
    "    from IPython.display import display\n",
    "    with pd.option_context('display.max_rows', 4, 'display.max_columns', None):\n",
    "        display(df)\n",
    "\n",
    "def fg(w = 6, h = 4, dpi = 120):\n",
    "    plt.rcParams['figure.figsize'] = (w,h)\n",
    "    plt.rcParams['figure.dpi'] = dpi\n",
    "fg()"
   ]
  },
  {
   "cell_type": "code",
   "execution_count": 2,
   "metadata": {
    "ExecuteTime": {
     "end_time": "2023-03-01T11:28:06.305161Z",
     "start_time": "2023-03-01T11:28:06.177816Z"
    }
   },
   "outputs": [],
   "source": [
    "from libs.pipeline import Pipe\n",
    "import lightgbm as lgb"
   ]
  },
  {
   "cell_type": "code",
   "execution_count": 3,
   "metadata": {
    "ExecuteTime": {
     "end_time": "2023-03-01T11:28:06.400704Z",
     "start_time": "2023-03-01T11:28:06.306294Z"
    }
   },
   "outputs": [],
   "source": [
    "df = pd.read_csv(\"data/UCI_Credit_Card.csv\")\n",
    "\n",
    "df.columns = df.columns.str.lower()\n",
    "\n",
    "df = df.drop('id', axis = 1)\n",
    "\n",
    "df = df.rename(columns = {'default.payment.next.month':'target'})\n",
    "\n",
    "df.to_parquet('data/df_to_feature_selection.parquet', index = False)"
   ]
  },
  {
   "cell_type": "code",
   "execution_count": 4,
   "metadata": {
    "ExecuteTime": {
     "end_time": "2023-03-01T11:28:06.417194Z",
     "start_time": "2023-03-01T11:28:06.402598Z"
    }
   },
   "outputs": [],
   "source": [
    "from sklearn.model_selection import KFold\n",
    "\n",
    "target_var = 'target'\n",
    "X = df.drop(target_var, axis = 1)\n",
    "y = df[target_var]\n",
    "\n",
    "kf = KFold(n_splits=3, shuffle=True, random_state=0)\n",
    "train_scores = []\n",
    "test_scores = []\n",
    "for train_index, test_index in kf.split(X):\n",
    "    X_train , X_test = X.iloc[train_index,:],X.iloc[test_index,:]\n",
    "    y_train , y_test = y[train_index] , y[test_index]"
   ]
  },
  {
   "cell_type": "markdown",
   "metadata": {},
   "source": [
    "# Optuna"
   ]
  },
  {
   "cell_type": "code",
   "execution_count": 8,
   "metadata": {
    "ExecuteTime": {
     "end_time": "2023-03-01T11:28:37.275102Z",
     "start_time": "2023-03-01T11:28:37.271120Z"
    }
   },
   "outputs": [],
   "source": [
    "from libs.tuning_cv import Tuning"
   ]
  },
  {
   "cell_type": "code",
   "execution_count": 9,
   "metadata": {
    "ExecuteTime": {
     "end_time": "2023-03-01T11:28:37.466080Z",
     "start_time": "2023-03-01T11:28:37.460936Z"
    },
    "scrolled": false
   },
   "outputs": [],
   "source": [
    "tuning = Tuning(df,\n",
    "                target_var = 'target', \n",
    "                n_trials = 2,\n",
    "                metric='f1_score',\n",
    "                direction = 'maximize')"
   ]
  },
  {
   "cell_type": "code",
   "execution_count": 10,
   "metadata": {
    "ExecuteTime": {
     "end_time": "2023-03-01T11:28:41.009112Z",
     "start_time": "2023-03-01T11:28:37.962090Z"
    },
    "scrolled": false
   },
   "outputs": [
    {
     "name": "stderr",
     "output_type": "stream",
     "text": [
      "\u001b[32m[I 2023-03-01 08:28:37,963]\u001b[0m A new study created in memory with name: no-name-95467fa9-b2ef-4596-80d8-b94771d06142\u001b[0m\n"
     ]
    },
    {
     "name": "stdout",
     "output_type": "stream",
     "text": [
      "Cross validation - 1\n",
      "Calculating optuna final objective metrics\n",
      "[1 1 0 ... 0 1 0]\n",
      "final first cross validation\n",
      "Cross validation - 2\n",
      "[LightGBM] [Warning] boosting is set=dart, boosting_type=gbdt will be ignored. Current value: boosting=dart\n",
      "[LightGBM] [Warning] bagging_freq is set=6, subsample_freq=0 will be ignored. Current value: bagging_freq=6\n",
      "[LightGBM] [Warning] lambda_l1 is set=0, reg_alpha=0.0 will be ignored. Current value: lambda_l1=0\n",
      "[LightGBM] [Warning] feature_fraction is set=0.4, colsample_bytree=1.0 will be ignored. Current value: feature_fraction=0.4\n",
      "[LightGBM] [Warning] bagging_fraction is set=0.2, subsample=1.0 will be ignored. Current value: bagging_fraction=0.2\n",
      "[LightGBM] [Warning] lambda_l2 is set=10, reg_lambda=0.0 will be ignored. Current value: lambda_l2=10\n",
      "Calculating optuna final objective metrics\n",
      "[0 0 0 ... 1 1 1]\n",
      "final first cross validation\n",
      "Cross validation - 3\n",
      "[LightGBM] [Warning] boosting is set=dart, boosting_type=gbdt will be ignored. Current value: boosting=dart\n",
      "[LightGBM] [Warning] bagging_freq is set=6, subsample_freq=0 will be ignored. Current value: bagging_freq=6\n",
      "[LightGBM] [Warning] lambda_l1 is set=0, reg_alpha=0.0 will be ignored. Current value: lambda_l1=0\n",
      "[LightGBM] [Warning] feature_fraction is set=0.4, colsample_bytree=1.0 will be ignored. Current value: feature_fraction=0.4\n",
      "[LightGBM] [Warning] bagging_fraction is set=0.2, subsample=1.0 will be ignored. Current value: bagging_fraction=0.2\n",
      "[LightGBM] [Warning] lambda_l2 is set=10, reg_lambda=0.0 will be ignored. Current value: lambda_l2=10\n"
     ]
    },
    {
     "name": "stderr",
     "output_type": "stream",
     "text": [
      "\u001b[32m[I 2023-03-01 08:28:39,603]\u001b[0m Trial 0 finished with value: 0.429889111041941 and parameters: {'boosting': 'dart', 'n_estimators': 110, 'learning_rate': 0.06999999999999999, 'max_depth': 7, 'num_leaves': 20, 'lambda_l1': 0, 'lambda_l2': 10, 'bagging_fraction': 0.2, 'bagging_freq': 6, 'feature_fraction': 0.4}. Best is trial 0 with value: 0.429889111041941.\u001b[0m\n"
     ]
    },
    {
     "name": "stdout",
     "output_type": "stream",
     "text": [
      "Calculating optuna final objective metrics\n",
      "[1 1 0 ... 1 1 1]\n",
      "final first cross validation\n",
      "Cross validation - 1\n",
      "[LightGBM] [Warning] boosting is set=dart, boosting_type=gbdt will be ignored. Current value: boosting=dart\n",
      "[LightGBM] [Warning] bagging_freq is set=11, subsample_freq=0 will be ignored. Current value: bagging_freq=11\n",
      "[LightGBM] [Warning] lambda_l1 is set=40, reg_alpha=0.0 will be ignored. Current value: lambda_l1=40\n",
      "[LightGBM] [Warning] feature_fraction is set=0.5, colsample_bytree=1.0 will be ignored. Current value: feature_fraction=0.5\n",
      "[LightGBM] [Warning] bagging_fraction is set=0.5, subsample=1.0 will be ignored. Current value: bagging_fraction=0.5\n",
      "[LightGBM] [Warning] lambda_l2 is set=80, reg_lambda=0.0 will be ignored. Current value: lambda_l2=80\n",
      "Calculating optuna final objective metrics\n",
      "[1 1 0 ... 0 1 0]\n",
      "final first cross validation\n",
      "Cross validation - 2\n",
      "[LightGBM] [Warning] boosting is set=dart, boosting_type=gbdt will be ignored. Current value: boosting=dart\n",
      "[LightGBM] [Warning] bagging_freq is set=11, subsample_freq=0 will be ignored. Current value: bagging_freq=11\n",
      "[LightGBM] [Warning] lambda_l1 is set=40, reg_alpha=0.0 will be ignored. Current value: lambda_l1=40\n",
      "[LightGBM] [Warning] feature_fraction is set=0.5, colsample_bytree=1.0 will be ignored. Current value: feature_fraction=0.5\n",
      "[LightGBM] [Warning] bagging_fraction is set=0.5, subsample=1.0 will be ignored. Current value: bagging_fraction=0.5\n",
      "[LightGBM] [Warning] lambda_l2 is set=80, reg_lambda=0.0 will be ignored. Current value: lambda_l2=80\n",
      "Calculating optuna final objective metrics\n",
      "[0 0 0 ... 1 1 1]\n",
      "final first cross validation\n",
      "Cross validation - 3\n",
      "[LightGBM] [Warning] boosting is set=dart, boosting_type=gbdt will be ignored. Current value: boosting=dart\n",
      "[LightGBM] [Warning] bagging_freq is set=11, subsample_freq=0 will be ignored. Current value: bagging_freq=11\n",
      "[LightGBM] [Warning] lambda_l1 is set=40, reg_alpha=0.0 will be ignored. Current value: lambda_l1=40\n",
      "[LightGBM] [Warning] feature_fraction is set=0.5, colsample_bytree=1.0 will be ignored. Current value: feature_fraction=0.5\n",
      "[LightGBM] [Warning] bagging_fraction is set=0.5, subsample=1.0 will be ignored. Current value: bagging_fraction=0.5\n",
      "[LightGBM] [Warning] lambda_l2 is set=80, reg_lambda=0.0 will be ignored. Current value: lambda_l2=80\n"
     ]
    },
    {
     "name": "stderr",
     "output_type": "stream",
     "text": [
      "\u001b[32m[I 2023-03-01 08:28:41,003]\u001b[0m Trial 1 finished with value: 0.4106941180257782 and parameters: {'boosting': 'dart', 'n_estimators': 150, 'learning_rate': 0.06999999999999999, 'max_depth': 3, 'num_leaves': 35, 'lambda_l1': 40, 'lambda_l2': 80, 'bagging_fraction': 0.5, 'bagging_freq': 11, 'feature_fraction': 0.5}. Best is trial 0 with value: 0.429889111041941.\u001b[0m\n"
     ]
    },
    {
     "name": "stdout",
     "output_type": "stream",
     "text": [
      "Calculating optuna final objective metrics\n",
      "[1 1 0 ... 1 1 1]\n",
      "final first cross validation\n"
     ]
    },
    {
     "data": {
      "text/plain": [
       "<optuna.study.study.Study at 0x7fbfc8434190>"
      ]
     },
     "execution_count": 10,
     "metadata": {},
     "output_type": "execute_result"
    }
   ],
   "source": [
    "tuning.exec()"
   ]
  },
  {
   "cell_type": "code",
   "execution_count": 13,
   "metadata": {
    "ExecuteTime": {
     "end_time": "2023-03-01T11:28:49.066763Z",
     "start_time": "2023-03-01T11:28:49.060083Z"
    }
   },
   "outputs": [
    {
     "data": {
      "text/plain": [
       "{'boosting': 'dart',\n",
       " 'n_estimators': 110,\n",
       " 'learning_rate': 0.06999999999999999,\n",
       " 'max_depth': 7,\n",
       " 'num_leaves': 20,\n",
       " 'lambda_l1': 0,\n",
       " 'lambda_l2': 10,\n",
       " 'bagging_fraction': 0.2,\n",
       " 'bagging_freq': 6,\n",
       " 'feature_fraction': 0.4}"
      ]
     },
     "execution_count": 13,
     "metadata": {},
     "output_type": "execute_result"
    }
   ],
   "source": [
    "bestparams = tuning.study.best_params\n",
    "\n",
    "bestparams"
   ]
  },
  {
   "cell_type": "code",
   "execution_count": null,
   "metadata": {
    "ExecuteTime": {
     "end_time": "2023-03-01T11:28:31.092855Z",
     "start_time": "2023-03-01T11:28:31.092845Z"
    }
   },
   "outputs": [],
   "source": [
    "baseparams = ma.model.get_params()"
   ]
  },
  {
   "cell_type": "code",
   "execution_count": null,
   "metadata": {
    "ExecuteTime": {
     "end_time": "2023-03-01T11:28:31.093576Z",
     "start_time": "2023-03-01T11:28:31.093568Z"
    }
   },
   "outputs": [],
   "source": [
    "best = lgb.LGBMClassifier().set_params(**bestparams)\n",
    "\n",
    "mbest = Pipe(df, target_var = 'target', model = best)\n",
    "\n",
    "mbest.popin.scores\n",
    "\n",
    "mbest.oos.scores"
   ]
  },
  {
   "cell_type": "code",
   "execution_count": null,
   "metadata": {
    "ExecuteTime": {
     "end_time": "2023-03-01T11:28:31.094157Z",
     "start_time": "2023-03-01T11:28:31.094150Z"
    }
   },
   "outputs": [],
   "source": [
    "base = lgb.LGBMClassifier().set_params(**baseparams)\n",
    "\n",
    "mbase = Pipe(df, target_var = 'target', model = base)\n",
    "\n",
    "mbase.popin.scores\n",
    "\n",
    "mbase.oos.scores"
   ]
  },
  {
   "cell_type": "code",
   "execution_count": null,
   "metadata": {
    "ExecuteTime": {
     "end_time": "2023-03-01T11:28:31.095094Z",
     "start_time": "2023-03-01T11:28:31.095086Z"
    }
   },
   "outputs": [],
   "source": [
    "optuna.visualization.plot_param_importances(tuning.study)"
   ]
  },
  {
   "cell_type": "code",
   "execution_count": null,
   "metadata": {
    "ExecuteTime": {
     "end_time": "2023-03-01T11:28:31.096017Z",
     "start_time": "2023-03-01T11:28:31.096009Z"
    }
   },
   "outputs": [],
   "source": [
    "optuna.visualization.plot_optimization_history(tuning.study)"
   ]
  },
  {
   "cell_type": "code",
   "execution_count": null,
   "metadata": {
    "ExecuteTime": {
     "end_time": "2023-03-01T11:28:31.096702Z",
     "start_time": "2023-03-01T11:28:31.096695Z"
    }
   },
   "outputs": [],
   "source": [
    "optuna.visualization.plot_intermediate_values(tuning.study)"
   ]
  },
  {
   "cell_type": "code",
   "execution_count": null,
   "metadata": {
    "ExecuteTime": {
     "end_time": "2023-03-01T11:28:31.097454Z",
     "start_time": "2023-03-01T11:28:31.097446Z"
    }
   },
   "outputs": [],
   "source": [
    "optuna.visualization.plot_slice(tuning.study)"
   ]
  },
  {
   "cell_type": "code",
   "execution_count": null,
   "metadata": {
    "ExecuteTime": {
     "end_time": "2023-03-01T11:28:31.098182Z",
     "start_time": "2023-03-01T11:28:31.098175Z"
    }
   },
   "outputs": [],
   "source": [
    "optuna.visualization.plot_contour(tuning.study)"
   ]
  },
  {
   "cell_type": "code",
   "execution_count": null,
   "metadata": {
    "ExecuteTime": {
     "end_time": "2023-03-01T11:28:31.099270Z",
     "start_time": "2023-03-01T11:28:31.099262Z"
    }
   },
   "outputs": [],
   "source": [
    "optuna.visualization.plot_parallel_coordinate(tuning.study)"
   ]
  },
  {
   "cell_type": "code",
   "execution_count": null,
   "metadata": {},
   "outputs": [],
   "source": []
  }
 ],
 "metadata": {
  "kernelspec": {
   "display_name": "Python 3 (ipykernel)",
   "language": "python",
   "name": "python3"
  },
  "language_info": {
   "codemirror_mode": {
    "name": "ipython",
    "version": 3
   },
   "file_extension": ".py",
   "mimetype": "text/x-python",
   "name": "python",
   "nbconvert_exporter": "python",
   "pygments_lexer": "ipython3",
   "version": "3.8.15"
  },
  "toc": {
   "base_numbering": 1,
   "nav_menu": {},
   "number_sections": true,
   "sideBar": true,
   "skip_h1_title": false,
   "title_cell": "Table of Contents",
   "title_sidebar": "Contents",
   "toc_cell": false,
   "toc_position": {},
   "toc_section_display": true,
   "toc_window_display": false
  },
  "varInspector": {
   "cols": {
    "lenName": 16,
    "lenType": 16,
    "lenVar": 40
   },
   "kernels_config": {
    "python": {
     "delete_cmd_postfix": "",
     "delete_cmd_prefix": "del ",
     "library": "var_list.py",
     "varRefreshCmd": "print(var_dic_list())"
    },
    "r": {
     "delete_cmd_postfix": ") ",
     "delete_cmd_prefix": "rm(",
     "library": "var_list.r",
     "varRefreshCmd": "cat(var_dic_list()) "
    }
   },
   "types_to_exclude": [
    "module",
    "function",
    "builtin_function_or_method",
    "instance",
    "_Feature"
   ],
   "window_display": false
  }
 },
 "nbformat": 4,
 "nbformat_minor": 4
}
