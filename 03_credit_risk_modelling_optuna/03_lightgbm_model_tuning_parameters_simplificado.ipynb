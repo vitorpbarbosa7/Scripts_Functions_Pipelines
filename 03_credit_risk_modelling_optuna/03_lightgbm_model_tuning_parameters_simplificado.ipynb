{
 "cells": [
  {
   "cell_type": "markdown",
   "metadata": {},
   "source": [
    "# Boilerplate"
   ]
  },
  {
   "cell_type": "code",
   "execution_count": 1,
   "metadata": {
    "ExecuteTime": {
     "end_time": "2022-10-28T09:55:23.419034Z",
     "start_time": "2022-10-28T09:55:20.900455Z"
    }
   },
   "outputs": [
    {
     "name": "stderr",
     "output_type": "stream",
     "text": [
      "/Users/vpb/anaconda3/envs/kenv/lib/python3.7/site-packages/IPython/extensions/autoreload.py:121: DeprecationWarning: the imp module is deprecated in favour of importlib; see the module's documentation for alternative uses\n",
      "  from imp import reload\n",
      "/Users/vpb/anaconda3/envs/kenv/lib/python3.7/site-packages/pandas/compat/numpy/__init__.py:10: DeprecationWarning: distutils Version classes are deprecated. Use packaging.version instead.\n",
      "  _nlv = LooseVersion(_np_version)\n",
      "/Users/vpb/anaconda3/envs/kenv/lib/python3.7/site-packages/pandas/compat/numpy/__init__.py:11: DeprecationWarning: distutils Version classes are deprecated. Use packaging.version instead.\n",
      "  np_version_under1p17 = _nlv < LooseVersion(\"1.17\")\n",
      "/Users/vpb/anaconda3/envs/kenv/lib/python3.7/site-packages/pandas/compat/numpy/__init__.py:12: DeprecationWarning: distutils Version classes are deprecated. Use packaging.version instead.\n",
      "  np_version_under1p18 = _nlv < LooseVersion(\"1.18\")\n",
      "/Users/vpb/anaconda3/envs/kenv/lib/python3.7/site-packages/pandas/compat/numpy/__init__.py:13: DeprecationWarning: distutils Version classes are deprecated. Use packaging.version instead.\n",
      "  _np_version_under1p19 = _nlv < LooseVersion(\"1.19\")\n",
      "/Users/vpb/anaconda3/envs/kenv/lib/python3.7/site-packages/pandas/compat/numpy/__init__.py:14: DeprecationWarning: distutils Version classes are deprecated. Use packaging.version instead.\n",
      "  _np_version_under1p20 = _nlv < LooseVersion(\"1.20\")\n",
      "/Users/vpb/anaconda3/envs/kenv/lib/python3.7/site-packages/setuptools/_distutils/version.py:351: DeprecationWarning: distutils Version classes are deprecated. Use packaging.version instead.\n",
      "  other = LooseVersion(other)\n",
      "/Users/vpb/anaconda3/envs/kenv/lib/python3.7/site-packages/pandas/compat/numpy/function.py:120: DeprecationWarning: distutils Version classes are deprecated. Use packaging.version instead.\n",
      "  if LooseVersion(__version__) >= LooseVersion(\"1.17.0\"):\n",
      "/Users/vpb/anaconda3/envs/kenv/lib/python3.7/site-packages/seaborn/rcmod.py:82: DeprecationWarning: distutils Version classes are deprecated. Use packaging.version instead.\n",
      "  if LooseVersion(mpl.__version__) >= \"3.0\":\n",
      "/Users/vpb/anaconda3/envs/kenv/lib/python3.7/site-packages/setuptools/_distutils/version.py:351: DeprecationWarning: distutils Version classes are deprecated. Use packaging.version instead.\n",
      "  other = LooseVersion(other)\n",
      "/Users/vpb/anaconda3/envs/kenv/lib/python3.7/site-packages/tqdm/auto.py:22: TqdmWarning: IProgress not found. Please update jupyter and ipywidgets. See https://ipywidgets.readthedocs.io/en/stable/user_install.html\n",
      "  from .autonotebook import tqdm as notebook_tqdm\n"
     ]
    }
   ],
   "source": [
    "%load_ext autoreload\n",
    "%autoreload\n",
    "\n",
    "import pandas as pd \n",
    "import matplotlib.pyplot as plt \n",
    "import numpy as np\n",
    "import seaborn as sns\n",
    "import json\n",
    "import optuna\n",
    "\n",
    "from IPython.display import display\n",
    "from IPython.display import Markdown as md\n",
    "from IPython.core.interactiveshell import InteractiveShell\n",
    "InteractiveShell.ast_node_interactivity = \"all\"\n",
    "\n",
    "import warnings\n",
    "warnings.filterwarnings('ignore')"
   ]
  },
  {
   "cell_type": "code",
   "execution_count": 11,
   "metadata": {
    "ExecuteTime": {
     "end_time": "2022-10-28T09:55:46.815212Z",
     "start_time": "2022-10-28T09:55:46.809965Z"
    }
   },
   "outputs": [],
   "source": [
    "import lightgbm as lgb\n",
    "\n",
    "from libs.pipeline import Pipe\n",
    "from libs.tuning import Tuning"
   ]
  },
  {
   "cell_type": "code",
   "execution_count": 12,
   "metadata": {
    "ExecuteTime": {
     "end_time": "2022-10-28T09:55:48.252932Z",
     "start_time": "2022-10-28T09:55:48.144277Z"
    }
   },
   "outputs": [],
   "source": [
    "df = pd.read_csv(\"data/UCI_Credit_Card.csv\")\n",
    "\n",
    "df.columns = df.columns.str.lower()\n",
    "\n",
    "df = df.drop('id', axis = 1)\n",
    "\n",
    "df = df.rename(columns = {'default.payment.next.month':'target'})\n",
    "\n",
    "df.to_parquet('data/df_to_feature_selection.parquet', index = False)"
   ]
  },
  {
   "cell_type": "code",
   "execution_count": 14,
   "metadata": {
    "ExecuteTime": {
     "end_time": "2022-10-28T09:55:55.651224Z",
     "start_time": "2022-10-28T09:55:55.639415Z"
    }
   },
   "outputs": [
    {
     "data": {
      "text/plain": [
       "float64    13\n",
       "int64      11\n",
       "dtype: int64"
      ]
     },
     "execution_count": 14,
     "metadata": {},
     "output_type": "execute_result"
    }
   ],
   "source": [
    "df.dtypes.value_counts()"
   ]
  },
  {
   "cell_type": "markdown",
   "metadata": {},
   "source": [
    "# Optuna"
   ]
  },
  {
   "cell_type": "code",
   "execution_count": 7,
   "metadata": {
    "ExecuteTime": {
     "end_time": "2022-10-28T09:55:36.173133Z",
     "start_time": "2022-10-28T09:55:23.699038Z"
    }
   },
   "outputs": [
    {
     "name": "stderr",
     "output_type": "stream",
     "text": [
      "\u001b[32m[I 2022-10-28 06:55:23,700]\u001b[0m A new study created in memory with name: no-name-b715923c-5d86-459c-9d49-2f36f7b382e3\u001b[0m\n"
     ]
    },
    {
     "name": "stdout",
     "output_type": "stream",
     "text": [
      "[LightGBM] [Warning] Unknown parameter: ming_gain_to_split\n",
      "[LightGBM] [Warning] bagging_freq is set=16, subsample_freq=0 will be ignored. Current value: bagging_freq=16\n",
      "[LightGBM] [Warning] lambda_l1 is set=85, reg_alpha=0.0 will be ignored. Current value: lambda_l1=85\n",
      "[LightGBM] [Warning] min_data_in_leaf is set=90, min_child_samples=20 will be ignored. Current value: min_data_in_leaf=90\n",
      "[LightGBM] [Warning] feature_fraction is set=0.5, colsample_bytree=1.1 will be ignored. Current value: feature_fraction=0.5\n",
      "[LightGBM] [Warning] bagging_fraction is set=0.6000000000000001, subsample=1.0 will be ignored. Current value: bagging_fraction=0.6000000000000001\n",
      "[LightGBM] [Warning] lambda_l2 is set=85, reg_lambda=0.0 will be ignored. Current value: lambda_l2=85\n",
      "[LightGBM] [Warning] boosting is set=dart, boosting_type=gbdt will be ignored. Current value: boosting=dart\n"
     ]
    },
    {
     "name": "stderr",
     "output_type": "stream",
     "text": [
      "\u001b[32m[I 2022-10-28 06:55:24,207]\u001b[0m Trial 0 finished with value: 0.36 and parameters: {'boosting': 'dart', 'drop_rate': 0.31, 'extra_trees': False, 'device_type': 'cpu', 'colsample_bytree': 1.1, 'n_estimators': 80, 'learning_rate': 0.17, 'num_leaves': 35, 'max_depth': 6, 'min_gain_to_split': 0.092, 'min_data_in_leaf': 90, 'min_child_weight': 0.00031000000000000005, 'lambda_l1': 85, 'lambda_l2': 85, 'bagging_fraction': 0.6000000000000001, 'bagging_freq': 16, 'feature_fraction': 0.5, 'feature_fraction_bynode': 0.5, 'pos_bagging_fraction': 0.45}. Best is trial 0 with value: 0.36.\u001b[0m\n"
     ]
    },
    {
     "name": "stdout",
     "output_type": "stream",
     "text": [
      "[LightGBM] [Warning] Unknown parameter: ming_gain_to_split\n",
      "[LightGBM] [Warning] bagging_freq is set=1, subsample_freq=0 will be ignored. Current value: bagging_freq=1\n",
      "[LightGBM] [Warning] lambda_l1 is set=80, reg_alpha=0.0 will be ignored. Current value: lambda_l1=80\n",
      "[LightGBM] [Warning] min_data_in_leaf is set=120, min_child_samples=20 will be ignored. Current value: min_data_in_leaf=120\n",
      "[LightGBM] [Warning] feature_fraction is set=0.2, colsample_bytree=1.2 will be ignored. Current value: feature_fraction=0.2\n",
      "[LightGBM] [Warning] bagging_fraction is set=0.5, subsample=1.0 will be ignored. Current value: bagging_fraction=0.5\n",
      "[LightGBM] [Warning] lambda_l2 is set=95, reg_lambda=0.0 will be ignored. Current value: lambda_l2=95\n",
      "[LightGBM] [Warning] boosting is set=dart, boosting_type=gbdt will be ignored. Current value: boosting=dart\n"
     ]
    },
    {
     "name": "stderr",
     "output_type": "stream",
     "text": [
      "\u001b[32m[I 2022-10-28 06:55:24,600]\u001b[0m Trial 1 finished with value: 0.46 and parameters: {'boosting': 'dart', 'drop_rate': 0.12000000000000001, 'extra_trees': False, 'device_type': 'cpu', 'colsample_bytree': 1.2, 'n_estimators': 140, 'learning_rate': 0.13, 'num_leaves': 25, 'max_depth': 5, 'min_gain_to_split': 0.034, 'min_data_in_leaf': 120, 'min_child_weight': 0.00031000000000000005, 'lambda_l1': 80, 'lambda_l2': 95, 'bagging_fraction': 0.5, 'bagging_freq': 1, 'feature_fraction': 0.2, 'feature_fraction_bynode': 0.5, 'pos_bagging_fraction': 0.55}. Best is trial 1 with value: 0.46.\u001b[0m\n"
     ]
    },
    {
     "name": "stdout",
     "output_type": "stream",
     "text": [
      "[LightGBM] [Warning] Unknown parameter: ming_gain_to_split\n",
      "[LightGBM] [Warning] bagging_freq is set=6, subsample_freq=0 will be ignored. Current value: bagging_freq=6\n",
      "[LightGBM] [Warning] lambda_l1 is set=20, reg_alpha=0.0 will be ignored. Current value: lambda_l1=20\n",
      "[LightGBM] [Warning] min_data_in_leaf is set=30, min_child_samples=20 will be ignored. Current value: min_data_in_leaf=30\n",
      "[LightGBM] [Warning] feature_fraction is set=0.30000000000000004, colsample_bytree=1.3 will be ignored. Current value: feature_fraction=0.30000000000000004\n",
      "[LightGBM] [Warning] bagging_fraction is set=0.5, subsample=1.0 will be ignored. Current value: bagging_fraction=0.5\n",
      "[LightGBM] [Warning] lambda_l2 is set=85, reg_lambda=0.0 will be ignored. Current value: lambda_l2=85\n",
      "[LightGBM] [Warning] boosting is set=dart, boosting_type=gbdt will be ignored. Current value: boosting=dart\n"
     ]
    },
    {
     "name": "stderr",
     "output_type": "stream",
     "text": [
      "\u001b[32m[I 2022-10-28 06:55:25,796]\u001b[0m Trial 2 finished with value: 0.45 and parameters: {'boosting': 'dart', 'drop_rate': 0.33999999999999997, 'extra_trees': True, 'device_type': 'cpu', 'colsample_bytree': 1.3, 'n_estimators': 190, 'learning_rate': 0.04, 'num_leaves': 10, 'max_depth': 7, 'min_gain_to_split': 0.092, 'min_data_in_leaf': 30, 'min_child_weight': 0.00091, 'lambda_l1': 20, 'lambda_l2': 85, 'bagging_fraction': 0.5, 'bagging_freq': 6, 'feature_fraction': 0.30000000000000004, 'feature_fraction_bynode': 0.55, 'pos_bagging_fraction': 0.7}. Best is trial 1 with value: 0.46.\u001b[0m\n"
     ]
    },
    {
     "name": "stdout",
     "output_type": "stream",
     "text": [
      "[LightGBM] [Warning] Unknown parameter: ming_gain_to_split\n",
      "[LightGBM] [Warning] bagging_freq is set=16, subsample_freq=0 will be ignored. Current value: bagging_freq=16\n",
      "[LightGBM] [Warning] lambda_l1 is set=20, reg_alpha=0.0 will be ignored. Current value: lambda_l1=20\n",
      "[LightGBM] [Warning] min_data_in_leaf is set=70, min_child_samples=20 will be ignored. Current value: min_data_in_leaf=70\n",
      "[LightGBM] [Warning] feature_fraction is set=0.5, colsample_bytree=1.3 will be ignored. Current value: feature_fraction=0.5\n",
      "[LightGBM] [Warning] bagging_fraction is set=0.6000000000000001, subsample=1.0 will be ignored. Current value: bagging_fraction=0.6000000000000001\n",
      "[LightGBM] [Warning] lambda_l2 is set=40, reg_lambda=0.0 will be ignored. Current value: lambda_l2=40\n",
      "[LightGBM] [Warning] boosting is set=dart, boosting_type=gbdt will be ignored. Current value: boosting=dart\n"
     ]
    },
    {
     "name": "stderr",
     "output_type": "stream",
     "text": [
      "\u001b[32m[I 2022-10-28 06:55:26,582]\u001b[0m Trial 3 finished with value: 0.36 and parameters: {'boosting': 'dart', 'drop_rate': 0.42500000000000004, 'extra_trees': True, 'device_type': 'cpu', 'colsample_bytree': 1.3, 'n_estimators': 150, 'learning_rate': 0.04, 'num_leaves': 25, 'max_depth': 5, 'min_gain_to_split': 0.09899999999999999, 'min_data_in_leaf': 70, 'min_child_weight': 0.00091, 'lambda_l1': 20, 'lambda_l2': 40, 'bagging_fraction': 0.6000000000000001, 'bagging_freq': 16, 'feature_fraction': 0.5, 'feature_fraction_bynode': 0.5, 'pos_bagging_fraction': 0.65}. Best is trial 1 with value: 0.46.\u001b[0m\n"
     ]
    },
    {
     "name": "stdout",
     "output_type": "stream",
     "text": [
      "[LightGBM] [Warning] Unknown parameter: ming_gain_to_split\n",
      "[LightGBM] [Warning] bagging_freq is set=16, subsample_freq=0 will be ignored. Current value: bagging_freq=16\n",
      "[LightGBM] [Warning] lambda_l1 is set=35, reg_alpha=0.0 will be ignored. Current value: lambda_l1=35\n",
      "[LightGBM] [Warning] min_data_in_leaf is set=40, min_child_samples=20 will be ignored. Current value: min_data_in_leaf=40\n",
      "[LightGBM] [Warning] feature_fraction is set=0.5, colsample_bytree=1.4 will be ignored. Current value: feature_fraction=0.5\n",
      "[LightGBM] [Warning] bagging_fraction is set=0.4, subsample=1.0 will be ignored. Current value: bagging_fraction=0.4\n",
      "[LightGBM] [Warning] lambda_l2 is set=60, reg_lambda=0.0 will be ignored. Current value: lambda_l2=60\n",
      "[LightGBM] [Warning] boosting is set=dart, boosting_type=gbdt will be ignored. Current value: boosting=dart\n"
     ]
    },
    {
     "name": "stderr",
     "output_type": "stream",
     "text": [
      "\u001b[32m[I 2022-10-28 06:55:27,135]\u001b[0m Trial 4 finished with value: 0.36 and parameters: {'boosting': 'dart', 'drop_rate': 0.44000000000000006, 'extra_trees': True, 'device_type': 'cpu', 'colsample_bytree': 1.4, 'n_estimators': 120, 'learning_rate': 0.08, 'num_leaves': 30, 'max_depth': 10, 'min_gain_to_split': 0.078, 'min_data_in_leaf': 40, 'min_child_weight': 0.00091, 'lambda_l1': 35, 'lambda_l2': 60, 'bagging_fraction': 0.4, 'bagging_freq': 16, 'feature_fraction': 0.5, 'feature_fraction_bynode': 0.65, 'pos_bagging_fraction': 0.45}. Best is trial 1 with value: 0.46.\u001b[0m\n",
      "\u001b[32m[I 2022-10-28 06:55:27,169]\u001b[0m Trial 5 pruned. Trial was pruned at iteration 0.\u001b[0m\n",
      "\u001b[32m[I 2022-10-28 06:55:27,202]\u001b[0m Trial 6 pruned. Trial was pruned at iteration 0.\u001b[0m\n"
     ]
    },
    {
     "name": "stdout",
     "output_type": "stream",
     "text": [
      "[LightGBM] [Warning] Unknown parameter: ming_gain_to_split\n",
      "[LightGBM] [Warning] bagging_freq is set=16, subsample_freq=0 will be ignored. Current value: bagging_freq=16\n",
      "[LightGBM] [Warning] lambda_l1 is set=25, reg_alpha=0.0 will be ignored. Current value: lambda_l1=25\n",
      "[LightGBM] [Warning] min_data_in_leaf is set=10, min_child_samples=20 will be ignored. Current value: min_data_in_leaf=10\n",
      "[LightGBM] [Warning] feature_fraction is set=0.30000000000000004, colsample_bytree=1.1 will be ignored. Current value: feature_fraction=0.30000000000000004\n",
      "[LightGBM] [Warning] bagging_fraction is set=0.5, subsample=1.0 will be ignored. Current value: bagging_fraction=0.5\n",
      "[LightGBM] [Warning] lambda_l2 is set=0, reg_lambda=0.0 will be ignored. Current value: lambda_l2=0\n",
      "[LightGBM] [Warning] boosting is set=dart, boosting_type=gbdt will be ignored. Current value: boosting=dart\n"
     ]
    },
    {
     "name": "stderr",
     "output_type": "stream",
     "text": [
      "\u001b[32m[I 2022-10-28 06:55:27,508]\u001b[0m Trial 7 finished with value: 0.0 and parameters: {'boosting': 'dart', 'drop_rate': 0.165, 'extra_trees': False, 'device_type': 'cpu', 'colsample_bytree': 1.3, 'n_estimators': 80, 'learning_rate': 0.2, 'num_leaves': 30, 'max_depth': 5, 'min_gain_to_split': 0.067, 'min_data_in_leaf': 140, 'min_child_weight': 0.0008100000000000001, 'lambda_l1': 20, 'lambda_l2': 35, 'bagging_fraction': 0.30000000000000004, 'bagging_freq': 1, 'feature_fraction': 0.4, 'feature_fraction_bynode': 0.5, 'pos_bagging_fraction': 0.5}. Best is trial 1 with value: 0.46.\u001b[0m\n",
      "\u001b[32m[I 2022-10-28 06:55:27,555]\u001b[0m Trial 8 pruned. Trial was pruned at iteration 3.\u001b[0m\n"
     ]
    },
    {
     "name": "stdout",
     "output_type": "stream",
     "text": [
      "[LightGBM] [Warning] Unknown parameter: ming_gain_to_split\n",
      "[LightGBM] [Warning] bagging_freq is set=11, subsample_freq=0 will be ignored. Current value: bagging_freq=11\n",
      "[LightGBM] [Warning] lambda_l1 is set=35, reg_alpha=0.0 will be ignored. Current value: lambda_l1=35\n",
      "[LightGBM] [Warning] min_data_in_leaf is set=110, min_child_samples=20 will be ignored. Current value: min_data_in_leaf=110\n",
      "[LightGBM] [Warning] feature_fraction is set=0.2, colsample_bytree=1.1 will be ignored. Current value: feature_fraction=0.2\n",
      "[LightGBM] [Warning] bagging_fraction is set=0.30000000000000004, subsample=1.0 will be ignored. Current value: bagging_fraction=0.30000000000000004\n",
      "[LightGBM] [Warning] lambda_l2 is set=0, reg_lambda=0.0 will be ignored. Current value: lambda_l2=0\n",
      "[LightGBM] [Warning] boosting is set=dart, boosting_type=gbdt will be ignored. Current value: boosting=dart\n"
     ]
    },
    {
     "name": "stderr",
     "output_type": "stream",
     "text": [
      "\u001b[32m[I 2022-10-28 06:55:27,971]\u001b[0m Trial 9 finished with value: 0.36 and parameters: {'boosting': 'dart', 'drop_rate': 0.45999999999999996, 'extra_trees': False, 'device_type': 'cpu', 'colsample_bytree': 1.4, 'n_estimators': 90, 'learning_rate': 0.02, 'num_leaves': 5, 'max_depth': 5, 'min_gain_to_split': 0.091, 'min_data_in_leaf': 30, 'min_child_weight': 0.00071, 'lambda_l1': 100, 'lambda_l2': 65, 'bagging_fraction': 0.5, 'bagging_freq': 6, 'feature_fraction': 0.4, 'feature_fraction_bynode': 0.45, 'pos_bagging_fraction': 0.45}. Best is trial 1 with value: 0.46.\u001b[0m\n",
      "\u001b[32m[I 2022-10-28 06:55:28,050]\u001b[0m Trial 10 pruned. Trial was pruned at iteration 17.\u001b[0m\n",
      "\u001b[32m[I 2022-10-28 06:55:28,112]\u001b[0m Trial 11 pruned. Trial was pruned at iteration 0.\u001b[0m\n",
      "\u001b[32m[I 2022-10-28 06:55:28,169]\u001b[0m Trial 12 pruned. Trial was pruned at iteration 0.\u001b[0m\n"
     ]
    },
    {
     "name": "stdout",
     "output_type": "stream",
     "text": [
      "[LightGBM] [Warning] Unknown parameter: ming_gain_to_split\n",
      "[LightGBM] [Warning] bagging_freq is set=1, subsample_freq=0 will be ignored. Current value: bagging_freq=1\n",
      "[LightGBM] [Warning] lambda_l1 is set=60, reg_alpha=0.0 will be ignored. Current value: lambda_l1=60\n",
      "[LightGBM] [Warning] min_data_in_leaf is set=150, min_child_samples=20 will be ignored. Current value: min_data_in_leaf=150\n",
      "[LightGBM] [Warning] feature_fraction is set=0.2, colsample_bytree=1.0 will be ignored. Current value: feature_fraction=0.2\n",
      "[LightGBM] [Warning] bagging_fraction is set=0.2, subsample=1.0 will be ignored. Current value: bagging_fraction=0.2\n",
      "[LightGBM] [Warning] lambda_l2 is set=100, reg_lambda=0.0 will be ignored. Current value: lambda_l2=100\n",
      "[LightGBM] [Warning] boosting is set=dart, boosting_type=gbdt will be ignored. Current value: boosting=dart\n"
     ]
    },
    {
     "name": "stderr",
     "output_type": "stream",
     "text": [
      "\u001b[32m[I 2022-10-28 06:55:28,240]\u001b[0m Trial 13 pruned. Trial was pruned at iteration 5.\u001b[0m\n",
      "\u001b[32m[I 2022-10-28 06:55:28,300]\u001b[0m Trial 14 pruned. Trial was pruned at iteration 0.\u001b[0m\n",
      "\u001b[32m[I 2022-10-28 06:55:28,577]\u001b[0m Trial 15 finished with value: 0.36 and parameters: {'boosting': 'dart', 'drop_rate': 0.265, 'extra_trees': False, 'device_type': 'cpu', 'colsample_bytree': 1.3, 'n_estimators': 50, 'learning_rate': 0.09999999999999999, 'num_leaves': 15, 'max_depth': 7, 'min_gain_to_split': 0.046000000000000006, 'min_data_in_leaf': 10, 'min_child_weight': 0.00021, 'lambda_l1': 75, 'lambda_l2': 65, 'bagging_fraction': 0.4, 'bagging_freq': 6, 'feature_fraction': 0.30000000000000004, 'feature_fraction_bynode': 0.4, 'pos_bagging_fraction': 0.7}. Best is trial 1 with value: 0.46.\u001b[0m\n",
      "\u001b[32m[I 2022-10-28 06:55:28,640]\u001b[0m Trial 16 pruned. Trial was pruned at iteration 0.\u001b[0m\n",
      "\u001b[32m[I 2022-10-28 06:55:28,699]\u001b[0m Trial 17 pruned. Trial was pruned at iteration 0.\u001b[0m\n",
      "\u001b[32m[I 2022-10-28 06:55:28,762]\u001b[0m Trial 18 pruned. Trial was pruned at iteration 0.\u001b[0m\n"
     ]
    },
    {
     "name": "stdout",
     "output_type": "stream",
     "text": [
      "[LightGBM] [Warning] Unknown parameter: ming_gain_to_split\n",
      "[LightGBM] [Warning] bagging_freq is set=11, subsample_freq=0 will be ignored. Current value: bagging_freq=11\n",
      "[LightGBM] [Warning] lambda_l1 is set=45, reg_alpha=0.0 will be ignored. Current value: lambda_l1=45\n",
      "[LightGBM] [Warning] min_data_in_leaf is set=80, min_child_samples=20 will be ignored. Current value: min_data_in_leaf=80\n",
      "[LightGBM] [Warning] feature_fraction is set=0.2, colsample_bytree=1.0 will be ignored. Current value: feature_fraction=0.2\n",
      "[LightGBM] [Warning] bagging_fraction is set=0.6000000000000001, subsample=1.0 will be ignored. Current value: bagging_fraction=0.6000000000000001\n",
      "[LightGBM] [Warning] lambda_l2 is set=100, reg_lambda=0.0 will be ignored. Current value: lambda_l2=100\n",
      "[LightGBM] [Warning] boosting is set=dart, boosting_type=gbdt will be ignored. Current value: boosting=dart\n"
     ]
    },
    {
     "name": "stderr",
     "output_type": "stream",
     "text": [
      "\u001b[32m[I 2022-10-28 06:55:28,823]\u001b[0m Trial 19 pruned. Trial was pruned at iteration 0.\u001b[0m\n",
      "\u001b[32m[I 2022-10-28 06:55:30,247]\u001b[0m Trial 20 finished with value: 0.53 and parameters: {'boosting': 'dart', 'drop_rate': 0.15000000000000002, 'extra_trees': False, 'device_type': 'cpu', 'colsample_bytree': 1.4, 'n_estimators': 200, 'learning_rate': 0.2, 'num_leaves': 40, 'max_depth': 6, 'min_gain_to_split': 0.023, 'min_data_in_leaf': 100, 'min_child_weight': 0.0006100000000000001, 'lambda_l1': 10, 'lambda_l2': 90, 'bagging_fraction': 0.2, 'bagging_freq': 6, 'feature_fraction': 0.4, 'feature_fraction_bynode': 0.65, 'pos_bagging_fraction': 0.55}. Best is trial 20 with value: 0.53.\u001b[0m\n"
     ]
    },
    {
     "name": "stdout",
     "output_type": "stream",
     "text": [
      "[LightGBM] [Warning] Unknown parameter: ming_gain_to_split\n",
      "[LightGBM] [Warning] bagging_freq is set=6, subsample_freq=0 will be ignored. Current value: bagging_freq=6\n",
      "[LightGBM] [Warning] lambda_l1 is set=10, reg_alpha=0.0 will be ignored. Current value: lambda_l1=10\n",
      "[LightGBM] [Warning] min_data_in_leaf is set=100, min_child_samples=20 will be ignored. Current value: min_data_in_leaf=100\n",
      "[LightGBM] [Warning] feature_fraction is set=0.4, colsample_bytree=1.4 will be ignored. Current value: feature_fraction=0.4\n",
      "[LightGBM] [Warning] bagging_fraction is set=0.2, subsample=1.0 will be ignored. Current value: bagging_fraction=0.2\n",
      "[LightGBM] [Warning] lambda_l2 is set=90, reg_lambda=0.0 will be ignored. Current value: lambda_l2=90\n",
      "[LightGBM] [Warning] boosting is set=dart, boosting_type=gbdt will be ignored. Current value: boosting=dart\n"
     ]
    },
    {
     "name": "stderr",
     "output_type": "stream",
     "text": [
      "\u001b[32m[I 2022-10-28 06:55:31,564]\u001b[0m Trial 21 pruned. Trial was pruned at iteration 190.\u001b[0m\n",
      "\u001b[32m[I 2022-10-28 06:55:32,615]\u001b[0m Trial 22 finished with value: 0.53 and parameters: {'boosting': 'dart', 'drop_rate': 0.14500000000000002, 'extra_trees': False, 'device_type': 'cpu', 'colsample_bytree': 1.3, 'n_estimators': 170, 'learning_rate': 0.17, 'num_leaves': 35, 'max_depth': 4, 'min_gain_to_split': 0.01, 'min_data_in_leaf': 70, 'min_child_weight': 0.0008100000000000001, 'lambda_l1': 15, 'lambda_l2': 70, 'bagging_fraction': 0.5, 'bagging_freq': 11, 'feature_fraction': 0.4, 'feature_fraction_bynode': 0.65, 'pos_bagging_fraction': 0.55}. Best is trial 20 with value: 0.53.\u001b[0m\n",
      "\u001b[32m[I 2022-10-28 06:55:32,679]\u001b[0m Trial 23 pruned. Trial was pruned at iteration 2.\u001b[0m\n"
     ]
    },
    {
     "name": "stdout",
     "output_type": "stream",
     "text": [
      "[LightGBM] [Warning] Unknown parameter: ming_gain_to_split\n",
      "[LightGBM] [Warning] bagging_freq is set=11, subsample_freq=0 will be ignored. Current value: bagging_freq=11\n",
      "[LightGBM] [Warning] lambda_l1 is set=10, reg_alpha=0.0 will be ignored. Current value: lambda_l1=10\n",
      "[LightGBM] [Warning] min_data_in_leaf is set=70, min_child_samples=20 will be ignored. Current value: min_data_in_leaf=70\n",
      "[LightGBM] [Warning] feature_fraction is set=0.4, colsample_bytree=1.5 will be ignored. Current value: feature_fraction=0.4\n",
      "[LightGBM] [Warning] bagging_fraction is set=0.30000000000000004, subsample=1.0 will be ignored. Current value: bagging_fraction=0.30000000000000004\n",
      "[LightGBM] [Warning] lambda_l2 is set=70, reg_lambda=0.0 will be ignored. Current value: lambda_l2=70\n",
      "[LightGBM] [Warning] boosting is set=dart, boosting_type=gbdt will be ignored. Current value: boosting=dart\n"
     ]
    },
    {
     "name": "stderr",
     "output_type": "stream",
     "text": [
      "\u001b[32m[I 2022-10-28 06:55:33,654]\u001b[0m Trial 24 pruned. Trial was pruned at iteration 150.\u001b[0m\n",
      "\u001b[32m[I 2022-10-28 06:55:34,245]\u001b[0m Trial 25 pruned. Trial was pruned at iteration 150.\u001b[0m\n",
      "\u001b[32m[I 2022-10-28 06:55:34,913]\u001b[0m Trial 26 finished with value: 0.53 and parameters: {'boosting': 'dart', 'drop_rate': 0.2, 'extra_trees': False, 'device_type': 'cpu', 'colsample_bytree': 1.3, 'n_estimators': 120, 'learning_rate': 0.17, 'num_leaves': 35, 'max_depth': 4, 'min_gain_to_split': 0.035, 'min_data_in_leaf': 130, 'min_child_weight': 0.0008100000000000001, 'lambda_l1': 0, 'lambda_l2': 75, 'bagging_fraction': 0.6000000000000001, 'bagging_freq': 11, 'feature_fraction': 0.4, 'feature_fraction_bynode': 0.6000000000000001, 'pos_bagging_fraction': 0.55}. Best is trial 20 with value: 0.53.\u001b[0m\n"
     ]
    },
    {
     "name": "stdout",
     "output_type": "stream",
     "text": [
      "[LightGBM] [Warning] Unknown parameter: ming_gain_to_split\n",
      "[LightGBM] [Warning] bagging_freq is set=11, subsample_freq=0 will be ignored. Current value: bagging_freq=11\n",
      "[LightGBM] [Warning] lambda_l1 is set=0, reg_alpha=0.0 will be ignored. Current value: lambda_l1=0\n",
      "[LightGBM] [Warning] min_data_in_leaf is set=140, min_child_samples=20 will be ignored. Current value: min_data_in_leaf=140\n",
      "[LightGBM] [Warning] feature_fraction is set=0.4, colsample_bytree=1.4 will be ignored. Current value: feature_fraction=0.4\n",
      "[LightGBM] [Warning] bagging_fraction is set=0.7, subsample=1.0 will be ignored. Current value: bagging_fraction=0.7\n",
      "[LightGBM] [Warning] lambda_l2 is set=70, reg_lambda=0.0 will be ignored. Current value: lambda_l2=70\n",
      "[LightGBM] [Warning] boosting is set=dart, boosting_type=gbdt will be ignored. Current value: boosting=dart\n"
     ]
    },
    {
     "name": "stderr",
     "output_type": "stream",
     "text": [
      "\u001b[32m[I 2022-10-28 06:55:35,514]\u001b[0m Trial 27 finished with value: 0.52 and parameters: {'boosting': 'dart', 'drop_rate': 0.2, 'extra_trees': False, 'device_type': 'cpu', 'colsample_bytree': 1.4, 'n_estimators': 110, 'learning_rate': 0.17, 'num_leaves': 35, 'max_depth': 4, 'min_gain_to_split': 0.043000000000000003, 'min_data_in_leaf': 140, 'min_child_weight': 0.0008100000000000001, 'lambda_l1': 0, 'lambda_l2': 70, 'bagging_fraction': 0.7, 'bagging_freq': 11, 'feature_fraction': 0.4, 'feature_fraction_bynode': 0.6000000000000001, 'pos_bagging_fraction': 0.6000000000000001}. Best is trial 20 with value: 0.53.\u001b[0m\n"
     ]
    },
    {
     "name": "stdout",
     "output_type": "stream",
     "text": [
      "[LightGBM] [Warning] Unknown parameter: ming_gain_to_split\n",
      "[LightGBM] [Warning] bagging_freq is set=11, subsample_freq=0 will be ignored. Current value: bagging_freq=11\n",
      "[LightGBM] [Warning] lambda_l1 is set=10, reg_alpha=0.0 will be ignored. Current value: lambda_l1=10\n",
      "[LightGBM] [Warning] min_data_in_leaf is set=100, min_child_samples=20 will be ignored. Current value: min_data_in_leaf=100\n",
      "[LightGBM] [Warning] feature_fraction is set=0.4, colsample_bytree=1.3 will be ignored. Current value: feature_fraction=0.4\n",
      "[LightGBM] [Warning] bagging_fraction is set=0.6000000000000001, subsample=1.0 will be ignored. Current value: bagging_fraction=0.6000000000000001\n",
      "[LightGBM] [Warning] lambda_l2 is set=75, reg_lambda=0.0 will be ignored. Current value: lambda_l2=75\n",
      "[LightGBM] [Warning] boosting is set=dart, boosting_type=gbdt will be ignored. Current value: boosting=dart\n"
     ]
    },
    {
     "name": "stderr",
     "output_type": "stream",
     "text": [
      "\u001b[32m[I 2022-10-28 06:55:36,108]\u001b[0m Trial 28 finished with value: 0.53 and parameters: {'boosting': 'dart', 'drop_rate': 0.18, 'extra_trees': False, 'device_type': 'cpu', 'colsample_bytree': 1.3, 'n_estimators': 100, 'learning_rate': 0.18000000000000002, 'num_leaves': 40, 'max_depth': 6, 'min_gain_to_split': 0.027000000000000003, 'min_data_in_leaf': 100, 'min_child_weight': 0.0008100000000000001, 'lambda_l1': 10, 'lambda_l2': 75, 'bagging_fraction': 0.6000000000000001, 'bagging_freq': 11, 'feature_fraction': 0.4, 'feature_fraction_bynode': 0.65, 'pos_bagging_fraction': 0.5}. Best is trial 20 with value: 0.53.\u001b[0m\n",
      "\u001b[32m[I 2022-10-28 06:55:36,171]\u001b[0m Trial 29 pruned. Trial was pruned at iteration 2.\u001b[0m\n"
     ]
    },
    {
     "name": "stdout",
     "output_type": "stream",
     "text": [
      "[LightGBM] [Warning] Unknown parameter: ming_gain_to_split\n",
      "[LightGBM] [Warning] bagging_freq is set=16, subsample_freq=0 will be ignored. Current value: bagging_freq=16\n",
      "[LightGBM] [Warning] lambda_l1 is set=15, reg_alpha=0.0 will be ignored. Current value: lambda_l1=15\n",
      "[LightGBM] [Warning] min_data_in_leaf is set=90, min_child_samples=20 will be ignored. Current value: min_data_in_leaf=90\n",
      "[LightGBM] [Warning] feature_fraction is set=0.5, colsample_bytree=1.3 will be ignored. Current value: feature_fraction=0.5\n",
      "[LightGBM] [Warning] bagging_fraction is set=0.6000000000000001, subsample=1.0 will be ignored. Current value: bagging_fraction=0.6000000000000001\n",
      "[LightGBM] [Warning] lambda_l2 is set=45, reg_lambda=0.0 will be ignored. Current value: lambda_l2=45\n",
      "[LightGBM] [Warning] boosting is set=dart, boosting_type=gbdt will be ignored. Current value: boosting=dart\n"
     ]
    }
   ],
   "source": [
    "tuning = Tuning(df,\n",
    "                target_var = 'target', \n",
    "                n_trials = 30,\n",
    "                chosen_optimization='f1_score')"
   ]
  },
  {
   "cell_type": "code",
   "execution_count": 8,
   "metadata": {
    "ExecuteTime": {
     "end_time": "2022-10-28T09:55:36.176711Z",
     "start_time": "2022-10-28T09:55:36.174303Z"
    }
   },
   "outputs": [],
   "source": [
    "bestparams = tuning.study.best_params"
   ]
  },
  {
   "cell_type": "code",
   "execution_count": 9,
   "metadata": {
    "ExecuteTime": {
     "end_time": "2022-10-28T09:55:36.181868Z",
     "start_time": "2022-10-28T09:55:36.179588Z"
    }
   },
   "outputs": [],
   "source": [
    "# O modelo em sí com os parametroz tunados\n",
    "best = lgb.LGBMClassifier().set_params(**bestparams)"
   ]
  },
  {
   "cell_type": "code",
   "execution_count": 10,
   "metadata": {
    "ExecuteTime": {
     "end_time": "2022-10-28T09:55:37.365996Z",
     "start_time": "2022-10-28T09:55:36.183447Z"
    }
   },
   "outputs": [
    {
     "name": "stdout",
     "output_type": "stream",
     "text": [
      "2022-10-28 06:55:37,317 - numexpr.utils - INFO - NumExpr defaulting to 8 threads.\n"
     ]
    },
    {
     "data": {
      "text/html": [
       "<div>\n",
       "<style scoped>\n",
       "    .dataframe tbody tr th:only-of-type {\n",
       "        vertical-align: middle;\n",
       "    }\n",
       "\n",
       "    .dataframe tbody tr th {\n",
       "        vertical-align: top;\n",
       "    }\n",
       "\n",
       "    .dataframe thead th {\n",
       "        text-align: right;\n",
       "    }\n",
       "</style>\n",
       "<table border=\"1\" class=\"dataframe\">\n",
       "  <thead>\n",
       "    <tr style=\"text-align: right;\">\n",
       "      <th></th>\n",
       "      <th>accuracy</th>\n",
       "      <th>precision</th>\n",
       "      <th>recall</th>\n",
       "      <th>f1</th>\n",
       "      <th>auc</th>\n",
       "      <th>gini</th>\n",
       "    </tr>\n",
       "  </thead>\n",
       "  <tbody>\n",
       "    <tr>\n",
       "      <th>0</th>\n",
       "      <td>0.77</td>\n",
       "      <td>0.49</td>\n",
       "      <td>0.63</td>\n",
       "      <td>0.55</td>\n",
       "      <td>0.8</td>\n",
       "      <td>0.6</td>\n",
       "    </tr>\n",
       "  </tbody>\n",
       "</table>\n",
       "</div>"
      ],
      "text/plain": [
       "   accuracy  precision  recall    f1  auc  gini\n",
       "0      0.77       0.49    0.63  0.55  0.8   0.6"
      ]
     },
     "execution_count": 10,
     "metadata": {},
     "output_type": "execute_result"
    },
    {
     "data": {
      "text/html": [
       "<div>\n",
       "<style scoped>\n",
       "    .dataframe tbody tr th:only-of-type {\n",
       "        vertical-align: middle;\n",
       "    }\n",
       "\n",
       "    .dataframe tbody tr th {\n",
       "        vertical-align: top;\n",
       "    }\n",
       "\n",
       "    .dataframe thead th {\n",
       "        text-align: right;\n",
       "    }\n",
       "</style>\n",
       "<table border=\"1\" class=\"dataframe\">\n",
       "  <thead>\n",
       "    <tr style=\"text-align: right;\">\n",
       "      <th></th>\n",
       "      <th>accuracy</th>\n",
       "      <th>precision</th>\n",
       "      <th>recall</th>\n",
       "      <th>f1</th>\n",
       "      <th>auc</th>\n",
       "      <th>gini</th>\n",
       "    </tr>\n",
       "  </thead>\n",
       "  <tbody>\n",
       "    <tr>\n",
       "      <th>0</th>\n",
       "      <td>0.75</td>\n",
       "      <td>0.45</td>\n",
       "      <td>0.58</td>\n",
       "      <td>0.5</td>\n",
       "      <td>0.76</td>\n",
       "      <td>0.52</td>\n",
       "    </tr>\n",
       "  </tbody>\n",
       "</table>\n",
       "</div>"
      ],
      "text/plain": [
       "   accuracy  precision  recall   f1   auc  gini\n",
       "0      0.75       0.45    0.58  0.5  0.76  0.52"
      ]
     },
     "execution_count": 10,
     "metadata": {},
     "output_type": "execute_result"
    }
   ],
   "source": [
    "mbest = Pipe(df, target_var = 'target', model = best)\n",
    "\n",
    "mbest.popin.scores\n",
    "\n",
    "mbest.oos.scores"
   ]
  }
 ],
 "metadata": {
  "kernelspec": {
   "display_name": "Kedro (ames)",
   "language": "python",
   "name": "kedro_ames"
  },
  "language_info": {
   "codemirror_mode": {
    "name": "ipython",
    "version": 3
   },
   "file_extension": ".py",
   "mimetype": "text/x-python",
   "name": "python",
   "nbconvert_exporter": "python",
   "pygments_lexer": "ipython3",
   "version": "3.7.2"
  },
  "toc": {
   "base_numbering": 1,
   "nav_menu": {},
   "number_sections": true,
   "sideBar": true,
   "skip_h1_title": false,
   "title_cell": "Table of Contents",
   "title_sidebar": "Contents",
   "toc_cell": false,
   "toc_position": {},
   "toc_section_display": true,
   "toc_window_display": false
  },
  "varInspector": {
   "cols": {
    "lenName": 16,
    "lenType": 16,
    "lenVar": 40
   },
   "kernels_config": {
    "python": {
     "delete_cmd_postfix": "",
     "delete_cmd_prefix": "del ",
     "library": "var_list.py",
     "varRefreshCmd": "print(var_dic_list())"
    },
    "r": {
     "delete_cmd_postfix": ") ",
     "delete_cmd_prefix": "rm(",
     "library": "var_list.r",
     "varRefreshCmd": "cat(var_dic_list()) "
    }
   },
   "types_to_exclude": [
    "module",
    "function",
    "builtin_function_or_method",
    "instance",
    "_Feature"
   ],
   "window_display": false
  }
 },
 "nbformat": 4,
 "nbformat_minor": 4
}
