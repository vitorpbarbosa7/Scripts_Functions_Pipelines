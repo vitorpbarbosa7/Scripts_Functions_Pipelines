{
 "cells": [
  {
   "cell_type": "code",
   "execution_count": 18,
   "id": "6a28afd4",
   "metadata": {
    "ExecuteTime": {
     "end_time": "2023-08-31T11:19:28.608831Z",
     "start_time": "2023-08-31T11:19:28.243755Z"
    }
   },
   "outputs": [],
   "source": [
    "import numpy as np\n",
    "\n",
    "from sklearn.datasets import load_iris\n",
    "from sklearn.model_selection import train_test_split\n",
    "\n",
    "import matplotlib.pyplot as plt\n",
    "\n",
    "from sklearn.metrics import RocCurveDisplay"
   ]
  },
  {
   "cell_type": "code",
   "execution_count": 1,
   "id": "c7c1b376",
   "metadata": {
    "ExecuteTime": {
     "end_time": "2023-08-31T11:15:43.244436Z",
     "start_time": "2023-08-31T11:15:42.380088Z"
    }
   },
   "outputs": [],
   "source": [
    "iris = load_iris()\n",
    "target_names = iris.target_names\n",
    "X, y = iris.data, iris.target\n",
    "y = iris.target_names[y]\n",
    "\n",
    "random_state = np.random.RandomState(0)\n",
    "n_samples, n_features = X.shape\n",
    "n_classes = len(np.unique(y))\n",
    "X = np.concatenate([X, random_state.randn(n_samples, 200 * n_features)], axis=1)\n",
    "(\n",
    "    X_train,\n",
    "    X_test,\n",
    "    y_train,\n",
    "    y_test,\n",
    ") = train_test_split(X, y, test_size=0.5, stratify=y, random_state=0)"
   ]
  },
  {
   "cell_type": "code",
   "execution_count": 4,
   "id": "3db84e44",
   "metadata": {
    "ExecuteTime": {
     "end_time": "2023-08-31T11:16:27.229262Z",
     "start_time": "2023-08-31T11:16:26.553740Z"
    }
   },
   "outputs": [],
   "source": [
    "import lightgbm as lgb"
   ]
  },
  {
   "cell_type": "code",
   "execution_count": 12,
   "id": "11c96185",
   "metadata": {
    "ExecuteTime": {
     "end_time": "2023-08-31T11:18:25.338684Z",
     "start_time": "2023-08-31T11:18:25.293820Z"
    }
   },
   "outputs": [],
   "source": [
    "model = lgb.LGBMClassifier(max_depth = 3, n_estimators = 2)\n",
    "\n",
    "model.fit(X = X, y = y)\n",
    "\n",
    "y_score = model.predict_proba(X_test)\n",
    "\n",
    "y_pred = model.predict(X_test)"
   ]
  },
  {
   "cell_type": "code",
   "execution_count": 13,
   "id": "c4a4563c",
   "metadata": {
    "ExecuteTime": {
     "end_time": "2023-08-31T11:18:31.240011Z",
     "start_time": "2023-08-31T11:18:31.231137Z"
    }
   },
   "outputs": [
    {
     "data": {
      "text/plain": [
       "(75, 3)"
      ]
     },
     "execution_count": 13,
     "metadata": {},
     "output_type": "execute_result"
    }
   ],
   "source": [
    "from sklearn.preprocessing import LabelBinarizer\n",
    "\n",
    "label_binarizer = LabelBinarizer().fit(y_train)\n",
    "y_onehot_test = label_binarizer.transform(y_test)\n",
    "y_onehot_test.shape  # (n_samples, n_classes)"
   ]
  },
  {
   "cell_type": "code",
   "execution_count": 15,
   "id": "3561436e",
   "metadata": {
    "ExecuteTime": {
     "end_time": "2023-08-31T11:18:51.533980Z",
     "start_time": "2023-08-31T11:18:51.527130Z"
    }
   },
   "outputs": [
    {
     "data": {
      "text/plain": [
       "array([[0, 0, 1]])"
      ]
     },
     "execution_count": 15,
     "metadata": {},
     "output_type": "execute_result"
    }
   ],
   "source": [
    "label_binarizer.transform([\"virginica\"])"
   ]
  },
  {
   "cell_type": "code",
   "execution_count": 16,
   "id": "e7584cb3",
   "metadata": {
    "ExecuteTime": {
     "end_time": "2023-08-31T11:19:06.500452Z",
     "start_time": "2023-08-31T11:19:06.493731Z"
    }
   },
   "outputs": [
    {
     "data": {
      "text/plain": [
       "2"
      ]
     },
     "execution_count": 16,
     "metadata": {},
     "output_type": "execute_result"
    }
   ],
   "source": [
    "class_of_interest = \"virginica\"\n",
    "class_id = np.flatnonzero(label_binarizer.classes_ == class_of_interest)[0]\n",
    "class_id"
   ]
  },
  {
   "cell_type": "code",
   "execution_count": 21,
   "id": "38b1d6f5",
   "metadata": {
    "ExecuteTime": {
     "end_time": "2023-08-31T11:20:21.709942Z",
     "start_time": "2023-08-31T11:20:21.706110Z"
    }
   },
   "outputs": [],
   "source": [
    "y_test_roc = y_onehot_test[:, class_id]"
   ]
  },
  {
   "cell_type": "code",
   "execution_count": 23,
   "id": "38d746d3",
   "metadata": {
    "ExecuteTime": {
     "end_time": "2023-08-31T11:20:42.363523Z",
     "start_time": "2023-08-31T11:20:42.357697Z"
    }
   },
   "outputs": [],
   "source": [
    "y_score_roc = y_score[:, class_id]"
   ]
  },
  {
   "cell_type": "code",
   "execution_count": 27,
   "id": "2491f95b",
   "metadata": {
    "ExecuteTime": {
     "end_time": "2023-08-31T11:22:36.434127Z",
     "start_time": "2023-08-31T11:22:36.316914Z"
    }
   },
   "outputs": [
    {
     "data": {
      "image/png": "[encoded data removed]",
      "text/plain": [
       "<Figure size 432x288 with 1 Axes>"
      ]
     },
     "metadata": {
      "needs_background": "light"
     },
     "output_type": "display_data"
    }
   ],
   "source": [
    "RocCurveDisplay.from_predictions(\n",
    "    y_test_roc,\n",
    "    y_score_roc,\n",
    "    name=f\"{class_of_interest} vs the rest\",\n",
    "    color=\"darkorange\"\n",
    ")\n",
    "plt.axis(\"square\")\n",
    "plt.xlabel(\"False Positive Rate\")\n",
    "plt.ylabel(\"True Positive Rate\")\n",
    "plt.title(\"One-vs-Rest ROC curves:\\nVirginica vs (Setosa & Versicolor)\")\n",
    "plt.legend()\n",
    "plt.show()"
   ]
  },
  {
   "cell_type": "code",
   "execution_count": 30,
   "id": "a00d76e4",
   "metadata": {
    "ExecuteTime": {
     "end_time": "2023-08-31T11:24:12.167175Z",
     "start_time": "2023-08-31T11:24:12.155811Z"
    }
   },
   "outputs": [
    {
     "name": "stdout",
     "output_type": "stream",
     "text": [
      "Macro-averaged One-vs-Rest ROC AUC score:\n",
      "0.99\n"
     ]
    }
   ],
   "source": [
    "from sklearn.metrics import roc_auc_score\n",
    "\n",
    "micro_roc_auc_ovr = roc_auc_score(\n",
    "    y_test,\n",
    "    y_score,\n",
    "    multi_class=\"ovr\",\n",
    "    average=\"macro\",\n",
    ")\n",
    "\n",
    "print(f\"Macro-averaged One-vs-Rest ROC AUC score:\\n{micro_roc_auc_ovr:.2f}\")"
   ]
  },
  {
   "cell_type": "code",
   "execution_count": 32,
   "id": "58fe309e",
   "metadata": {
    "ExecuteTime": {
     "end_time": "2023-08-31T11:24:29.537904Z",
     "start_time": "2023-08-31T11:24:29.526949Z"
    }
   },
   "outputs": [
    {
     "name": "stdout",
     "output_type": "stream",
     "text": [
      "Micro-averaged One-vs-Rest ROC AUC score:\n",
      "1.00\n"
     ]
    }
   ],
   "source": [
    "from sklearn.metrics import auc, roc_curve\n",
    "\n",
    "# store the fpr, tpr, and roc_auc for all averaging strategies\n",
    "fpr, tpr, roc_auc = dict(), dict(), dict()\n",
    "# Compute micro-average ROC curve and ROC area\n",
    "fpr[\"micro\"], tpr[\"micro\"], _ = roc_curve(y_onehot_test.ravel(), y_score.ravel())\n",
    "roc_auc[\"micro\"] = auc(fpr[\"micro\"], tpr[\"micro\"])\n",
    "\n",
    "print(f\"Micro-averaged One-vs-Rest ROC AUC score:\\n{roc_auc['micro']:.2f}\")"
   ]
  },
  {
   "cell_type": "code",
   "execution_count": 33,
   "id": "bbcc1e42",
   "metadata": {
    "ExecuteTime": {
     "end_time": "2023-08-31T11:24:37.927231Z",
     "start_time": "2023-08-31T11:24:37.911512Z"
    }
   },
   "outputs": [
    {
     "name": "stdout",
     "output_type": "stream",
     "text": [
      "Macro-averaged One-vs-Rest ROC AUC score:\n",
      "0.99\n"
     ]
    }
   ],
   "source": [
    "for i in range(n_classes):\n",
    "    fpr[i], tpr[i], _ = roc_curve(y_onehot_test[:, i], y_score[:, i])\n",
    "    roc_auc[i] = auc(fpr[i], tpr[i])\n",
    "\n",
    "fpr_grid = np.linspace(0.0, 1.0, 1000)\n",
    "\n",
    "# Interpolate all ROC curves at these points\n",
    "mean_tpr = np.zeros_like(fpr_grid)\n",
    "\n",
    "for i in range(n_classes):\n",
    "    mean_tpr += np.interp(fpr_grid, fpr[i], tpr[i])  # linear interpolation\n",
    "\n",
    "# Average it and compute AUC\n",
    "mean_tpr /= n_classes\n",
    "\n",
    "fpr[\"macro\"] = fpr_grid\n",
    "tpr[\"macro\"] = mean_tpr\n",
    "roc_auc[\"macro\"] = auc(fpr[\"macro\"], tpr[\"macro\"])\n",
    "\n",
    "print(f\"Macro-averaged One-vs-Rest ROC AUC score:\\n{roc_auc['macro']:.2f}\")"
   ]
  },
  {
   "cell_type": "code",
   "execution_count": 35,
   "id": "cf9c8502",
   "metadata": {
    "ExecuteTime": {
     "end_time": "2023-08-31T11:25:09.996606Z",
     "start_time": "2023-08-31T11:25:09.860572Z"
    }
   },
   "outputs": [
    {
     "data": {
      "image/png": "[encoded data removed]",
      "text/plain": [
       "<Figure size 432x432 with 1 Axes>"
      ]
     },
     "metadata": {
      "needs_background": "light"
     },
     "output_type": "display_data"
    }
   ],
   "source": [
    "from itertools import cycle\n",
    "\n",
    "fig, ax = plt.subplots(figsize=(6, 6))\n",
    "\n",
    "plt.plot(\n",
    "    fpr[\"micro\"],\n",
    "    tpr[\"micro\"],\n",
    "    label=f\"micro-average ROC curve (AUC = {roc_auc['micro']:.2f})\",\n",
    "    color=\"deeppink\",\n",
    "    linestyle=\":\",\n",
    "    linewidth=4,\n",
    ")\n",
    "\n",
    "plt.plot(\n",
    "    fpr[\"macro\"],\n",
    "    tpr[\"macro\"],\n",
    "    label=f\"macro-average ROC curve (AUC = {roc_auc['macro']:.2f})\",\n",
    "    color=\"navy\",\n",
    "    linestyle=\":\",\n",
    "    linewidth=4,\n",
    ")\n",
    "\n",
    "colors = cycle([\"aqua\", \"darkorange\", \"cornflowerblue\"])\n",
    "for class_id, color in zip(range(n_classes), colors):\n",
    "    RocCurveDisplay.from_predictions(\n",
    "        y_onehot_test[:, class_id],\n",
    "        y_score[:, class_id],\n",
    "        name=f\"ROC curve for {target_names[class_id]}\",\n",
    "        color=color,\n",
    "        ax=ax\n",
    "    )\n",
    "\n",
    "plt.axis(\"square\")\n",
    "plt.xlabel(\"False Positive Rate\")\n",
    "plt.ylabel(\"True Positive Rate\")\n",
    "plt.title(\"Extension of Receiver Operating Characteristic\\nto One-vs-Rest multiclass\")\n",
    "plt.legend()\n",
    "plt.show()"
   ]
  },
  {
   "cell_type": "code",
   "execution_count": null,
   "id": "21dc48fe",
   "metadata": {},
   "outputs": [],
   "source": []
  }
 ],
 "metadata": {
  "kernelspec": {
   "display_name": "Python 3 (ipykernel)",
   "language": "python",
   "name": "python3"
  },
  "language_info": {
   "codemirror_mode": {
    "name": "ipython",
    "version": 3
   },
   "file_extension": ".py",
   "mimetype": "text/x-python",
   "name": "python",
   "nbconvert_exporter": "python",
   "pygments_lexer": "ipython3",
   "version": "3.8.15"
  },
  "toc": {
   "base_numbering": 1,
   "nav_menu": {},
   "number_sections": true,
   "sideBar": true,
   "skip_h1_title": false,
   "title_cell": "Table of Contents",
   "title_sidebar": "Contents",
   "toc_cell": false,
   "toc_position": {},
   "toc_section_display": true,
   "toc_window_display": false
  }
 },
 "nbformat": 4,
 "nbformat_minor": 5
}
