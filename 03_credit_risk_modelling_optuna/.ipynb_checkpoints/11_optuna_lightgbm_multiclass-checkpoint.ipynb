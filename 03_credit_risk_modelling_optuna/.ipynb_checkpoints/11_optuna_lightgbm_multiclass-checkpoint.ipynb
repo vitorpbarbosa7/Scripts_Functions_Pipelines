{
 "cells": [
  {
   "cell_type": "code",
   "execution_count": 1,
   "metadata": {
    "ExecuteTime": {
     "end_time": "2023-03-11T15:25:12.141612Z",
     "start_time": "2023-03-11T15:25:10.584924Z"
    }
   },
   "outputs": [
    {
     "name": "stderr",
     "output_type": "stream",
     "text": [
      "/Users/vpb/anaconda3/envs/ds/lib/python3.8/site-packages/tqdm/auto.py:22: TqdmWarning: IProgress not found. Please update jupyter and ipywidgets. See https://ipywidgets.readthedocs.io/en/stable/user_install.html\n",
      "  from .autonotebook import tqdm as notebook_tqdm\n"
     ]
    }
   ],
   "source": [
    "# Boilerplate\n",
    "\n",
    "%load_ext autoreload\n",
    "%autoreload\n",
    "\n",
    "import pandas as pd \n",
    "import matplotlib.pyplot as plt \n",
    "import numpy as np\n",
    "import seaborn as sns\n",
    "import scipy.stats as stats\n",
    "import statsmodels.stats.api as sms\n",
    "import json\n",
    "import optuna\n",
    "\n",
    "from IPython.display import display\n",
    "from IPython.display import Markdown as md\n",
    "from IPython.core.interactiveshell import InteractiveShell\n",
    "InteractiveShell.ast_node_interactivity = \"all\"\n",
    "\n",
    "def f():\n",
    "    pd.set_option('display.max_columns', None)\n",
    "    pd.set_option('display.max_rows', None)\n",
    "    \n",
    "def nf():\n",
    "    pd.set_option('display.max_columns', None)\n",
    "    pd.set_option('display.max_rows', 4)\n",
    "nf()\n",
    "import warnings\n",
    "warnings.filterwarnings('ignore')\n",
    "\n",
    "def dp(df, r = 5, c = None):\n",
    "    from IPython.display import display\n",
    "    with pd.option_context('display.max_rows', 4, 'display.max_columns', None):\n",
    "        display(df)\n",
    "\n",
    "def fg(w = 6, h = 4, dpi = 120):\n",
    "    plt.rcParams['figure.figsize'] = (w,h)\n",
    "    plt.rcParams['figure.dpi'] = dpi\n",
    "fg()\n",
    "\n",
    "from libs.pipeline import Pipe\n",
    "import lightgbm as lgb\n",
    "\n",
    "df = pd.read_csv(\"data/UCI_Credit_Card.csv\")\n",
    "\n",
    "df.columns = df.columns.str.lower()\n",
    "\n",
    "df = df.drop('id', axis = 1)\n",
    "\n",
    "df = df.rename(columns = {'default.payment.next.month':'target'})\n",
    "\n",
    "df.to_parquet('data/df_to_feature_selection.parquet', index = False)"
   ]
  },
  {
   "cell_type": "code",
   "execution_count": 3,
   "metadata": {
    "ExecuteTime": {
     "end_time": "2023-03-11T15:25:37.361136Z",
     "start_time": "2023-03-11T15:25:23.324426Z"
    },
    "scrolled": false
   },
   "outputs": [
    {
     "name": "stderr",
     "output_type": "stream",
     "text": [
      "\u001b[32m[I 2023-03-11 12:25:23,338]\u001b[0m A new study created in memory with name: no-name-c956d4c5-33e1-47fb-96bb-6c8b3e7d010e\u001b[0m\n"
     ]
    },
    {
     "name": "stdout",
     "output_type": "stream",
     "text": [
      "\n",
      "        ##############################\n",
      "        ##############################\n",
      "        Tree Structered Parzen Estimator\n",
      "        ##############################\n",
      "        ##############################\n",
      "        \n",
      "\n",
      "        ##############################\n",
      "        ##############################\n",
      "        ##############################\n",
      "        Median Pruner was called\n",
      "        ##############################\n",
      "        ##############################\n",
      "        ##############################\n",
      "        \n",
      "[LightGBM] [Warning] boosting is set=dart, boosting_type=gbdt will be ignored. Current value: boosting=dart\n",
      "[LightGBM] [Warning] boosting is set=dart, boosting_type=gbdt will be ignored. Current value: boosting=dart\n"
     ]
    },
    {
     "name": "stderr",
     "output_type": "stream",
     "text": [
      "\u001b[32m[I 2023-03-11 12:25:24,857]\u001b[0m Trial 0 finished with value: 0.1876950294882914 and parameters: {'boosting': 'dart', 'learning_rate': 0.0198706273403391}. Best is trial 0 with value: 0.1876950294882914.\u001b[0m\n"
     ]
    },
    {
     "name": "stdout",
     "output_type": "stream",
     "text": [
      "[LightGBM] [Warning] boosting is set=dart, boosting_type=gbdt will be ignored. Current value: boosting=dart\n",
      "[LightGBM] [Warning] boosting is set=dart, boosting_type=gbdt will be ignored. Current value: boosting=dart\n"
     ]
    },
    {
     "name": "stderr",
     "output_type": "stream",
     "text": [
      "\u001b[32m[I 2023-03-11 12:25:26,197]\u001b[0m Trial 1 finished with value: 0.19405018807610594 and parameters: {'boosting': 'dart', 'learning_rate': 0.013511952156024331}. Best is trial 1 with value: 0.19405018807610594.\u001b[0m\n"
     ]
    },
    {
     "name": "stdout",
     "output_type": "stream",
     "text": [
      "[LightGBM] [Warning] boosting is set=dart, boosting_type=gbdt will be ignored. Current value: boosting=dart\n",
      "[LightGBM] [Warning] boosting is set=dart, boosting_type=gbdt will be ignored. Current value: boosting=dart\n"
     ]
    },
    {
     "name": "stderr",
     "output_type": "stream",
     "text": [
      "\u001b[32m[I 2023-03-11 12:25:27,478]\u001b[0m Trial 2 finished with value: 0.19384490311851982 and parameters: {'boosting': 'dart', 'learning_rate': 0.013689099812894538}. Best is trial 1 with value: 0.19405018807610594.\u001b[0m\n"
     ]
    },
    {
     "name": "stdout",
     "output_type": "stream",
     "text": [
      "[LightGBM] [Warning] boosting is set=dart, boosting_type=gbdt will be ignored. Current value: boosting=dart\n",
      "[LightGBM] [Warning] boosting is set=dart, boosting_type=gbdt will be ignored. Current value: boosting=dart\n"
     ]
    },
    {
     "name": "stderr",
     "output_type": "stream",
     "text": [
      "\u001b[32m[I 2023-03-11 12:25:28,614]\u001b[0m Trial 3 finished with value: 0.17614972235683474 and parameters: {'boosting': 'dart', 'learning_rate': 0.04895967354483655}. Best is trial 1 with value: 0.19405018807610594.\u001b[0m\n"
     ]
    },
    {
     "name": "stdout",
     "output_type": "stream",
     "text": [
      "[LightGBM] [Warning] boosting is set=dart, boosting_type=gbdt will be ignored. Current value: boosting=dart\n",
      "[LightGBM] [Warning] boosting is set=dart, boosting_type=gbdt will be ignored. Current value: boosting=dart\n"
     ]
    },
    {
     "name": "stderr",
     "output_type": "stream",
     "text": [
      "\u001b[32m[I 2023-03-11 12:25:29,782]\u001b[0m Trial 4 finished with value: 0.189167306911938 and parameters: {'boosting': 'dart', 'learning_rate': 0.018121952707560906}. Best is trial 1 with value: 0.19405018807610594.\u001b[0m\n"
     ]
    },
    {
     "name": "stdout",
     "output_type": "stream",
     "text": [
      "[LightGBM] [Warning] boosting is set=dart, boosting_type=gbdt will be ignored. Current value: boosting=dart\n",
      "[LightGBM] [Warning] boosting is set=dart, boosting_type=gbdt will be ignored. Current value: boosting=dart\n"
     ]
    },
    {
     "name": "stderr",
     "output_type": "stream",
     "text": [
      "\u001b[32m[I 2023-03-11 12:25:31,072]\u001b[0m Trial 5 finished with value: 0.17845836192030431 and parameters: {'boosting': 'dart', 'learning_rate': 0.03839724677800445}. Best is trial 1 with value: 0.19405018807610594.\u001b[0m\n"
     ]
    },
    {
     "name": "stdout",
     "output_type": "stream",
     "text": [
      "[LightGBM] [Warning] boosting is set=dart, boosting_type=gbdt will be ignored. Current value: boosting=dart\n",
      "[LightGBM] [Warning] boosting is set=dart, boosting_type=gbdt will be ignored. Current value: boosting=dart\n"
     ]
    },
    {
     "name": "stderr",
     "output_type": "stream",
     "text": [
      "\u001b[32m[I 2023-03-11 12:25:32,241]\u001b[0m Trial 6 finished with value: 0.17649509542772607 and parameters: {'boosting': 'dart', 'learning_rate': 0.046772471815441696}. Best is trial 1 with value: 0.19405018807610594.\u001b[0m\n"
     ]
    },
    {
     "name": "stdout",
     "output_type": "stream",
     "text": [
      "[LightGBM] [Warning] boosting is set=dart, boosting_type=gbdt will be ignored. Current value: boosting=dart\n",
      "[LightGBM] [Warning] boosting is set=dart, boosting_type=gbdt will be ignored. Current value: boosting=dart\n"
     ]
    },
    {
     "name": "stderr",
     "output_type": "stream",
     "text": [
      "\u001b[32m[I 2023-03-11 12:25:33,421]\u001b[0m Trial 7 finished with value: 0.18349356934439132 and parameters: {'boosting': 'dart', 'learning_rate': 0.026050094636995293}. Best is trial 1 with value: 0.19405018807610594.\u001b[0m\n"
     ]
    },
    {
     "name": "stdout",
     "output_type": "stream",
     "text": [
      "[LightGBM] [Warning] boosting is set=dart, boosting_type=gbdt will be ignored. Current value: boosting=dart\n",
      "[LightGBM] [Warning] boosting is set=dart, boosting_type=gbdt will be ignored. Current value: boosting=dart\n"
     ]
    },
    {
     "name": "stderr",
     "output_type": "stream",
     "text": [
      "\u001b[32m[I 2023-03-11 12:25:34,650]\u001b[0m Trial 8 finished with value: 0.17521035962977063 and parameters: {'boosting': 'dart', 'learning_rate': 0.05490396684660121}. Best is trial 1 with value: 0.19405018807610594.\u001b[0m\n"
     ]
    },
    {
     "name": "stdout",
     "output_type": "stream",
     "text": [
      "[LightGBM] [Warning] boosting is set=dart, boosting_type=gbdt will be ignored. Current value: boosting=dart\n",
      "[LightGBM] [Warning] boosting is set=dart, boosting_type=gbdt will be ignored. Current value: boosting=dart\n"
     ]
    },
    {
     "name": "stderr",
     "output_type": "stream",
     "text": [
      "\u001b[32m[I 2023-03-11 12:25:35,824]\u001b[0m Trial 9 finished with value: 0.17603298154712327 and parameters: {'boosting': 'dart', 'learning_rate': 0.049791510764976635}. Best is trial 1 with value: 0.19405018807610594.\u001b[0m\n",
      "\u001b[32m[I 2023-03-11 12:25:35,863]\u001b[0m Trial 10 pruned. Trial was pruned at iteration 1.\u001b[0m\n"
     ]
    },
    {
     "name": "stdout",
     "output_type": "stream",
     "text": [
      "##################\n",
      "        Parzen Estimator was called\n",
      "        #######################\n",
      "Low is -4.605170185988091, high is -2.3025850929940455 and q is None\n",
      "##################\n",
      "        Parzen Estimator was called\n",
      "        #######################\n",
      "Low is -4.605170185988091, high is -2.3025850929940455 and q is None\n",
      "misterious_value calculated is [-0.26653441 -0.46482839 -0.3486499  -0.27484033 -0.23949729 -0.2548196\n",
      " -0.22968965 -0.30467499 -0.26716003 -0.23162901 -0.56521812 -0.30548703\n",
      " -0.27050703 -0.21503052 -0.55491627 -0.31124631 -0.2122847  -0.61181566\n",
      " -0.23231435 -0.51794792 -0.27559087 -0.31796462 -0.62717598 -0.36991377]\n",
      "misterious_value calculated is [-2.04548088 -1.28209483 -1.62572951 -1.60534356 -1.88072254 -1.98053811\n",
      " -1.4980346  -1.65593536 -2.04871634 -1.82061899 -1.56054848 -1.65660596\n",
      " -2.06565501 -1.6512935  -1.49749515 -1.6600857  -1.60264386 -1.89189721\n",
      " -1.50201326 -1.33131115 -2.09023566 -1.66122361 -1.99938002 -1.5673384 ]\n",
      "[LightGBM] [Warning] boosting is set=dart, boosting_type=gbdt will be ignored. Current value: boosting=dart\n",
      "##################\n",
      "        Parzen Estimator was called\n",
      "        #######################\n",
      "Low is -4.605170185988091, high is -2.3025850929940455 and q is None\n",
      "##################\n",
      "        Parzen Estimator was called\n",
      "        #######################\n",
      "Low is -4.605170185988091, high is -2.3025850929940455 and q is None\n",
      "misterious_value calculated is [-0.36718279 -1.13645264 -0.58136801 -0.3691257  -0.60291677 -0.72467462\n",
      " -0.34438071 -0.40975173 -0.38479903 -0.43595841 -0.32202342 -0.33040512\n",
      " -0.35164878 -0.35680165 -0.5473615  -0.43827914 -0.88505358 -0.33282577\n",
      " -0.36267739 -0.32551523 -0.46619636 -0.88956772 -0.36622013 -0.32744744]\n",
      "misterious_value calculated is [-1.3753764  -2.36161612 -1.47766081 -1.37449712 -1.47891288 -1.358794\n",
      " -1.39431533 -1.37303032 -1.58444844 -1.38424478 -1.45752017 -1.51052601\n",
      " -1.54720385 -1.55379594 -1.46411863 -1.38555722 -1.26194358 -1.41362403\n",
      " -1.56082067 -1.43479808 -1.4042128  -1.27088076 -1.37584709 -1.50227531]\n",
      "[LightGBM] [Warning] boosting is set=dart, boosting_type=gbdt will be ignored. Current value: boosting=dart\n"
     ]
    },
    {
     "name": "stderr",
     "output_type": "stream",
     "text": [
      "\u001b[32m[I 2023-03-11 12:25:37,023]\u001b[0m Trial 11 finished with value: -1.8369532111862754 and parameters: {'boosting': 'dart', 'learning_rate': 0.0984828343268595}. Best is trial 1 with value: 0.19405018807610594.\u001b[0m\n",
      "\u001b[32m[I 2023-03-11 12:25:37,060]\u001b[0m Trial 12 pruned. Trial was pruned at iteration 1.\u001b[0m\n",
      "\u001b[32m[I 2023-03-11 12:25:37,098]\u001b[0m Trial 13 pruned. Trial was pruned at iteration 1.\u001b[0m\n",
      "\u001b[32m[I 2023-03-11 12:25:37,135]\u001b[0m Trial 14 pruned. Trial was pruned at iteration 1.\u001b[0m\n",
      "\u001b[32m[I 2023-03-11 12:25:37,182]\u001b[0m Trial 15 pruned. Trial was pruned at iteration 1.\u001b[0m\n"
     ]
    },
    {
     "name": "stdout",
     "output_type": "stream",
     "text": [
      "##################\n",
      "        Parzen Estimator was called\n",
      "        #######################\n",
      "Low is -4.605170185988091, high is -2.3025850929940455 and q is None\n",
      "##################\n",
      "        Parzen Estimator was called\n",
      "        #######################\n",
      "Low is -4.605170185988091, high is -2.3025850929940455 and q is None\n",
      "misterious_value calculated is [-0.47078581 -0.49184782 -0.32197585 -1.00607678 -0.39913251 -0.43789659\n",
      " -0.32764418 -0.3765282  -0.37293024 -0.39212403 -0.49295372 -0.51583212\n",
      " -0.69341427 -0.40715411 -0.73510123 -1.11348223 -0.34842552 -0.3989434\n",
      " -0.41322854 -1.06948264 -0.34384054 -0.52580528 -0.54135527 -0.57434616]\n",
      "misterious_value calculated is [-1.42153918 -1.42892342 -1.55304618 -1.5312023  -1.41376689 -1.41294009\n",
      " -1.58709013 -1.42362846 -1.42609464 -1.41589642 -1.42931977 -1.43713546\n",
      " -1.3454104  -1.41219531 -1.27821399 -1.6808401  -1.45229387 -1.68981279\n",
      " -1.41155587 -1.63950845 -1.62370446 -1.44005662 -1.44358976 -1.44500657]\n",
      "[LightGBM] [Warning] boosting is set=dart, boosting_type=gbdt will be ignored. Current value: boosting=dart\n",
      "##################\n",
      "        Parzen Estimator was called\n",
      "        #######################\n",
      "Low is -4.605170185988091, high is -2.3025850929940455 and q is None\n",
      "##################\n",
      "        Parzen Estimator was called\n",
      "        #######################\n",
      "Low is -4.605170185988091, high is -2.3025850929940455 and q is None\n",
      "misterious_value calculated is [-0.36528939 -0.6236691  -0.33309669 -0.61899971 -0.86219063 -0.51249329\n",
      " -0.37770802 -0.52547248 -0.702164   -0.3577841  -0.58661341 -0.32185343\n",
      " -0.43186409 -0.36830541 -0.32519504 -0.38993974 -0.59831914 -1.0340561\n",
      " -0.42994237 -0.79285491 -0.32201043 -1.00357235 -0.81249582 -0.9281589 ]\n",
      "misterious_value calculated is [-1.46728275 -1.52323621 -1.54451246 -1.52593969 -1.26214057 -1.52687873\n",
      " -1.4567169  -1.53115534 -1.43704279 -1.47852372 -1.53738989 -1.59040796\n",
      " -1.50179863 -1.51867478 -1.58336168 -1.45501792 -1.53467063 -1.69277771\n",
      " -1.5015771  -1.29091259 -1.5895039  -1.63122007 -1.2692113  -1.39240211]\n",
      "##################\n",
      "        Parzen Estimator was called\n",
      "        #######################\n",
      "Low is -4.605170185988091, high is -2.3025850929940455 and q is None\n",
      "##################\n",
      "        Parzen Estimator was called\n",
      "        #######################\n",
      "Low is -4.605170185988091, high is -2.3025850929940455 and q is None\n",
      "misterious_value calculated is [-0.37332909 -0.32192598 -0.48202949 -0.32551195 -0.36288091 -1.10850919\n",
      " -0.52082403 -0.34825252 -0.74537942 -0.4667046  -0.32971016 -0.84698585\n",
      " -0.34553025 -0.41139437 -0.38297131 -0.39890114 -0.4152578  -0.93590938\n",
      " -0.60969846 -0.32233995 -0.32840417 -0.33915581 -0.37564839 -0.33086581]\n",
      "misterious_value calculated is [-1.52777809 -1.64761752 -1.7286112  -1.63902569 -1.61836672 -1.85120184\n",
      " -1.76134367 -1.61805616 -1.54192943 -1.71267615 -1.62091449 -1.37865003\n",
      " -1.57147134 -1.6525301  -1.62807242 -1.64067798 -1.65644656 -1.53385809\n",
      " -1.7644081  -1.64624757 -1.63395719 -1.58960623 -1.52671098 -1.63041427]\n",
      "##################\n",
      "        Parzen Estimator was called\n",
      "        #######################\n",
      "Low is -4.605170185988091, high is -2.3025850929940455 and q is None\n",
      "##################\n",
      "        Parzen Estimator was called\n",
      "        #######################\n",
      "Low is -4.605170185988091, high is -2.3025850929940455 and q is None\n",
      "misterious_value calculated is [-0.43681125 -0.36556937 -0.3399628  -0.72730815 -0.69031079 -0.48108925\n",
      " -0.72286604 -0.42343772 -0.51848119 -0.37174393 -0.93384236 -0.38092322\n",
      " -0.3309569  -0.34986268 -0.40859249 -0.34657935 -0.49334931 -0.36074579\n",
      " -1.09626316 -0.34896374 -0.32653307 -0.37899607 -0.59873762 -0.73105425]\n",
      "misterious_value calculated is [-1.72894323 -1.52642912 -1.5502277  -1.67159947 -1.74547775 -1.79114464\n",
      " -1.68124005 -1.70792385 -1.82962411 -1.62468819 -1.61188636 -1.63911415\n",
      " -1.57345223 -1.5931179  -1.68397138 -1.58896253 -1.80547526 -1.60815461\n",
      " -1.91719601 -1.59195907 -1.57134865 -1.52879519 -1.84728198 -1.6633397 ]\n",
      "##################\n",
      "        Parzen Estimator was called\n",
      "        #######################\n",
      "Low is -4.605170185988091, high is -2.3025850929940455 and q is None\n",
      "##################\n",
      "        Parzen Estimator was called\n",
      "        #######################\n",
      "Low is -4.605170185988091, high is -2.3025850929940455 and q is None\n",
      "misterious_value calculated is [-0.93723074 -0.84539428 -0.32249259 -0.38423298 -1.05990457 -0.49442127\n",
      " -0.39025841 -0.34811334 -1.04274895 -0.3661269  -0.90199765 -0.35230833\n",
      " -0.98299317 -1.03413786 -0.34944911 -0.32244465 -0.32338839 -0.64171569\n",
      " -0.33934516 -0.32786759 -0.43625794 -0.60280254 -0.98526437 -0.85689654]\n",
      "misterious_value calculated is [-1.70620612 -1.53086263 -1.6651164  -1.65942369 -1.96756192 -1.7270942\n",
      " -1.66166994 -1.6486964  -1.95790106 -1.60740715 -1.58963976 -1.64951987\n",
      " -1.86495851 -1.95156264 -1.62588301 -1.65838365 -1.66565048 -1.83946479\n",
      " -1.6433953  -1.66245907 -1.68302275 -1.82862532 -1.87113714 -1.5280843 ]\n"
     ]
    },
    {
     "name": "stderr",
     "output_type": "stream",
     "text": [
      "\u001b[32m[I 2023-03-11 12:25:37,239]\u001b[0m Trial 16 pruned. Trial was pruned at iteration 1.\u001b[0m\n",
      "\u001b[32m[I 2023-03-11 12:25:37,278]\u001b[0m Trial 17 pruned. Trial was pruned at iteration 1.\u001b[0m\n",
      "\u001b[32m[I 2023-03-11 12:25:37,317]\u001b[0m Trial 18 pruned. Trial was pruned at iteration 1.\u001b[0m\n",
      "\u001b[32m[I 2023-03-11 12:25:37,354]\u001b[0m Trial 19 pruned. Trial was pruned at iteration 1.\u001b[0m\n"
     ]
    },
    {
     "name": "stdout",
     "output_type": "stream",
     "text": [
      "##################\n",
      "        Parzen Estimator was called\n",
      "        #######################\n",
      "Low is -4.605170185988091, high is -2.3025850929940455 and q is None\n",
      "##################\n",
      "        Parzen Estimator was called\n",
      "        #######################\n",
      "Low is -4.605170185988091, high is -2.3025850929940455 and q is None\n",
      "misterious_value calculated is [-0.45422838 -0.62312072 -0.84483411 -0.32333885 -0.37823132 -0.95687529\n",
      " -0.39703711 -0.8085254  -1.03306765 -0.32545199 -0.51157003 -1.0342076\n",
      " -0.4906259  -0.33645977 -0.33749953 -0.37843351 -0.4406202  -0.36168146\n",
      " -0.36907571 -0.94954433 -0.47458517 -0.34181312 -0.35974131 -0.32331615]\n",
      "misterious_value calculated is [-1.77356283 -1.90777327 -1.59725831 -1.61744336 -1.65767508 -1.85842663\n",
      " -1.74446333 -1.65166229 -2.01874432 -1.62745078 -1.81911834 -2.01953723\n",
      " -1.80029223 -1.66854332 -1.67161593 -1.73338824 -1.76566761 -1.65272069\n",
      " -1.65354875 -1.83070238 -1.7874828  -1.68314875 -1.71540485 -1.6173314 ]\n",
      "##################\n",
      "        Parzen Estimator was called\n",
      "        #######################\n",
      "Low is -4.605170185988091, high is -2.3025850929940455 and q is None\n",
      "##################\n",
      "        Parzen Estimator was called\n",
      "        #######################\n",
      "Low is -4.605170185988091, high is -2.3025850929940455 and q is None\n",
      "misterious_value calculated is [-0.42245078 -0.32346956 -0.42980443 -0.36900025 -0.71379423 -0.60334865\n",
      " -0.95503824 -0.32463982 -0.32412517 -0.32395767 -0.32349868 -0.37823557\n",
      " -0.57780392 -0.35448303 -0.32653948 -0.42264076 -1.12424626 -0.36908698\n",
      " -0.33659223 -0.36967752 -0.53730012 -0.74988518 -0.3450495  -0.45912786]\n",
      "misterious_value calculated is [-1.75887666 -1.64492896 -1.77146899 -1.72361958 -1.92526312 -1.96047879\n",
      " -1.92555786 -1.64344829 -1.6439947  -1.67837364 -1.64487967 -1.67599601\n",
      " -1.94232884 -1.6452311  -1.6421439  -1.75921081 -2.13280009 -1.72361105\n",
      " -1.72177167 -1.72356178 -1.90345936 -1.86161754 -1.64038832 -1.81479774]\n",
      "##################\n",
      "        Parzen Estimator was called\n",
      "        #######################\n",
      "Low is -4.605170185988091, high is -2.3025850929940455 and q is None\n",
      "##################\n",
      "        Parzen Estimator was called\n",
      "        #######################\n",
      "Low is -4.605170185988091, high is -2.3025850929940455 and q is None\n",
      "misterious_value calculated is [-0.32603189 -0.43641129 -0.38814721 -0.60244968 -0.32231409 -0.3729229\n",
      " -0.3525297  -0.3218387  -1.06728864 -0.35262617 -1.00022941 -0.33941477\n",
      " -0.32218345 -0.35147151 -0.3503231  -1.05605049 -0.32198409 -0.4508949\n",
      " -0.57047688 -0.32626226 -0.92684542 -0.34606629 -0.36263894 -0.36337286]\n",
      "misterious_value calculated is [-1.76901893 -1.90559201 -1.78765309 -2.02606434 -1.71171332 -1.77565917\n",
      " -1.82021943 -1.72177036 -2.15464488 -1.7771742  -2.11138386 -1.76697645\n",
      " -1.72958403 -1.77707356 -1.77687311 -2.15021377 -1.71279063 -1.91809696\n",
      " -2.00663823 -1.72457354 -1.87944178 -1.81771546 -1.77584839 -1.77571886]\n"
     ]
    },
    {
     "data": {
      "text/plain": [
       "<optuna.study.study.Study at 0x7fd4a507af10>"
      ]
     },
     "execution_count": 3,
     "metadata": {},
     "output_type": "execute_result"
    }
   ],
   "source": [
    "# Optuna\n",
    "\n",
    "from libs.tuning_cv_dois import Tuning\n",
    "\n",
    "tuning = Tuning(df,\n",
    "                target_var = 'target', \n",
    "                n_trials = 20,\n",
    "                metric='average_precision',\n",
    "                direction = 'maximize')\n",
    "\n",
    "tuning.exec()"
   ]
  },
  {
   "cell_type": "code",
   "execution_count": null,
   "metadata": {
    "ExecuteTime": {
     "end_time": "2023-03-11T15:25:12.150500Z",
     "start_time": "2023-03-11T15:25:12.150491Z"
    }
   },
   "outputs": [],
   "source": [
    "stop"
   ]
  },
  {
   "cell_type": "code",
   "execution_count": null,
   "metadata": {},
   "outputs": [],
   "source": []
  },
  {
   "cell_type": "code",
   "execution_count": null,
   "metadata": {},
   "outputs": [],
   "source": []
  },
  {
   "cell_type": "code",
   "execution_count": null,
   "metadata": {
    "ExecuteTime": {
     "end_time": "2023-03-11T15:25:12.151767Z",
     "start_time": "2023-03-11T15:25:12.151758Z"
    }
   },
   "outputs": [],
   "source": [
    "\n",
    "optuna.visualization.plot_intermediate_values(tuning.study)\n",
    "\n",
    "bestparams = tuning.study.best_parasmjson\n",
    "\n",
    "bestparams"
   ]
  },
  {
   "cell_type": "code",
   "execution_count": null,
   "metadata": {
    "ExecuteTime": {
     "end_time": "2023-03-11T15:25:12.153289Z",
     "start_time": "2023-03-11T15:25:12.153280Z"
    }
   },
   "outputs": [],
   "source": [
    "stop"
   ]
  },
  {
   "cell_type": "code",
   "execution_count": null,
   "metadata": {},
   "outputs": [],
   "source": []
  },
  {
   "cell_type": "code",
   "execution_count": null,
   "metadata": {},
   "outputs": [],
   "source": []
  },
  {
   "cell_type": "code",
   "execution_count": null,
   "metadata": {},
   "outputs": [],
   "source": []
  },
  {
   "cell_type": "code",
   "execution_count": null,
   "metadata": {},
   "outputs": [],
   "source": []
  },
  {
   "cell_type": "code",
   "execution_count": null,
   "metadata": {},
   "outputs": [],
   "source": []
  },
  {
   "cell_type": "code",
   "execution_count": null,
   "metadata": {},
   "outputs": [],
   "source": []
  },
  {
   "cell_type": "code",
   "execution_count": null,
   "metadata": {},
   "outputs": [],
   "source": []
  },
  {
   "cell_type": "code",
   "execution_count": null,
   "metadata": {},
   "outputs": [],
   "source": []
  },
  {
   "cell_type": "code",
   "execution_count": null,
   "metadata": {},
   "outputs": [],
   "source": []
  },
  {
   "cell_type": "code",
   "execution_count": null,
   "metadata": {},
   "outputs": [],
   "source": []
  },
  {
   "cell_type": "code",
   "execution_count": null,
   "metadata": {},
   "outputs": [],
   "source": []
  },
  {
   "cell_type": "code",
   "execution_count": null,
   "metadata": {},
   "outputs": [],
   "source": []
  },
  {
   "cell_type": "code",
   "execution_count": null,
   "metadata": {},
   "outputs": [],
   "source": []
  },
  {
   "cell_type": "code",
   "execution_count": null,
   "metadata": {},
   "outputs": [],
   "source": []
  },
  {
   "cell_type": "markdown",
   "metadata": {},
   "source": [
    "# Optuna"
   ]
  },
  {
   "cell_type": "code",
   "execution_count": null,
   "metadata": {
    "ExecuteTime": {
     "end_time": "2023-03-11T15:25:12.154488Z",
     "start_time": "2023-03-11T15:25:12.154476Z"
    }
   },
   "outputs": [],
   "source": [
    "bestparams = tuning.study.best_params\n",
    "\n",
    "bestparams"
   ]
  },
  {
   "cell_type": "code",
   "execution_count": null,
   "metadata": {
    "ExecuteTime": {
     "end_time": "2023-03-11T15:25:12.155992Z",
     "start_time": "2023-03-11T15:25:12.155983Z"
    }
   },
   "outputs": [],
   "source": [
    "study = tuning.study"
   ]
  },
  {
   "cell_type": "code",
   "execution_count": null,
   "metadata": {
    "ExecuteTime": {
     "end_time": "2023-03-11T15:25:12.156858Z",
     "start_time": "2023-03-11T15:25:12.156850Z"
    }
   },
   "outputs": [],
   "source": [
    "df_trials = study.trials_dataframe()"
   ]
  },
  {
   "cell_type": "code",
   "execution_count": null,
   "metadata": {
    "ExecuteTime": {
     "end_time": "2023-03-11T15:25:12.157645Z",
     "start_time": "2023-03-11T15:25:12.157636Z"
    }
   },
   "outputs": [],
   "source": [
    "list(df_trials)"
   ]
  },
  {
   "cell_type": "code",
   "execution_count": null,
   "metadata": {
    "ExecuteTime": {
     "end_time": "2023-03-11T15:25:12.158913Z",
     "start_time": "2023-03-11T15:25:12.158855Z"
    }
   },
   "outputs": [],
   "source": [
    "df_trials"
   ]
  },
  {
   "cell_type": "code",
   "execution_count": null,
   "metadata": {},
   "outputs": [],
   "source": []
  }
 ],
 "metadata": {
  "kernelspec": {
   "display_name": "Python 3 (ipykernel)",
   "language": "python",
   "name": "python3"
  },
  "language_info": {
   "codemirror_mode": {
    "name": "ipython",
    "version": 3
   },
   "file_extension": ".py",
   "mimetype": "text/x-python",
   "name": "python",
   "nbconvert_exporter": "python",
   "pygments_lexer": "ipython3",
   "version": "3.8.15"
  },
  "toc": {
   "base_numbering": 1,
   "nav_menu": {},
   "number_sections": true,
   "sideBar": true,
   "skip_h1_title": false,
   "title_cell": "Table of Contents",
   "title_sidebar": "Contents",
   "toc_cell": false,
   "toc_position": {},
   "toc_section_display": true,
   "toc_window_display": false
  },
  "varInspector": {
   "cols": {
    "lenName": 16,
    "lenType": 16,
    "lenVar": 40
   },
   "kernels_config": {
    "python": {
     "delete_cmd_postfix": "",
     "delete_cmd_prefix": "del ",
     "library": "var_list.py",
     "varRefreshCmd": "print(var_dic_list())"
    },
    "r": {
     "delete_cmd_postfix": ") ",
     "delete_cmd_prefix": "rm(",
     "library": "var_list.r",
     "varRefreshCmd": "cat(var_dic_list()) "
    }
   },
   "types_to_exclude": [
    "module",
    "function",
    "builtin_function_or_method",
    "instance",
    "_Feature"
   ],
   "window_display": false
  }
 },
 "nbformat": 4,
 "nbformat_minor": 4
}
