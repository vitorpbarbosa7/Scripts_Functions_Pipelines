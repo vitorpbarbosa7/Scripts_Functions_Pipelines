{
 "cells": [
  {
   "cell_type": "markdown",
   "metadata": {},
   "source": [
    "# Boilerplate"
   ]
  },
  {
   "cell_type": "code",
   "execution_count": 1,
   "metadata": {
    "ExecuteTime": {
     "end_time": "2022-10-28T09:52:41.344574Z",
     "start_time": "2022-10-28T09:52:38.915325Z"
    }
   },
   "outputs": [
    {
     "name": "stderr",
     "output_type": "stream",
     "text": [
      "/Users/vpb/anaconda3/envs/kenv/lib/python3.7/site-packages/IPython/extensions/autoreload.py:121: DeprecationWarning: the imp module is deprecated in favour of importlib; see the module's documentation for alternative uses\n",
      "  from imp import reload\n",
      "/Users/vpb/anaconda3/envs/kenv/lib/python3.7/site-packages/pandas/compat/numpy/__init__.py:10: DeprecationWarning: distutils Version classes are deprecated. Use packaging.version instead.\n",
      "  _nlv = LooseVersion(_np_version)\n",
      "/Users/vpb/anaconda3/envs/kenv/lib/python3.7/site-packages/pandas/compat/numpy/__init__.py:11: DeprecationWarning: distutils Version classes are deprecated. Use packaging.version instead.\n",
      "  np_version_under1p17 = _nlv < LooseVersion(\"1.17\")\n",
      "/Users/vpb/anaconda3/envs/kenv/lib/python3.7/site-packages/pandas/compat/numpy/__init__.py:12: DeprecationWarning: distutils Version classes are deprecated. Use packaging.version instead.\n",
      "  np_version_under1p18 = _nlv < LooseVersion(\"1.18\")\n",
      "/Users/vpb/anaconda3/envs/kenv/lib/python3.7/site-packages/pandas/compat/numpy/__init__.py:13: DeprecationWarning: distutils Version classes are deprecated. Use packaging.version instead.\n",
      "  _np_version_under1p19 = _nlv < LooseVersion(\"1.19\")\n",
      "/Users/vpb/anaconda3/envs/kenv/lib/python3.7/site-packages/pandas/compat/numpy/__init__.py:14: DeprecationWarning: distutils Version classes are deprecated. Use packaging.version instead.\n",
      "  _np_version_under1p20 = _nlv < LooseVersion(\"1.20\")\n",
      "/Users/vpb/anaconda3/envs/kenv/lib/python3.7/site-packages/setuptools/_distutils/version.py:351: DeprecationWarning: distutils Version classes are deprecated. Use packaging.version instead.\n",
      "  other = LooseVersion(other)\n",
      "/Users/vpb/anaconda3/envs/kenv/lib/python3.7/site-packages/pandas/compat/numpy/function.py:120: DeprecationWarning: distutils Version classes are deprecated. Use packaging.version instead.\n",
      "  if LooseVersion(__version__) >= LooseVersion(\"1.17.0\"):\n",
      "/Users/vpb/anaconda3/envs/kenv/lib/python3.7/site-packages/seaborn/rcmod.py:82: DeprecationWarning: distutils Version classes are deprecated. Use packaging.version instead.\n",
      "  if LooseVersion(mpl.__version__) >= \"3.0\":\n",
      "/Users/vpb/anaconda3/envs/kenv/lib/python3.7/site-packages/setuptools/_distutils/version.py:351: DeprecationWarning: distutils Version classes are deprecated. Use packaging.version instead.\n",
      "  other = LooseVersion(other)\n",
      "/Users/vpb/anaconda3/envs/kenv/lib/python3.7/site-packages/tqdm/auto.py:22: TqdmWarning: IProgress not found. Please update jupyter and ipywidgets. See https://ipywidgets.readthedocs.io/en/stable/user_install.html\n",
      "  from .autonotebook import tqdm as notebook_tqdm\n"
     ]
    }
   ],
   "source": [
    "%load_ext autoreload\n",
    "%autoreload\n",
    "\n",
    "import pandas as pd \n",
    "import matplotlib.pyplot as plt \n",
    "import numpy as np\n",
    "import seaborn as sns\n",
    "import json\n",
    "import optuna\n",
    "\n",
    "from IPython.display import display\n",
    "from IPython.display import Markdown as md\n",
    "from IPython.core.interactiveshell import InteractiveShell\n",
    "InteractiveShell.ast_node_interactivity = \"all\"\n",
    "\n",
    "import warnings\n",
    "warnings.filterwarnings('ignore')"
   ]
  },
  {
   "cell_type": "code",
   "execution_count": 2,
   "metadata": {
    "ExecuteTime": {
     "end_time": "2022-10-28T09:52:41.348861Z",
     "start_time": "2022-10-28T09:52:41.345534Z"
    }
   },
   "outputs": [],
   "source": [
    "def f():\n",
    "    pd.set_option('display.max_columns', None)\n",
    "    pd.set_option('display.max_rows', None)\n",
    "    \n",
    "def nf():\n",
    "    pd.set_option('display.max_columns', None)\n",
    "    pd.set_option('display.max_rows', 4)\n",
    "nf()"
   ]
  },
  {
   "cell_type": "code",
   "execution_count": 3,
   "metadata": {
    "ExecuteTime": {
     "end_time": "2022-10-28T09:52:41.353907Z",
     "start_time": "2022-10-28T09:52:41.350870Z"
    }
   },
   "outputs": [],
   "source": [
    "def dp(df, r = 5, c = None):\n",
    "    from IPython.display import display\n",
    "    with pd.option_context('display.max_rows', 4, 'display.max_columns', None):\n",
    "        display(df)\n",
    "\n",
    "def fg(w = 6, h = 4, dpi = 120):\n",
    "    plt.rcParams['figure.figsize'] = (w,h)\n",
    "    plt.rcParams['figure.dpi'] = dpi\n",
    "fg()"
   ]
  },
  {
   "cell_type": "code",
   "execution_count": 4,
   "metadata": {
    "ExecuteTime": {
     "end_time": "2022-10-28T09:52:41.375003Z",
     "start_time": "2022-10-28T09:52:41.355351Z"
    }
   },
   "outputs": [],
   "source": [
    "from libs.pipeline import Pipe\n",
    "import lightgbm as lgb"
   ]
  },
  {
   "cell_type": "code",
   "execution_count": 5,
   "metadata": {
    "ExecuteTime": {
     "end_time": "2022-10-28T09:52:41.548516Z",
     "start_time": "2022-10-28T09:52:41.376061Z"
    }
   },
   "outputs": [],
   "source": [
    "df = pd.read_csv(\"data/UCI_Credit_Card.csv\")\n",
    "\n",
    "df.columns = df.columns.str.lower()\n",
    "\n",
    "df = df.drop('id', axis = 1)\n",
    "\n",
    "df = df.rename(columns = {'default.payment.next.month':'target'})\n",
    "\n",
    "df.to_parquet('data/df_to_feature_selection.parquet', index = False)"
   ]
  },
  {
   "cell_type": "markdown",
   "metadata": {},
   "source": [
    "# Optuna"
   ]
  },
  {
   "cell_type": "code",
   "execution_count": 6,
   "metadata": {
    "ExecuteTime": {
     "end_time": "2022-10-28T09:52:41.554386Z",
     "start_time": "2022-10-28T09:52:41.549530Z"
    }
   },
   "outputs": [],
   "source": [
    "from libs.tuning import Tuning"
   ]
  },
  {
   "cell_type": "code",
   "execution_count": 7,
   "metadata": {
    "ExecuteTime": {
     "end_time": "2022-10-28T09:52:53.413380Z",
     "start_time": "2022-10-28T09:52:41.555220Z"
    }
   },
   "outputs": [
    {
     "name": "stderr",
     "output_type": "stream",
     "text": [
      "\u001b[32m[I 2022-10-28 06:52:41,556]\u001b[0m A new study created in memory with name: no-name-248f77a1-add7-483c-91e0-42645fa40b6a\u001b[0m\n"
     ]
    },
    {
     "name": "stdout",
     "output_type": "stream",
     "text": [
      "[LightGBM] [Warning] Unknown parameter: ming_gain_to_split\n",
      "[LightGBM] [Warning] bagging_freq is set=11, subsample_freq=0 will be ignored. Current value: bagging_freq=11\n",
      "[LightGBM] [Warning] lambda_l1 is set=100, reg_alpha=0.0 will be ignored. Current value: lambda_l1=100\n",
      "[LightGBM] [Warning] min_data_in_leaf is set=140, min_child_samples=20 will be ignored. Current value: min_data_in_leaf=140\n",
      "[LightGBM] [Warning] feature_fraction is set=0.5, colsample_bytree=1.5 will be ignored. Current value: feature_fraction=0.5\n",
      "[LightGBM] [Warning] bagging_fraction is set=0.4, subsample=1.0 will be ignored. Current value: bagging_fraction=0.4\n",
      "[LightGBM] [Warning] lambda_l2 is set=25, reg_lambda=0.0 will be ignored. Current value: lambda_l2=25\n",
      "[LightGBM] [Warning] boosting is set=dart, boosting_type=gbdt will be ignored. Current value: boosting=dart\n"
     ]
    },
    {
     "name": "stderr",
     "output_type": "stream",
     "text": [
      "\u001b[32m[I 2022-10-28 06:52:41,965]\u001b[0m Trial 0 finished with value: 0.47 and parameters: {'boosting': 'dart', 'drop_rate': 0.45000000000000007, 'extra_trees': True, 'device_type': 'cpu', 'colsample_bytree': 1.5, 'n_estimators': 110, 'learning_rate': 0.16, 'num_leaves': 20, 'max_depth': 6, 'min_gain_to_split': 0.09999999999999999, 'min_data_in_leaf': 140, 'min_child_weight': 0.00041000000000000005, 'lambda_l1': 100, 'lambda_l2': 25, 'bagging_fraction': 0.4, 'bagging_freq': 11, 'feature_fraction': 0.5, 'feature_fraction_bynode': 0.55, 'pos_bagging_fraction': 0.4}. Best is trial 0 with value: 0.47.\u001b[0m\n"
     ]
    },
    {
     "name": "stdout",
     "output_type": "stream",
     "text": [
      "[LightGBM] [Warning] Unknown parameter: ming_gain_to_split\n",
      "[LightGBM] [Warning] bagging_freq is set=6, subsample_freq=0 will be ignored. Current value: bagging_freq=6\n",
      "[LightGBM] [Warning] lambda_l1 is set=65, reg_alpha=0.0 will be ignored. Current value: lambda_l1=65\n",
      "[LightGBM] [Warning] min_data_in_leaf is set=40, min_child_samples=20 will be ignored. Current value: min_data_in_leaf=40\n",
      "[LightGBM] [Warning] feature_fraction is set=0.2, colsample_bytree=1.2 will be ignored. Current value: feature_fraction=0.2\n",
      "[LightGBM] [Warning] bagging_fraction is set=0.6000000000000001, subsample=1.0 will be ignored. Current value: bagging_fraction=0.6000000000000001\n",
      "[LightGBM] [Warning] lambda_l2 is set=35, reg_lambda=0.0 will be ignored. Current value: lambda_l2=35\n",
      "[LightGBM] [Warning] boosting is set=dart, boosting_type=gbdt will be ignored. Current value: boosting=dart\n"
     ]
    },
    {
     "name": "stderr",
     "output_type": "stream",
     "text": [
      "\u001b[32m[I 2022-10-28 06:52:42,319]\u001b[0m Trial 1 finished with value: 0.0 and parameters: {'boosting': 'dart', 'drop_rate': 0.185, 'extra_trees': True, 'device_type': 'cpu', 'colsample_bytree': 1.2, 'n_estimators': 170, 'learning_rate': 0.03, 'num_leaves': 35, 'max_depth': 9, 'min_gain_to_split': 0.037, 'min_data_in_leaf': 40, 'min_child_weight': 0.0006100000000000001, 'lambda_l1': 65, 'lambda_l2': 35, 'bagging_fraction': 0.6000000000000001, 'bagging_freq': 6, 'feature_fraction': 0.2, 'feature_fraction_bynode': 0.5, 'pos_bagging_fraction': 0.55}. Best is trial 0 with value: 0.47.\u001b[0m\n"
     ]
    },
    {
     "name": "stdout",
     "output_type": "stream",
     "text": [
      "[LightGBM] [Warning] Unknown parameter: ming_gain_to_split\n",
      "[LightGBM] [Warning] bagging_freq is set=11, subsample_freq=0 will be ignored. Current value: bagging_freq=11\n",
      "[LightGBM] [Warning] lambda_l1 is set=100, reg_alpha=0.0 will be ignored. Current value: lambda_l1=100\n",
      "[LightGBM] [Warning] min_data_in_leaf is set=90, min_child_samples=20 will be ignored. Current value: min_data_in_leaf=90\n",
      "[LightGBM] [Warning] feature_fraction is set=0.5, colsample_bytree=1.4 will be ignored. Current value: feature_fraction=0.5\n",
      "[LightGBM] [Warning] bagging_fraction is set=0.6000000000000001, subsample=1.0 will be ignored. Current value: bagging_fraction=0.6000000000000001\n",
      "[LightGBM] [Warning] lambda_l2 is set=50, reg_lambda=0.0 will be ignored. Current value: lambda_l2=50\n",
      "[LightGBM] [Warning] boosting is set=dart, boosting_type=gbdt will be ignored. Current value: boosting=dart\n"
     ]
    },
    {
     "name": "stderr",
     "output_type": "stream",
     "text": [
      "\u001b[32m[I 2022-10-28 06:52:43,129]\u001b[0m Trial 2 finished with value: 0.48 and parameters: {'boosting': 'dart', 'drop_rate': 0.345, 'extra_trees': False, 'device_type': 'cpu', 'colsample_bytree': 1.4, 'n_estimators': 100, 'learning_rate': 0.16, 'num_leaves': 30, 'max_depth': 4, 'min_gain_to_split': 0.018000000000000002, 'min_data_in_leaf': 90, 'min_child_weight': 0.00051, 'lambda_l1': 100, 'lambda_l2': 50, 'bagging_fraction': 0.6000000000000001, 'bagging_freq': 11, 'feature_fraction': 0.5, 'feature_fraction_bynode': 0.7, 'pos_bagging_fraction': 0.65}. Best is trial 2 with value: 0.48.\u001b[0m\n"
     ]
    },
    {
     "name": "stdout",
     "output_type": "stream",
     "text": [
      "[LightGBM] [Warning] Unknown parameter: ming_gain_to_split\n",
      "[LightGBM] [Warning] bagging_freq is set=1, subsample_freq=0 will be ignored. Current value: bagging_freq=1\n",
      "[LightGBM] [Warning] lambda_l1 is set=30, reg_alpha=0.0 will be ignored. Current value: lambda_l1=30\n",
      "[LightGBM] [Warning] min_data_in_leaf is set=150, min_child_samples=20 will be ignored. Current value: min_data_in_leaf=150\n",
      "[LightGBM] [Warning] feature_fraction is set=0.30000000000000004, colsample_bytree=1.0 will be ignored. Current value: feature_fraction=0.30000000000000004\n",
      "[LightGBM] [Warning] bagging_fraction is set=0.2, subsample=1.0 will be ignored. Current value: bagging_fraction=0.2\n",
      "[LightGBM] [Warning] lambda_l2 is set=35, reg_lambda=0.0 will be ignored. Current value: lambda_l2=35\n",
      "[LightGBM] [Warning] boosting is set=dart, boosting_type=gbdt will be ignored. Current value: boosting=dart\n"
     ]
    },
    {
     "name": "stderr",
     "output_type": "stream",
     "text": [
      "\u001b[32m[I 2022-10-28 06:52:45,559]\u001b[0m Trial 3 finished with value: 0.43 and parameters: {'boosting': 'dart', 'drop_rate': 0.46499999999999997, 'extra_trees': False, 'device_type': 'cpu', 'colsample_bytree': 1.0, 'n_estimators': 190, 'learning_rate': 0.06999999999999999, 'num_leaves': 10, 'max_depth': 4, 'min_gain_to_split': 0.044000000000000004, 'min_data_in_leaf': 150, 'min_child_weight': 0.0008100000000000001, 'lambda_l1': 30, 'lambda_l2': 35, 'bagging_fraction': 0.2, 'bagging_freq': 1, 'feature_fraction': 0.30000000000000004, 'feature_fraction_bynode': 0.65, 'pos_bagging_fraction': 0.7}. Best is trial 2 with value: 0.48.\u001b[0m\n"
     ]
    },
    {
     "name": "stdout",
     "output_type": "stream",
     "text": [
      "[LightGBM] [Warning] Unknown parameter: ming_gain_to_split\n",
      "[LightGBM] [Warning] bagging_freq is set=6, subsample_freq=0 will be ignored. Current value: bagging_freq=6\n",
      "[LightGBM] [Warning] lambda_l1 is set=0, reg_alpha=0.0 will be ignored. Current value: lambda_l1=0\n",
      "[LightGBM] [Warning] min_data_in_leaf is set=150, min_child_samples=20 will be ignored. Current value: min_data_in_leaf=150\n",
      "[LightGBM] [Warning] feature_fraction is set=0.30000000000000004, colsample_bytree=1.1 will be ignored. Current value: feature_fraction=0.30000000000000004\n",
      "[LightGBM] [Warning] bagging_fraction is set=0.2, subsample=1.0 will be ignored. Current value: bagging_fraction=0.2\n",
      "[LightGBM] [Warning] lambda_l2 is set=70, reg_lambda=0.0 will be ignored. Current value: lambda_l2=70\n",
      "[LightGBM] [Warning] boosting is set=dart, boosting_type=gbdt will be ignored. Current value: boosting=dart\n"
     ]
    },
    {
     "name": "stderr",
     "output_type": "stream",
     "text": [
      "\u001b[32m[I 2022-10-28 06:52:46,397]\u001b[0m Trial 4 finished with value: 0.4 and parameters: {'boosting': 'dart', 'drop_rate': 0.27, 'extra_trees': True, 'device_type': 'cpu', 'colsample_bytree': 1.1, 'n_estimators': 160, 'learning_rate': 0.17, 'num_leaves': 35, 'max_depth': 4, 'min_gain_to_split': 0.09799999999999999, 'min_data_in_leaf': 150, 'min_child_weight': 0.00091, 'lambda_l1': 0, 'lambda_l2': 70, 'bagging_fraction': 0.2, 'bagging_freq': 6, 'feature_fraction': 0.30000000000000004, 'feature_fraction_bynode': 0.4, 'pos_bagging_fraction': 0.65}. Best is trial 2 with value: 0.48.\u001b[0m\n",
      "\u001b[32m[I 2022-10-28 06:52:46,430]\u001b[0m Trial 5 pruned. Trial was pruned at iteration 0.\u001b[0m\n",
      "\u001b[32m[I 2022-10-28 06:52:46,464]\u001b[0m Trial 6 pruned. Trial was pruned at iteration 0.\u001b[0m\n",
      "\u001b[32m[I 2022-10-28 06:52:46,499]\u001b[0m Trial 7 pruned. Trial was pruned at iteration 0.\u001b[0m\n",
      "\u001b[32m[I 2022-10-28 06:52:46,533]\u001b[0m Trial 8 pruned. Trial was pruned at iteration 0.\u001b[0m\n",
      "\u001b[32m[I 2022-10-28 06:52:46,567]\u001b[0m Trial 9 pruned. Trial was pruned at iteration 0.\u001b[0m\n"
     ]
    },
    {
     "name": "stdout",
     "output_type": "stream",
     "text": [
      "[LightGBM] [Warning] Unknown parameter: ming_gain_to_split\n",
      "[LightGBM] [Warning] bagging_freq is set=11, subsample_freq=0 will be ignored. Current value: bagging_freq=11\n",
      "[LightGBM] [Warning] lambda_l1 is set=95, reg_alpha=0.0 will be ignored. Current value: lambda_l1=95\n",
      "[LightGBM] [Warning] min_data_in_leaf is set=130, min_child_samples=20 will be ignored. Current value: min_data_in_leaf=130\n",
      "[LightGBM] [Warning] feature_fraction is set=0.30000000000000004, colsample_bytree=1.3 will be ignored. Current value: feature_fraction=0.30000000000000004\n",
      "[LightGBM] [Warning] bagging_fraction is set=0.30000000000000004, subsample=1.0 will be ignored. Current value: bagging_fraction=0.30000000000000004\n",
      "[LightGBM] [Warning] lambda_l2 is set=85, reg_lambda=0.0 will be ignored. Current value: lambda_l2=85\n",
      "[LightGBM] [Warning] boosting is set=dart, boosting_type=gbdt will be ignored. Current value: boosting=dart\n"
     ]
    },
    {
     "name": "stderr",
     "output_type": "stream",
     "text": [
      "\u001b[32m[I 2022-10-28 06:52:47,061]\u001b[0m Trial 10 finished with value: 0.3 and parameters: {'boosting': 'dart', 'drop_rate': 0.32, 'extra_trees': False, 'device_type': 'cpu', 'colsample_bytree': 1.5, 'n_estimators': 80, 'learning_rate': 0.09999999999999999, 'num_leaves': 25, 'max_depth': 3, 'min_gain_to_split': 0.01, 'min_data_in_leaf': 70, 'min_child_weight': 0.00021, 'lambda_l1': 65, 'lambda_l2': 5, 'bagging_fraction': 0.6000000000000001, 'bagging_freq': 16, 'feature_fraction': 0.5, 'feature_fraction_bynode': 0.7, 'pos_bagging_fraction': 0.6000000000000001}. Best is trial 2 with value: 0.48.\u001b[0m\n"
     ]
    },
    {
     "name": "stdout",
     "output_type": "stream",
     "text": [
      "[LightGBM] [Warning] Unknown parameter: ming_gain_to_split\n",
      "[LightGBM] [Warning] bagging_freq is set=11, subsample_freq=0 will be ignored. Current value: bagging_freq=11\n",
      "[LightGBM] [Warning] lambda_l1 is set=100, reg_alpha=0.0 will be ignored. Current value: lambda_l1=100\n",
      "[LightGBM] [Warning] min_data_in_leaf is set=90, min_child_samples=20 will be ignored. Current value: min_data_in_leaf=90\n",
      "[LightGBM] [Warning] feature_fraction is set=0.5, colsample_bytree=1.5 will be ignored. Current value: feature_fraction=0.5\n",
      "[LightGBM] [Warning] bagging_fraction is set=0.5, subsample=1.0 will be ignored. Current value: bagging_fraction=0.5\n",
      "[LightGBM] [Warning] lambda_l2 is set=15, reg_lambda=0.0 will be ignored. Current value: lambda_l2=15\n",
      "[LightGBM] [Warning] boosting is set=dart, boosting_type=gbdt will be ignored. Current value: boosting=dart\n"
     ]
    },
    {
     "name": "stderr",
     "output_type": "stream",
     "text": [
      "\u001b[32m[I 2022-10-28 06:52:48,029]\u001b[0m Trial 11 finished with value: 0.49 and parameters: {'boosting': 'dart', 'drop_rate': 0.42000000000000004, 'extra_trees': False, 'device_type': 'cpu', 'colsample_bytree': 1.5, 'n_estimators': 110, 'learning_rate': 0.12, 'num_leaves': 15, 'max_depth': 6, 'min_gain_to_split': 0.09799999999999999, 'min_data_in_leaf': 90, 'min_child_weight': 0.00031000000000000005, 'lambda_l1': 100, 'lambda_l2': 15, 'bagging_fraction': 0.5, 'bagging_freq': 11, 'feature_fraction': 0.5, 'feature_fraction_bynode': 0.5, 'pos_bagging_fraction': 0.45}. Best is trial 11 with value: 0.49.\u001b[0m\n",
      "\u001b[32m[I 2022-10-28 06:52:48,094]\u001b[0m Trial 12 pruned. Trial was pruned at iteration 1.\u001b[0m\n"
     ]
    },
    {
     "name": "stdout",
     "output_type": "stream",
     "text": [
      "[LightGBM] [Warning] Unknown parameter: ming_gain_to_split\n",
      "[LightGBM] [Warning] bagging_freq is set=16, subsample_freq=0 will be ignored. Current value: bagging_freq=16\n",
      "[LightGBM] [Warning] lambda_l1 is set=80, reg_alpha=0.0 will be ignored. Current value: lambda_l1=80\n",
      "[LightGBM] [Warning] min_data_in_leaf is set=90, min_child_samples=20 will be ignored. Current value: min_data_in_leaf=90\n",
      "[LightGBM] [Warning] feature_fraction is set=0.5, colsample_bytree=1.4 will be ignored. Current value: feature_fraction=0.5\n",
      "[LightGBM] [Warning] bagging_fraction is set=0.5, subsample=1.0 will be ignored. Current value: bagging_fraction=0.5\n",
      "[LightGBM] [Warning] lambda_l2 is set=5, reg_lambda=0.0 will be ignored. Current value: lambda_l2=5\n",
      "[LightGBM] [Warning] boosting is set=dart, boosting_type=gbdt will be ignored. Current value: boosting=dart\n"
     ]
    },
    {
     "name": "stderr",
     "output_type": "stream",
     "text": [
      "\u001b[32m[I 2022-10-28 06:52:48,994]\u001b[0m Trial 13 finished with value: 0.52 and parameters: {'boosting': 'dart', 'drop_rate': 0.28500000000000003, 'extra_trees': False, 'device_type': 'cpu', 'colsample_bytree': 1.5, 'n_estimators': 130, 'learning_rate': 0.12, 'num_leaves': 20, 'max_depth': 12, 'min_gain_to_split': 0.028000000000000004, 'min_data_in_leaf': 80, 'min_child_weight': 0.00031000000000000005, 'lambda_l1': 75, 'lambda_l2': 50, 'bagging_fraction': 0.7, 'bagging_freq': 1, 'feature_fraction': 0.4, 'feature_fraction_bynode': 0.5, 'pos_bagging_fraction': 0.5}. Best is trial 13 with value: 0.52.\u001b[0m\n"
     ]
    },
    {
     "name": "stdout",
     "output_type": "stream",
     "text": [
      "[LightGBM] [Warning] Unknown parameter: ming_gain_to_split\n",
      "[LightGBM] [Warning] bagging_freq is set=1, subsample_freq=0 will be ignored. Current value: bagging_freq=1\n",
      "[LightGBM] [Warning] lambda_l1 is set=75, reg_alpha=0.0 will be ignored. Current value: lambda_l1=75\n",
      "[LightGBM] [Warning] min_data_in_leaf is set=60, min_child_samples=20 will be ignored. Current value: min_data_in_leaf=60\n",
      "[LightGBM] [Warning] feature_fraction is set=0.4, colsample_bytree=1.5 will be ignored. Current value: feature_fraction=0.4\n",
      "[LightGBM] [Warning] bagging_fraction is set=0.7, subsample=1.0 will be ignored. Current value: bagging_fraction=0.7\n",
      "[LightGBM] [Warning] lambda_l2 is set=20, reg_lambda=0.0 will be ignored. Current value: lambda_l2=20\n",
      "[LightGBM] [Warning] boosting is set=dart, boosting_type=gbdt will be ignored. Current value: boosting=dart\n"
     ]
    },
    {
     "name": "stderr",
     "output_type": "stream",
     "text": [
      "\u001b[32m[I 2022-10-28 06:52:50,015]\u001b[0m Trial 14 finished with value: 0.5 and parameters: {'boosting': 'dart', 'drop_rate': 0.255, 'extra_trees': False, 'device_type': 'cpu', 'colsample_bytree': 1.5, 'n_estimators': 140, 'learning_rate': 0.06999999999999999, 'num_leaves': 15, 'max_depth': 12, 'min_gain_to_split': 0.034, 'min_data_in_leaf': 60, 'min_child_weight': 0.00031000000000000005, 'lambda_l1': 75, 'lambda_l2': 20, 'bagging_fraction': 0.7, 'bagging_freq': 1, 'feature_fraction': 0.4, 'feature_fraction_bynode': 0.5, 'pos_bagging_fraction': 0.5}. Best is trial 13 with value: 0.52.\u001b[0m\n",
      "\u001b[32m[I 2022-10-28 06:52:50,073]\u001b[0m Trial 15 pruned. Trial was pruned at iteration 0.\u001b[0m\n",
      "\u001b[32m[I 2022-10-28 06:52:50,132]\u001b[0m Trial 16 pruned. Trial was pruned at iteration 0.\u001b[0m\n",
      "\u001b[32m[I 2022-10-28 06:52:50,191]\u001b[0m Trial 17 pruned. Trial was pruned at iteration 0.\u001b[0m\n"
     ]
    },
    {
     "name": "stdout",
     "output_type": "stream",
     "text": [
      "[LightGBM] [Warning] Unknown parameter: ming_gain_to_split\n",
      "[LightGBM] [Warning] bagging_freq is set=1, subsample_freq=0 will be ignored. Current value: bagging_freq=1\n",
      "[LightGBM] [Warning] lambda_l1 is set=70, reg_alpha=0.0 will be ignored. Current value: lambda_l1=70\n",
      "[LightGBM] [Warning] min_data_in_leaf is set=60, min_child_samples=20 will be ignored. Current value: min_data_in_leaf=60\n",
      "[LightGBM] [Warning] feature_fraction is set=0.4, colsample_bytree=1.3 will be ignored. Current value: feature_fraction=0.4\n",
      "[LightGBM] [Warning] bagging_fraction is set=0.7, subsample=1.0 will be ignored. Current value: bagging_fraction=0.7\n",
      "[LightGBM] [Warning] lambda_l2 is set=50, reg_lambda=0.0 will be ignored. Current value: lambda_l2=50\n",
      "[LightGBM] [Warning] boosting is set=dart, boosting_type=gbdt will be ignored. Current value: boosting=dart\n"
     ]
    },
    {
     "name": "stderr",
     "output_type": "stream",
     "text": [
      "\u001b[32m[I 2022-10-28 06:52:50,257]\u001b[0m Trial 18 pruned. Trial was pruned at iteration 3.\u001b[0m\n",
      "\u001b[32m[I 2022-10-28 06:52:51,732]\u001b[0m Trial 19 finished with value: 0.48 and parameters: {'boosting': 'dart', 'drop_rate': 0.185, 'extra_trees': False, 'device_type': 'cpu', 'colsample_bytree': 1.4, 'n_estimators': 200, 'learning_rate': 0.09, 'num_leaves': 20, 'max_depth': 11, 'min_gain_to_split': 0.076, 'min_data_in_leaf': 70, 'min_child_weight': 0.00071, 'lambda_l1': 85, 'lambda_l2': 0, 'bagging_fraction': 0.7, 'bagging_freq': 1, 'feature_fraction': 0.4, 'feature_fraction_bynode': 0.6000000000000001, 'pos_bagging_fraction': 0.6000000000000001}. Best is trial 13 with value: 0.52.\u001b[0m\n",
      "\u001b[32m[I 2022-10-28 06:52:51,796]\u001b[0m Trial 20 pruned. Trial was pruned at iteration 1.\u001b[0m\n",
      "\u001b[32m[I 2022-10-28 06:52:51,855]\u001b[0m Trial 21 pruned. Trial was pruned at iteration 0.\u001b[0m\n",
      "\u001b[32m[I 2022-10-28 06:52:51,917]\u001b[0m Trial 22 pruned. Trial was pruned at iteration 1.\u001b[0m\n"
     ]
    },
    {
     "name": "stdout",
     "output_type": "stream",
     "text": [
      "[LightGBM] [Warning] Unknown parameter: ming_gain_to_split\n",
      "[LightGBM] [Warning] bagging_freq is set=1, subsample_freq=0 will be ignored. Current value: bagging_freq=1\n",
      "[LightGBM] [Warning] lambda_l1 is set=70, reg_alpha=0.0 will be ignored. Current value: lambda_l1=70\n",
      "[LightGBM] [Warning] min_data_in_leaf is set=10, min_child_samples=20 will be ignored. Current value: min_data_in_leaf=10\n",
      "[LightGBM] [Warning] feature_fraction is set=0.4, colsample_bytree=1.1 will be ignored. Current value: feature_fraction=0.4\n",
      "[LightGBM] [Warning] bagging_fraction is set=0.6000000000000001, subsample=1.0 will be ignored. Current value: bagging_fraction=0.6000000000000001\n",
      "[LightGBM] [Warning] lambda_l2 is set=55, reg_lambda=0.0 will be ignored. Current value: lambda_l2=55\n",
      "[LightGBM] [Warning] boosting is set=dart, boosting_type=gbdt will be ignored. Current value: boosting=dart\n"
     ]
    },
    {
     "name": "stderr",
     "output_type": "stream",
     "text": [
      "\u001b[32m[I 2022-10-28 06:52:51,988]\u001b[0m Trial 23 pruned. Trial was pruned at iteration 4.\u001b[0m\n",
      "\u001b[32m[I 2022-10-28 06:52:52,051]\u001b[0m Trial 24 pruned. Trial was pruned at iteration 3.\u001b[0m\n",
      "\u001b[32m[I 2022-10-28 06:52:52,111]\u001b[0m Trial 25 pruned. Trial was pruned at iteration 0.\u001b[0m\n",
      "\u001b[32m[I 2022-10-28 06:52:53,220]\u001b[0m Trial 26 finished with value: 0.52 and parameters: {'boosting': 'dart', 'drop_rate': 0.335, 'extra_trees': False, 'device_type': 'cpu', 'colsample_bytree': 1.4, 'n_estimators': 110, 'learning_rate': 0.11, 'num_leaves': 15, 'max_depth': 9, 'min_gain_to_split': 0.088, 'min_data_in_leaf': 70, 'min_child_weight': 0.00021, 'lambda_l1': 5, 'lambda_l2': 25, 'bagging_fraction': 0.30000000000000004, 'bagging_freq': 1, 'feature_fraction': 0.4, 'feature_fraction_bynode': 0.45, 'pos_bagging_fraction': 0.5}. Best is trial 13 with value: 0.52.\u001b[0m\n",
      "\u001b[32m[I 2022-10-28 06:52:53,287]\u001b[0m Trial 27 pruned. Trial was pruned at iteration 1.\u001b[0m\n",
      "\u001b[32m[I 2022-10-28 06:52:53,346]\u001b[0m Trial 28 pruned. Trial was pruned at iteration 0.\u001b[0m\n",
      "\u001b[32m[I 2022-10-28 06:52:53,411]\u001b[0m Trial 29 pruned. Trial was pruned at iteration 1.\u001b[0m\n"
     ]
    },
    {
     "name": "stdout",
     "output_type": "stream",
     "text": [
      "[LightGBM] [Warning] Unknown parameter: ming_gain_to_split\n",
      "[LightGBM] [Warning] bagging_freq is set=1, subsample_freq=0 will be ignored. Current value: bagging_freq=1\n",
      "[LightGBM] [Warning] lambda_l1 is set=0, reg_alpha=0.0 will be ignored. Current value: lambda_l1=0\n",
      "[LightGBM] [Warning] min_data_in_leaf is set=30, min_child_samples=20 will be ignored. Current value: min_data_in_leaf=30\n",
      "[LightGBM] [Warning] feature_fraction is set=0.4, colsample_bytree=1.4 will be ignored. Current value: feature_fraction=0.4\n",
      "[LightGBM] [Warning] bagging_fraction is set=0.30000000000000004, subsample=1.0 will be ignored. Current value: bagging_fraction=0.30000000000000004\n",
      "[LightGBM] [Warning] lambda_l2 is set=40, reg_lambda=0.0 will be ignored. Current value: lambda_l2=40\n",
      "[LightGBM] [Warning] boosting is set=dart, boosting_type=gbdt will be ignored. Current value: boosting=dart\n"
     ]
    }
   ],
   "source": [
    "tuning = Tuning(df,\n",
    "                target_var = 'target', \n",
    "                n_trials = 30,\n",
    "                chosen_optimization='f1_score')"
   ]
  },
  {
   "cell_type": "code",
   "execution_count": 8,
   "metadata": {
    "ExecuteTime": {
     "end_time": "2022-10-28T09:52:53.417556Z",
     "start_time": "2022-10-28T09:52:53.414466Z"
    }
   },
   "outputs": [],
   "source": [
    "bestparams = tuning.study.best_params"
   ]
  },
  {
   "cell_type": "code",
   "execution_count": 9,
   "metadata": {
    "ExecuteTime": {
     "end_time": "2022-10-28T09:52:53.422443Z",
     "start_time": "2022-10-28T09:52:53.420267Z"
    }
   },
   "outputs": [],
   "source": [
    "# O modelo em sí com os parametroz tunados\n",
    "best = lgb.LGBMClassifier().set_params(**bestparams)"
   ]
  },
  {
   "cell_type": "code",
   "execution_count": 10,
   "metadata": {
    "ExecuteTime": {
     "end_time": "2022-10-28T09:52:54.324061Z",
     "start_time": "2022-10-28T09:52:53.423820Z"
    }
   },
   "outputs": [
    {
     "name": "stdout",
     "output_type": "stream",
     "text": [
      "2022-10-28 06:52:54,263 - numexpr.utils - INFO - NumExpr defaulting to 8 threads.\n"
     ]
    },
    {
     "data": {
      "text/html": [
       "<div>\n",
       "<style scoped>\n",
       "    .dataframe tbody tr th:only-of-type {\n",
       "        vertical-align: middle;\n",
       "    }\n",
       "\n",
       "    .dataframe tbody tr th {\n",
       "        vertical-align: top;\n",
       "    }\n",
       "\n",
       "    .dataframe thead th {\n",
       "        text-align: right;\n",
       "    }\n",
       "</style>\n",
       "<table border=\"1\" class=\"dataframe\">\n",
       "  <thead>\n",
       "    <tr style=\"text-align: right;\">\n",
       "      <th></th>\n",
       "      <th>accuracy</th>\n",
       "      <th>precision</th>\n",
       "      <th>recall</th>\n",
       "      <th>f1</th>\n",
       "      <th>auc</th>\n",
       "      <th>gini</th>\n",
       "    </tr>\n",
       "  </thead>\n",
       "  <tbody>\n",
       "    <tr>\n",
       "      <th>0</th>\n",
       "      <td>0.8</td>\n",
       "      <td>0.55</td>\n",
       "      <td>0.54</td>\n",
       "      <td>0.55</td>\n",
       "      <td>0.78</td>\n",
       "      <td>0.56</td>\n",
       "    </tr>\n",
       "  </tbody>\n",
       "</table>\n",
       "</div>"
      ],
      "text/plain": [
       "   accuracy  precision  recall    f1   auc  gini\n",
       "0       0.8       0.55    0.54  0.55  0.78  0.56"
      ]
     },
     "execution_count": 10,
     "metadata": {},
     "output_type": "execute_result"
    },
    {
     "data": {
      "text/html": [
       "<div>\n",
       "<style scoped>\n",
       "    .dataframe tbody tr th:only-of-type {\n",
       "        vertical-align: middle;\n",
       "    }\n",
       "\n",
       "    .dataframe tbody tr th {\n",
       "        vertical-align: top;\n",
       "    }\n",
       "\n",
       "    .dataframe thead th {\n",
       "        text-align: right;\n",
       "    }\n",
       "</style>\n",
       "<table border=\"1\" class=\"dataframe\">\n",
       "  <thead>\n",
       "    <tr style=\"text-align: right;\">\n",
       "      <th></th>\n",
       "      <th>accuracy</th>\n",
       "      <th>precision</th>\n",
       "      <th>recall</th>\n",
       "      <th>f1</th>\n",
       "      <th>auc</th>\n",
       "      <th>gini</th>\n",
       "    </tr>\n",
       "  </thead>\n",
       "  <tbody>\n",
       "    <tr>\n",
       "      <th>0</th>\n",
       "      <td>0.79</td>\n",
       "      <td>0.54</td>\n",
       "      <td>0.52</td>\n",
       "      <td>0.53</td>\n",
       "      <td>0.77</td>\n",
       "      <td>0.54</td>\n",
       "    </tr>\n",
       "  </tbody>\n",
       "</table>\n",
       "</div>"
      ],
      "text/plain": [
       "   accuracy  precision  recall    f1   auc  gini\n",
       "0      0.79       0.54    0.52  0.53  0.77  0.54"
      ]
     },
     "execution_count": 10,
     "metadata": {},
     "output_type": "execute_result"
    }
   ],
   "source": [
    "mbest = Pipe(df, target_var = 'target', model = best)\n",
    "\n",
    "mbest.popin.scores\n",
    "\n",
    "mbest.oos.scores"
   ]
  }
 ],
 "metadata": {
  "kernelspec": {
   "display_name": "Kedro (ames)",
   "language": "python",
   "name": "kedro_ames"
  },
  "language_info": {
   "codemirror_mode": {
    "name": "ipython",
    "version": 3
   },
   "file_extension": ".py",
   "mimetype": "text/x-python",
   "name": "python",
   "nbconvert_exporter": "python",
   "pygments_lexer": "ipython3",
   "version": "3.7.2"
  },
  "toc": {
   "base_numbering": 1,
   "nav_menu": {},
   "number_sections": true,
   "sideBar": true,
   "skip_h1_title": false,
   "title_cell": "Table of Contents",
   "title_sidebar": "Contents",
   "toc_cell": false,
   "toc_position": {},
   "toc_section_display": true,
   "toc_window_display": false
  },
  "varInspector": {
   "cols": {
    "lenName": 16,
    "lenType": 16,
    "lenVar": 40
   },
   "kernels_config": {
    "python": {
     "delete_cmd_postfix": "",
     "delete_cmd_prefix": "del ",
     "library": "var_list.py",
     "varRefreshCmd": "print(var_dic_list())"
    },
    "r": {
     "delete_cmd_postfix": ") ",
     "delete_cmd_prefix": "rm(",
     "library": "var_list.r",
     "varRefreshCmd": "cat(var_dic_list()) "
    }
   },
   "types_to_exclude": [
    "module",
    "function",
    "builtin_function_or_method",
    "instance",
    "_Feature"
   ],
   "window_display": false
  }
 },
 "nbformat": 4,
 "nbformat_minor": 4
}
