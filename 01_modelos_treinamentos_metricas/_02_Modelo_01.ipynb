{
 "cells": [
  {
   "cell_type": "code",
   "execution_count": 1,
   "id": "cdf2952d-f790-4d9a-b15b-8366a3b5559a",
   "metadata": {},
   "outputs": [],
   "source": [
    "import pandas as pd \n",
    "import matplotlib.pyplot as plt \n",
    "import numpy as np\n",
    "import seaborn as sns\n",
    "import scipy.stats as stats\n",
    "import statsmodels.stats.api as sms\n",
    "\n",
    "from IPython.display import display\n",
    "from IPython.display import Markdown as md\n",
    "from IPython.core.interactiveshell import InteractiveShell\n",
    "InteractiveShell.ast_node_interactivity = \"all\"\n",
    "\n",
    "pd.set_option('display.max_columns', None)\n",
    "pd.set_option('display.max_rows', 4)\n",
    "\n",
    "import warnings\n",
    "warnings.filterwarnings('ignore')\n",
    "\n",
    "def dp(df, r = 5, c = None):\n",
    "    from IPython.display import display\n",
    "    with pd.option_context('display.max_rows', 4, 'display.max_columns', None):\n",
    "        display(df)\n",
    "\n",
    "def fg(w = 6, h = 4, dpi = 120):\n",
    "    plt.rcParams['figure.figsize'] = (w,h)\n",
    "    plt.rcParams['figure.dpi'] = dpi\n",
    "fg()"
   ]
  },
  {
   "cell_type": "code",
   "execution_count": 2,
   "id": "cb2a158a",
   "metadata": {},
   "outputs": [],
   "source": [
    "df = pd.read_csv('data/dados_tratados.csv')"
   ]
  },
  {
   "cell_type": "code",
   "execution_count": 3,
   "id": "e2a7e8d4",
   "metadata": {},
   "outputs": [
    {
     "data": {
      "text/plain": [
       "(136, 10)"
      ]
     },
     "execution_count": 3,
     "metadata": {},
     "output_type": "execute_result"
    }
   ],
   "source": [
    "df.shape"
   ]
  },
  {
   "cell_type": "code",
   "execution_count": 4,
   "id": "434596b6",
   "metadata": {},
   "outputs": [
    {
     "data": {
      "text/html": [
       "<div>\n",
       "<style scoped>\n",
       "    .dataframe tbody tr th:only-of-type {\n",
       "        vertical-align: middle;\n",
       "    }\n",
       "\n",
       "    .dataframe tbody tr th {\n",
       "        vertical-align: top;\n",
       "    }\n",
       "\n",
       "    .dataframe thead th {\n",
       "        text-align: right;\n",
       "    }\n",
       "</style>\n",
       "<table border=\"1\" class=\"dataframe\">\n",
       "  <thead>\n",
       "    <tr style=\"text-align: right;\">\n",
       "      <th></th>\n",
       "      <th>Analg.e9.sicos</th>\n",
       "      <th>Dor_costas</th>\n",
       "      <th>Dor_pernas</th>\n",
       "      <th>Masc</th>\n",
       "      <th>D29</th>\n",
       "      <th>D30</th>\n",
       "      <th>Tempo com a dor nas costas</th>\n",
       "      <th>Intensidade da dor nas pernas</th>\n",
       "      <th>Intensidade da dor no momento</th>\n",
       "      <th>SF12_M1_4_v1</th>\n",
       "    </tr>\n",
       "  </thead>\n",
       "  <tbody>\n",
       "    <tr>\n",
       "      <th>0</th>\n",
       "      <td>0.0</td>\n",
       "      <td>0.0</td>\n",
       "      <td>0.0</td>\n",
       "      <td>1.0</td>\n",
       "      <td>0.0</td>\n",
       "      <td>0.0</td>\n",
       "      <td>0.0</td>\n",
       "      <td>-0.756492</td>\n",
       "      <td>-0.821817</td>\n",
       "      <td>1.194782</td>\n",
       "    </tr>\n",
       "    <tr>\n",
       "      <th>1</th>\n",
       "      <td>1.0</td>\n",
       "      <td>1.0</td>\n",
       "      <td>0.0</td>\n",
       "      <td>1.0</td>\n",
       "      <td>0.0</td>\n",
       "      <td>0.0</td>\n",
       "      <td>3.0</td>\n",
       "      <td>-0.756492</td>\n",
       "      <td>-0.821817</td>\n",
       "      <td>1.194782</td>\n",
       "    </tr>\n",
       "    <tr>\n",
       "      <th>...</th>\n",
       "      <td>...</td>\n",
       "      <td>...</td>\n",
       "      <td>...</td>\n",
       "      <td>...</td>\n",
       "      <td>...</td>\n",
       "      <td>...</td>\n",
       "      <td>...</td>\n",
       "      <td>...</td>\n",
       "      <td>...</td>\n",
       "      <td>...</td>\n",
       "    </tr>\n",
       "    <tr>\n",
       "      <th>3</th>\n",
       "      <td>1.0</td>\n",
       "      <td>1.0</td>\n",
       "      <td>0.0</td>\n",
       "      <td>1.0</td>\n",
       "      <td>1.0</td>\n",
       "      <td>1.0</td>\n",
       "      <td>4.0</td>\n",
       "      <td>-0.756492</td>\n",
       "      <td>0.966457</td>\n",
       "      <td>-0.943249</td>\n",
       "    </tr>\n",
       "    <tr>\n",
       "      <th>4</th>\n",
       "      <td>1.0</td>\n",
       "      <td>1.0</td>\n",
       "      <td>0.0</td>\n",
       "      <td>0.0</td>\n",
       "      <td>0.0</td>\n",
       "      <td>0.0</td>\n",
       "      <td>4.0</td>\n",
       "      <td>-0.756492</td>\n",
       "      <td>0.966457</td>\n",
       "      <td>0.482105</td>\n",
       "    </tr>\n",
       "  </tbody>\n",
       "</table>\n",
       "<p>5 rows × 10 columns</p>\n",
       "</div>"
      ],
      "text/plain": [
       "    Analg.e9.sicos  Dor_costas  Dor_pernas  Masc  D29  D30  \\\n",
       "0              0.0         0.0         0.0   1.0  0.0  0.0   \n",
       "1              1.0         1.0         0.0   1.0  0.0  0.0   \n",
       "..             ...         ...         ...   ...  ...  ...   \n",
       "3              1.0         1.0         0.0   1.0  1.0  1.0   \n",
       "4              1.0         1.0         0.0   0.0  0.0  0.0   \n",
       "\n",
       "    Tempo com a dor nas costas  Intensidade da dor nas pernas  \\\n",
       "0                          0.0                      -0.756492   \n",
       "1                          3.0                      -0.756492   \n",
       "..                         ...                            ...   \n",
       "3                          4.0                      -0.756492   \n",
       "4                          4.0                      -0.756492   \n",
       "\n",
       "    Intensidade da dor no momento  SF12_M1_4_v1  \n",
       "0                       -0.821817      1.194782  \n",
       "1                       -0.821817      1.194782  \n",
       "..                            ...           ...  \n",
       "3                        0.966457     -0.943249  \n",
       "4                        0.966457      0.482105  \n",
       "\n",
       "[5 rows x 10 columns]"
      ]
     },
     "execution_count": 4,
     "metadata": {},
     "output_type": "execute_result"
    }
   ],
   "source": [
    "df.head()"
   ]
  },
  {
   "cell_type": "code",
   "execution_count": 5,
   "id": "ee48d5fe",
   "metadata": {},
   "outputs": [],
   "source": [
    "X = df.drop('D30', axis = 1)"
   ]
  },
  {
   "cell_type": "code",
   "execution_count": 6,
   "id": "6c140cfb",
   "metadata": {},
   "outputs": [],
   "source": [
    "y = df['D30']"
   ]
  },
  {
   "cell_type": "code",
   "execution_count": 7,
   "id": "ff4ef55a",
   "metadata": {},
   "outputs": [
    {
     "data": {
      "text/plain": [
       "(136,)"
      ]
     },
     "execution_count": 7,
     "metadata": {},
     "output_type": "execute_result"
    }
   ],
   "source": [
    "y.shape"
   ]
  },
  {
   "cell_type": "markdown",
   "id": "efd42ff3",
   "metadata": {},
   "source": [
    "# @ Separação treino e teste"
   ]
  },
  {
   "cell_type": "code",
   "execution_count": 8,
   "id": "203db60e",
   "metadata": {},
   "outputs": [],
   "source": [
    "# Modulo de separacao de dados de treino e dados de teste\n",
    "from sklearn.model_selection import train_test_split\n",
    "\n",
    "X_train, X_test, y_train, y_test = train_test_split(X,y, test_size = 0.3)"
   ]
  },
  {
   "cell_type": "code",
   "execution_count": 9,
   "id": "0dc2c951",
   "metadata": {},
   "outputs": [
    {
     "data": {
      "text/plain": [
       "(41,)"
      ]
     },
     "execution_count": 9,
     "metadata": {},
     "output_type": "execute_result"
    }
   ],
   "source": [
    "y_test.shape"
   ]
  },
  {
   "cell_type": "markdown",
   "id": "076fb7ec",
   "metadata": {},
   "source": [
    "# % Regressão Logistica"
   ]
  },
  {
   "cell_type": "markdown",
   "id": "2a1b3b01",
   "metadata": {},
   "source": [
    "## Modelo"
   ]
  },
  {
   "cell_type": "code",
   "execution_count": 10,
   "id": "d8b676f1",
   "metadata": {},
   "outputs": [
    {
     "data": {
      "text/plain": [
       "LogisticRegression()"
      ]
     },
     "execution_count": 10,
     "metadata": {},
     "output_type": "execute_result"
    }
   ],
   "source": [
    "from sklearn.linear_model import LogisticRegression\n",
    "\n",
    "lr = LogisticRegression()\n",
    "lr.fit(X_train,y_train)"
   ]
  },
  {
   "cell_type": "markdown",
   "id": "9031978a",
   "metadata": {},
   "source": [
    "### Previsoes"
   ]
  },
  {
   "cell_type": "code",
   "execution_count": 11,
   "id": "bece9558",
   "metadata": {},
   "outputs": [],
   "source": [
    "THRESHOLD = 0.45\n",
    "previsoes = np.where(lr.predict_proba(X_test)[:,1] > THRESHOLD, 1, 0)"
   ]
  },
  {
   "cell_type": "markdown",
   "id": "6282a152",
   "metadata": {},
   "source": [
    "### Métricas"
   ]
  },
  {
   "cell_type": "code",
   "execution_count": 12,
   "id": "53acc40d",
   "metadata": {},
   "outputs": [],
   "source": [
    "from sklearn.metrics import confusion_matrix, accuracy_score\n",
    "\n",
    "acuracia = np.round(accuracy_score(y_test, previsoes),2);\n",
    "matriz = confusion_matrix(y_test, previsoes);"
   ]
  },
  {
   "cell_type": "code",
   "execution_count": 13,
   "id": "125055b5",
   "metadata": {},
   "outputs": [
    {
     "data": {
      "text/plain": [
       "(41, 1)"
      ]
     },
     "execution_count": 13,
     "metadata": {},
     "output_type": "execute_result"
    }
   ],
   "source": [
    "y_test.values.reshape(-1,1).shape"
   ]
  },
  {
   "cell_type": "code",
   "execution_count": 14,
   "id": "1b8e465b",
   "metadata": {},
   "outputs": [
    {
     "data": {
      "text/plain": [
       "(41, 9)"
      ]
     },
     "execution_count": 14,
     "metadata": {},
     "output_type": "execute_result"
    }
   ],
   "source": [
    "X_test.shape"
   ]
  },
  {
   "cell_type": "code",
   "execution_count": 15,
   "id": "729dfed6",
   "metadata": {},
   "outputs": [],
   "source": [
    "class ml():\n",
    "    \n",
    "    '''classe para pipeline de ml'''\n",
    "    def __init__(self, X, y, model, modelname, threshold = 0.5):\n",
    "        self.y = y\n",
    "        self.X = X\n",
    "        self.model = model\n",
    "        self.modelname = modelname\n",
    "        self.threshold = threshold\n",
    "        # A partir das funcoes\n",
    "        self.X_train, self.X_test, self.y_train, self.y_test = self.split()\n",
    "        \n",
    "    def split(self, test_size = 0.3):\n",
    "        '''Divisao treino e teste'''\n",
    "        from sklearn.model_selection import train_test_split\n",
    "        X_train, X_test, y_train, y_test = train_test_split(self.X,\n",
    "                                                            self.y,\n",
    "                                                            test_size = test_size)\n",
    "        \n",
    "        return X_train, X_test, y_train, y_test\n",
    "        \n",
    "    def probs(self):\n",
    "        '''Predict proba'''\n",
    "        return self.model.predict_proba(self.X_test)[:,1]\n",
    "    \n",
    "    def pred(self):\n",
    "        import numpy as np\n",
    "        return np.where(self.probs() > self.threshold, 1, 0)\n",
    "\n",
    "    def matriz(self):\n",
    "        from confusionmatrix import matriz_confusao as cm\n",
    "        cm = cm(self.y_test, self.pred())\n",
    "        return cm\n",
    "\n",
    "    def roccurve(self):\n",
    "        '''Curva roc'''\n",
    "        from sklearn.metrics import roc_curve\n",
    "        import matplotlib.pyplot as plt\n",
    "        # Gerar os dados da diagonal (no skill classifier)\n",
    "        \n",
    "        ns_probs = [0 for item in range(len(self.y_test))]\n",
    "        ns_fpr, ns_tpr, ns_thres = roc_curve(self.y_test, ns_probs)\n",
    "\n",
    "        #Probabilidades da classe positiva\n",
    "        fpr, tpr, thresholds = roc_curve(self.y_test, self.probs())\n",
    "        \n",
    "        plt.plot(fpr, tpr, marker = '.', label = self.modelname)\n",
    "        plt.plot(ns_fpr, ns_tpr, linestyle = '--', label = 'Classificador base')\n",
    "        plt.xlabel('Razão de Falsos Positivos')\n",
    "        plt.ylabel('Razão de Verdadeiros Positivos')\n",
    "        plt.title('ROC Curve')\n",
    "        plt.legend()\n",
    "        plt.show()\n",
    "\n",
    "    def precisionrecall(self):\n",
    "        '''Precision Recall Curve'''\n",
    "        import matplotlib.pyplot as plt\n",
    "        from sklearn.metrics import precision_recall_curve\n",
    "\n",
    "        precision, recall, thresholds = precision_recall_curve(self.y_test, self.probs())\n",
    "        no_skill = len(self.y_test[self.y_test ==1]) / len(self.y_test)\n",
    "\n",
    "        plt.plot([0,1], [no_skill, no_skill], linestyle = '--', label = 'Classificador base')\n",
    "        plt.plot(precision, recall, marker = '.', label =  self.modelname)\n",
    "        plt.xlabel('Recall')\n",
    "        plt.ylabel('Precision')\n",
    "        plt.title('Precision-Recall Curve')\n",
    "        plt.legend()\n",
    "        plt.show()\n",
    "    \n",
    "    def auc(self):\n",
    "        import numpy as np\n",
    "        '''AUC'''\n",
    "        from sklearn.metrics import roc_auc_score\n",
    "        return np.round(roc_auc_score(self.y_test, self.probs()),2)\n",
    "    \n",
    "    def gini(self):\n",
    "        '''GINI'''\n",
    "        return 2*self.auc() - 1\n",
    "\n",
    "    def cvresults(self, cv = 10):\n",
    "        '''Metricas gerais: \n",
    "        - acuracia\n",
    "        - f1\n",
    "        - recall\n",
    "        - precision'''\n",
    "        from sklearn.model_selection import cross_validate\n",
    "        res = cross_validate(self.model, self.X, self.y, cv = cv, \n",
    "                                  scoring = ['accuracy','f1','recall','precision'],\n",
    "                                  return_train_score = True)\n",
    "\n",
    "        f1 = res['test_f1'].mean()\n",
    "        precision = res['test_precision'].mean()\n",
    "        recall = res['test_recall'].mean()\n",
    "        acuracia = res['test_accuracy'].mean()\n",
    "\n",
    "        cvresults = pd.DataFrame({'acuracia':[acuracia],\n",
    "                                  'precisao':[precision],\n",
    "                                  'recall':[recall],\n",
    "                                  'f1':[f1]})\n",
    "\n",
    "        return cvresults\n",
    "    \n",
    "    "
   ]
  },
  {
   "cell_type": "code",
   "execution_count": 16,
   "id": "2cfa6f82",
   "metadata": {},
   "outputs": [],
   "source": [
    "ml = ml(X,y,lr,'Regressão Logística')"
   ]
  },
  {
   "cell_type": "code",
   "execution_count": 17,
   "id": "6a9943db",
   "metadata": {},
   "outputs": [],
   "source": [
    "from sklearn.metrics import confusion_matrix"
   ]
  },
  {
   "cell_type": "code",
   "execution_count": 18,
   "id": "f15cf9b8",
   "metadata": {},
   "outputs": [
    {
     "name": "stdout",
     "output_type": "stream",
     "text": [
      "Matriz de confusão:\n"
     ]
    },
    {
     "data": {
      "text/plain": [
       "<confusionmatrix.matriz_confusao at 0x7f062bfdee50>"
      ]
     },
     "execution_count": 18,
     "metadata": {},
     "output_type": "execute_result"
    },
    {
     "data": {
      "image/png": "[encoded data removed]",
      "text/plain": [
       "<Figure size 750x600 with 2 Axes>"
      ]
     },
     "metadata": {
      "needs_background": "light"
     },
     "output_type": "display_data"
    }
   ],
   "source": [
    "ml.matriz()"
   ]
  },
  {
   "cell_type": "code",
   "execution_count": 19,
   "id": "e96f90aa",
   "metadata": {},
   "outputs": [
    {
     "data": {
      "text/plain": [
       "0.96"
      ]
     },
     "execution_count": 19,
     "metadata": {},
     "output_type": "execute_result"
    }
   ],
   "source": [
    "ml.auc()"
   ]
  },
  {
   "cell_type": "code",
   "execution_count": 20,
   "id": "9b7ece68",
   "metadata": {},
   "outputs": [
    {
     "data": {
      "text/plain": [
       "0.9199999999999999"
      ]
     },
     "execution_count": 20,
     "metadata": {},
     "output_type": "execute_result"
    }
   ],
   "source": [
    "ml.gini()"
   ]
  },
  {
   "cell_type": "code",
   "execution_count": 21,
   "id": "291beb69",
   "metadata": {},
   "outputs": [
    {
     "data": {
      "text/html": [
       "<div>\n",
       "<style scoped>\n",
       "    .dataframe tbody tr th:only-of-type {\n",
       "        vertical-align: middle;\n",
       "    }\n",
       "\n",
       "    .dataframe tbody tr th {\n",
       "        vertical-align: top;\n",
       "    }\n",
       "\n",
       "    .dataframe thead th {\n",
       "        text-align: right;\n",
       "    }\n",
       "</style>\n",
       "<table border=\"1\" class=\"dataframe\">\n",
       "  <thead>\n",
       "    <tr style=\"text-align: right;\">\n",
       "      <th></th>\n",
       "      <th>acuracia</th>\n",
       "      <th>precisao</th>\n",
       "      <th>recall</th>\n",
       "      <th>f1</th>\n",
       "    </tr>\n",
       "  </thead>\n",
       "  <tbody>\n",
       "    <tr>\n",
       "      <th>0</th>\n",
       "      <td>0.794505</td>\n",
       "      <td>0.815238</td>\n",
       "      <td>0.747619</td>\n",
       "      <td>0.753815</td>\n",
       "    </tr>\n",
       "  </tbody>\n",
       "</table>\n",
       "</div>"
      ],
      "text/plain": [
       "   acuracia  precisao    recall        f1\n",
       "0  0.794505  0.815238  0.747619  0.753815"
      ]
     },
     "execution_count": 21,
     "metadata": {},
     "output_type": "execute_result"
    }
   ],
   "source": [
    "ml.cvresults()"
   ]
  },
  {
   "cell_type": "code",
   "execution_count": 22,
   "id": "b6059bac",
   "metadata": {},
   "outputs": [
    {
     "data": {
      "image/png": "[encoded data removed]",
      "text/plain": [
       "<Figure size 720x480 with 1 Axes>"
      ]
     },
     "metadata": {
      "needs_background": "light"
     },
     "output_type": "display_data"
    }
   ],
   "source": [
    "ml.precisionrecall()"
   ]
  },
  {
   "cell_type": "code",
   "execution_count": 23,
   "id": "c572b32a",
   "metadata": {},
   "outputs": [
    {
     "data": {
      "image/png": "[encoded data removed]",
      "text/plain": [
       "<Figure size 720x480 with 1 Axes>"
      ]
     },
     "metadata": {
      "needs_background": "light"
     },
     "output_type": "display_data"
    }
   ],
   "source": [
    "ml.roccurve()"
   ]
  },
  {
   "cell_type": "code",
   "execution_count": null,
   "id": "d51379ec",
   "metadata": {},
   "outputs": [],
   "source": []
  }
 ],
 "metadata": {
  "kernelspec": {
   "display_name": "Python 3",
   "language": "python",
   "name": "python3"
  },
  "language_info": {
   "codemirror_mode": {
    "name": "ipython",
    "version": 3
   },
   "file_extension": ".py",
   "mimetype": "text/x-python",
   "name": "python",
   "nbconvert_exporter": "python",
   "pygments_lexer": "ipython3",
   "version": "3.8.8"
  },
  "varInspector": {
   "cols": {
    "lenName": 16,
    "lenType": 16,
    "lenVar": 40
   },
   "kernels_config": {
    "python": {
     "delete_cmd_postfix": "",
     "delete_cmd_prefix": "del ",
     "library": "var_list.py",
     "varRefreshCmd": "print(var_dic_list())"
    },
    "r": {
     "delete_cmd_postfix": ") ",
     "delete_cmd_prefix": "rm(",
     "library": "var_list.r",
     "varRefreshCmd": "cat(var_dic_list()) "
    }
   },
   "types_to_exclude": [
    "module",
    "function",
    "builtin_function_or_method",
    "instance",
    "_Feature"
   ],
   "window_display": false
  }
 },
 "nbformat": 4,
 "nbformat_minor": 5
}
