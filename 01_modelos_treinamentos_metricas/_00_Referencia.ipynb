{
 "cells": [
  {
   "cell_type": "code",
   "execution_count": 7,
   "id": "3f863325",
   "metadata": {},
   "outputs": [],
   "source": [
    "# %%\n",
    "import pandas as pd \n",
    "import seaborn as sns\n",
    "import matplotlib.pyplot as plt \n",
    "import numpy as np\n",
    "\n",
    "# %%\n",
    "data = pd.read_csv('data/alldata.csv', sep = ',')\n",
    "\n",
    "# %% Selecionar principais variaveis:\n",
    "    \n",
    "#Crosstable\n",
    "    \n",
    "crosstable = pd.read_csv('data/CrosstableVariables.csv', sep = ';')\n",
    "crosstable.drop(crosstable.columns[[0,4,5,6,7,8,9,10]], axis = 1, inplace =  True)\n",
    "\n",
    "#Apenas dor na lombar\n",
    "crosstable = crosstable.loc[crosstable['denominador']=='D30']\n",
    "\n",
    "#Filtro da frequência\n",
    "crosstable = crosstable.loc[crosstable['Frequência']>0.6]\n",
    "\n",
    "crossnames = list(crosstable.numerador)\n",
    "\n",
    "# Bisserial\n",
    "biserial = pd.read_csv('data/biseralmaincorrelations.csv', sep = ',')\n",
    "biserial.drop(biserial.columns[[3,4,5,6]], axis = 1, inplace = True)\n",
    "\n",
    "#Apenas dor na lombar\n",
    "biserial = biserial.loc[biserial['Binaria']=='Lombalgia']\n",
    "\n",
    "#Filtro do coeficiente de correlação de ponto bisserial\n",
    "biserial = biserial.loc[(biserial['rpb'] > 0.5) | (biserial['rpb'] < -0.5)]\n",
    "\n",
    "biserialnames = list(biserial.Ordinal)\n",
    "#Final\n",
    "\n",
    "biserialandcross = crossnames + biserialnames\n",
    "\n",
    "data = data[biserialandcross]\n",
    "\n",
    "#Retornar apenas as linhas que possuem resultado em D30\n",
    "\n",
    "data = data[data.D30.notnull()]\n",
    "data.drop('Há quanto tempo em São Paulo se de outro local', axis = 1, inplace = True)\n",
    "\n",
    "#Retornar apenas as linhas que possuem menos de 10 % de valores nulos\n",
    "nulldataframe = pd.DataFrame(data.isnull().sum())\n",
    "miss = nulldataframe/data.shape[0]\n",
    "\n",
    "miss.columns = ['Valor']\n",
    "\n",
    "miss = miss[miss['Valor'] < 0.15]\n",
    "\n",
    "listanaonulos = list(miss.index)\n",
    "\n",
    "data = data[listanaonulos]\n",
    "# %% Imputar valores nulos\n",
    "from sklearn.impute import SimpleImputer\n",
    "\n",
    "imp = SimpleImputer(missing_values = np.nan, strategy = 'median')\n",
    "\n",
    "imp.fit(data)\n",
    "\n",
    "data_nonan = pd.DataFrame(imp.transform(data), columns = list(data))\n",
    "\n",
    "data_nonan.isnull().sum().sum()\n",
    "\n",
    "#Testando só com binários:\n",
    "data_pca = data_nonan\n",
    "\n",
    "# %% Normalização dos ordinais\n",
    "\n",
    "data_bin = data_pca.iloc[:,np.r_[0:7]]\n",
    "data_ord = data_pca.iloc[:,np.r_[7:10]]\n",
    "\n",
    "from sklearn.preprocessing import StandardScaler\n",
    "ss = StandardScaler()\n",
    "\n",
    "ss.fit(data_ord)\n",
    "\n",
    "data_ord_ss = pd.DataFrame(ss.transform(data_ord), columns = list(data_ord))\n",
    "\n",
    "data_pca = pd.concat([data_bin,data_ord_ss], axis = 1)\n",
    "\n",
    "\n",
    "# %% Divisao entre treino e teste\n",
    "df = data_pca\n",
    "\n",
    "X = df.drop('D30', axis = 1)\n",
    "#pca_model = PCA(n_components = 10)\n",
    "#pca_model.fit(X)\n",
    "#X_pca = pca_model.transform(X)\n",
    "X_pca = X\n",
    "\n",
    "y = df['D30']"
   ]
  },
  {
   "cell_type": "code",
   "execution_count": 19,
   "id": "d047fc98",
   "metadata": {},
   "outputs": [
    {
     "data": {
      "text/plain": [
       "(136,)"
      ]
     },
     "execution_count": 19,
     "metadata": {},
     "output_type": "execute_result"
    }
   ],
   "source": [
    "y.shape"
   ]
  },
  {
   "cell_type": "code",
   "execution_count": 20,
   "id": "dbb801a3",
   "metadata": {},
   "outputs": [],
   "source": [
    "from sklearn.model_selection import train_test_split\n",
    "\n",
    "X_train, X_test, y_train, y_test = train_test_split(X_pca,y, test_size = 0.3)"
   ]
  },
  {
   "cell_type": "code",
   "execution_count": 22,
   "id": "46474585",
   "metadata": {},
   "outputs": [
    {
     "data": {
      "text/plain": [
       "(41,)"
      ]
     },
     "execution_count": 22,
     "metadata": {},
     "output_type": "execute_result"
    }
   ],
   "source": [
    "y_test.shape"
   ]
  },
  {
   "cell_type": "markdown",
   "id": "e77dd3c0",
   "metadata": {},
   "source": [
    "# Regressão Logística"
   ]
  },
  {
   "cell_type": "code",
   "execution_count": 14,
   "id": "0d2195e1",
   "metadata": {},
   "outputs": [
    {
     "data": {
      "text/plain": [
       "LogisticRegression()"
      ]
     },
     "execution_count": 14,
     "metadata": {},
     "output_type": "execute_result"
    }
   ],
   "source": [
    "from sklearn.linear_model import LogisticRegression\n",
    "\n",
    "lr = LogisticRegression()\n",
    "lr.fit(X_train,y_train)"
   ]
  },
  {
   "cell_type": "code",
   "execution_count": 15,
   "id": "55ab3fe1",
   "metadata": {},
   "outputs": [],
   "source": [
    "THRESHOLD = 0.45\n",
    "previsoes = np.where(lr.predict_proba(X_test)[:,1] > THRESHOLD, 1, 0)"
   ]
  },
  {
   "cell_type": "code",
   "execution_count": 16,
   "id": "89a20bb8",
   "metadata": {},
   "outputs": [
    {
     "data": {
      "text/plain": [
       "array([[15,  2],\n",
       "       [ 7, 17]])"
      ]
     },
     "execution_count": 16,
     "metadata": {},
     "output_type": "execute_result"
    }
   ],
   "source": [
    "from sklearn.metrics import confusion_matrix, accuracy_score\n",
    "\n",
    "acuracia = accuracy_score(y_test, previsoes); acuracia\n",
    "matriz = confusion_matrix(y_test, previsoes); matriz"
   ]
  },
  {
   "cell_type": "code",
   "execution_count": 18,
   "id": "237e06b8",
   "metadata": {},
   "outputs": [
    {
     "data": {
      "text/plain": [
       "(41,)"
      ]
     },
     "execution_count": 18,
     "metadata": {},
     "output_type": "execute_result"
    }
   ],
   "source": [
    "y_test.shape"
   ]
  },
  {
   "cell_type": "code",
   "execution_count": 17,
   "id": "147787ab",
   "metadata": {},
   "outputs": [
    {
     "data": {
      "image/png": "[encoded data removed]",
      "text/plain": [
       "<Figure size 432x288 with 1 Axes>"
      ]
     },
     "metadata": {
      "needs_background": "light"
     },
     "output_type": "display_data"
    }
   ],
   "source": [
    "# %%ROC Curve\n",
    "\n",
    "from sklearn.metrics import roc_curve, roc_auc_score\n",
    "import matplotlib.pyplot as plt\n",
    "\n",
    "def roccurve(y_test, probs, modelname):\n",
    "    # Gerar os dados da diagonal (no skill classifier)\n",
    "    ns_probs = [0 for item in range(len(y_test))]\n",
    "    ns_fpr, ns_tpr, ns_thres = roc_curve(y_test, ns_probs)\n",
    "    \n",
    "    #Probabilidades da classe positiva\n",
    "    fpr, tpr, thresholds = roc_curve(y_test, probs[:,1])\n",
    "    auc = roc_auc_score(y_test, probs[:,1])\n",
    "    \n",
    "    plt.plot(fpr, tpr, marker = '.', label = modelname)\n",
    "    plt.plot(ns_fpr, ns_tpr, linestyle = '--', label = 'Classificador base')\n",
    "    plt.xlabel('Razão de Falsos Positivos')\n",
    "    plt.ylabel('Razão de Verdadeiros Positivos')\n",
    "    plt.title('ROC Curve')\n",
    "    plt.legend()\n",
    "    plt.show()\n",
    "\n",
    "# %% APlicação da função roc curve parao modelo de regressão logística\n",
    "probs = lr.predict_proba(X_test)\n",
    "\n",
    "roccurve(y_test, probs, 'Regressão Logística')"
   ]
  },
  {
   "cell_type": "code",
   "execution_count": 23,
   "id": "e6273644",
   "metadata": {},
   "outputs": [
    {
     "data": {
      "text/plain": [
       "(41, 2)"
      ]
     },
     "execution_count": 23,
     "metadata": {},
     "output_type": "execute_result"
    }
   ],
   "source": [
    "probs.shape"
   ]
  },
  {
   "cell_type": "code",
   "execution_count": null,
   "id": "4486d11a",
   "metadata": {},
   "outputs": [],
   "source": [
    "# %% Precision Recall Curve \n",
    "\n",
    "\n",
    "\n",
    "def precisionrecall(y_test, probs, modelname):\n",
    "\n",
    "  from sklearn.metrics import precision_recall_curve\n",
    "    \n",
    "    precision, recall, thresholds = precision_recall_curve(y_test, probs[:,1])\n",
    "    \n",
    "    no_skill = len(y_test[y_test ==1]) / len(y_test)\n",
    "    \n",
    "    plt.plot([0,1], [no_skill, no_skill], linestyle = '--', label = 'Classificador base')\n",
    "    plt.plot(precision, recall, marker = '.', label =  modelname)\n",
    "    plt.xlabel('Recall')\n",
    "    plt.ylabel('Precision')\n",
    "    plt.title('Precision-Recall Curve')\n",
    "    plt.legend()\n",
    "    plt.show()\n",
    "\n",
    "# %% Aplicação da Precision Recall para Regressão Logística    \n",
    "probs = lr.predict_proba(X_test)\n",
    "modelname = 'Regressão Logística'\n",
    "\n",
    "precisionrecall(y_test, probs, modelname)\n",
    "\n",
    "# %% Com validação cruzada:"
   ]
  },
  {
   "cell_type": "code",
   "execution_count": null,
   "id": "6636b0d2",
   "metadata": {},
   "outputs": [],
   "source": [
    "probs"
   ]
  },
  {
   "cell_type": "code",
   "execution_count": 1,
   "id": "38ce49ed",
   "metadata": {},
   "outputs": [
    {
     "ename": "IndentationError",
     "evalue": "unexpected indent (<ipython-input-1-33832257ac59>, line 236)",
     "output_type": "error",
     "traceback": [
      "\u001b[0;36m  File \u001b[0;32m\"<ipython-input-1-33832257ac59>\"\u001b[0;36m, line \u001b[0;32m236\u001b[0m\n\u001b[0;31m    precision, recall, thresholds = precision_recall_curve(y_test, probs[:,1])\u001b[0m\n\u001b[0m    ^\u001b[0m\n\u001b[0;31mIndentationError\u001b[0m\u001b[0;31m:\u001b[0m unexpected indent\n"
     ]
    }
   ],
   "source": [
    "    \n",
    "from sklearn.model_selection import cross_validate\n",
    "\n",
    "def cvfunction(model):\n",
    "    acuracia = cross_validate(model, X, y, cv = 10, \n",
    "                              scoring = ['accuracy','f1','recall','precision'],\n",
    "                              return_train_score = True)\n",
    "    \n",
    "    f1 = acuracia['test_f1'].mean()\n",
    "    precision = acuracia['test_precision'].mean()\n",
    "    recall = acuracia['test_recall'].mean()\n",
    "    acuracia = acuracia['test_accuracy'].mean()\n",
    "    \n",
    "    cvresults = pd.DataFrame({'acuracia':[acuracia],\n",
    "                              'precisao':[precision],\n",
    "                              'recall':[recall],\n",
    "                              'f1':[f1]})\n",
    "    \n",
    "    return cvresults\n",
    "# %% Criação da lista que receberá o resultado das métricas de todos os modelos\n",
    "\n",
    "restable = [[0]*4]*5\n",
    "type(restable)\n",
    "\n",
    "# %% Atribuição do resultado das métricas do modelo de Regressão Logística\n",
    "cvresults = cvfunction(lr)\n",
    "cvresults"
   ]
  },
  {
   "cell_type": "code",
   "execution_count": null,
   "id": "b41a3d26",
   "metadata": {},
   "outputs": [],
   "source": []
  }
 ],
 "metadata": {
  "kernelspec": {
   "display_name": "Python 3",
   "language": "python",
   "name": "python3"
  },
  "language_info": {
   "codemirror_mode": {
    "name": "ipython",
    "version": 3
   },
   "file_extension": ".py",
   "mimetype": "text/x-python",
   "name": "python",
   "nbconvert_exporter": "python",
   "pygments_lexer": "ipython3",
   "version": "3.7.11"
  },
  "varInspector": {
   "cols": {
    "lenName": 16,
    "lenType": 16,
    "lenVar": 40
   },
   "kernels_config": {
    "python": {
     "delete_cmd_postfix": "",
     "delete_cmd_prefix": "del ",
     "library": "var_list.py",
     "varRefreshCmd": "print(var_dic_list())"
    },
    "r": {
     "delete_cmd_postfix": ") ",
     "delete_cmd_prefix": "rm(",
     "library": "var_list.r",
     "varRefreshCmd": "cat(var_dic_list()) "
    }
   },
   "types_to_exclude": [
    "module",
    "function",
    "builtin_function_or_method",
    "instance",
    "_Feature"
   ],
   "window_display": false
  }
 },
 "nbformat": 4,
 "nbformat_minor": 5
}
