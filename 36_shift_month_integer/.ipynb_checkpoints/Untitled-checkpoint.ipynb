{
 "cells": [
  {
   "cell_type": "code",
   "execution_count": 29,
   "id": "bc1e3efa",
   "metadata": {},
   "outputs": [],
   "source": [
    "from datetime import datetime as dt"
   ]
  },
  {
   "cell_type": "code",
   "execution_count": 30,
   "id": "1c2cfd90",
   "metadata": {},
   "outputs": [],
   "source": [
    "from dateutil.relativedelta import relativedelta"
   ]
  },
  {
   "cell_type": "code",
   "execution_count": 31,
   "id": "d5ed35f6",
   "metadata": {},
   "outputs": [],
   "source": [
    "a = 20210401\n",
    "b = 202104"
   ]
  },
  {
   "cell_type": "code",
   "execution_count": 32,
   "id": "773b1235",
   "metadata": {},
   "outputs": [],
   "source": [
    "def shift_month(raw, shift):\n",
    "    if len(raw) == 8:\n",
    "        _format = '%Y%m%d'\n",
    "        date = dt.strptime(str(raw),_format) + relativedelta(months = shift) \n",
    "        date_str = date.strftime(_format)\n",
    "    if len(raw) == 6:\n",
    "        _format = '%Y%m'\n",
    "        date = dt.strptime(str(raw),_format) + relativedelta(months = shift) \n",
    "        date_str = date.strftime(_format)\n",
    "    return date_str"
   ]
  },
  {
   "cell_type": "code",
   "execution_count": 33,
   "id": "e28532bc",
   "metadata": {},
   "outputs": [
    {
     "data": {
      "text/plain": [
       "'20210301'"
      ]
     },
     "execution_count": 33,
     "metadata": {},
     "output_type": "execute_result"
    }
   ],
   "source": [
    "a = str(a)\n",
    "shift_month(a,-1)"
   ]
  },
  {
   "cell_type": "code",
   "execution_count": 34,
   "id": "419bd406",
   "metadata": {},
   "outputs": [
    {
     "data": {
      "text/plain": [
       "'202103'"
      ]
     },
     "execution_count": 34,
     "metadata": {},
     "output_type": "execute_result"
    }
   ],
   "source": [
    "b = str(b)\n",
    "shift_month(b,-1)"
   ]
  }
 ],
 "metadata": {
  "kernelspec": {
   "display_name": "Python 3 (ipykernel)",
   "language": "python",
   "name": "python3"
  },
  "language_info": {
   "codemirror_mode": {
    "name": "ipython",
    "version": 3
   },
   "file_extension": ".py",
   "mimetype": "text/x-python",
   "name": "python",
   "nbconvert_exporter": "python",
   "pygments_lexer": "ipython3",
   "version": "3.7.2"
  }
 },
 "nbformat": 4,
 "nbformat_minor": 5
}
