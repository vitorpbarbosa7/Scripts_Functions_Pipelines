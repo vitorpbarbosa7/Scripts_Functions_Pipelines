{
 "cells": [
  {
   "cell_type": "code",
   "execution_count": 1,
   "metadata": {},
   "outputs": [],
   "source": [
    "import pandas as pd \n",
    "import matplotlib.pyplot as plt \n",
    "import numpy as np\n",
    "import seaborn as sns\n",
    "import scipy.stats as stats\n",
    "import statsmodels.stats.api as sms\n",
    "\n",
    "from IPython.display import display\n",
    "from IPython.display import Markdown as md\n",
    "from IPython.core.interactiveshell import InteractiveShell\n",
    "InteractiveShell.ast_node_interactivity = \"all\"\n",
    "\n",
    "def f():\n",
    "    pd.set_option('display.max_columns', None)\n",
    "    pd.set_option('display.max_rows', None)\n",
    "    \n",
    "def nf():\n",
    "    pd.set_option('display.max_columns', None)\n",
    "    pd.set_option('display.max_rows', 4)\n",
    "\n",
    "import warnings\n",
    "warnings.filterwarnings('ignore')\n",
    "\n",
    "def dp(df, r = 5, c = None):\n",
    "    from IPython.display import display\n",
    "    with pd.option_context('display.max_rows', 4, 'display.max_columns', None):\n",
    "        display(df)\n",
    "\n",
    "def fg(w = 6, h = 4, dpi = 120):\n",
    "    plt.rcParams['figure.figsize'] = (w,h)\n",
    "    plt.rcParams['figure.dpi'] = dpi\n",
    "fg()\n",
    "\n",
    "# import autotime\n",
    "# %load_ext autoreload\n",
    "# %autoreload 2\n",
    "# %load_ext autotime"
   ]
  },
  {
   "cell_type": "code",
   "execution_count": 2,
   "metadata": {},
   "outputs": [],
   "source": [
    "class Student:\n",
    "      \n",
    "    # create a variable\n",
    "    name = \"Geeksforgeeks\"\n",
    "      \n",
    "    # create a function\n",
    "    def print_name(obj):\n",
    "        print(\"The name is : \", obj.name)"
   ]
  },
  {
   "cell_type": "code",
   "execution_count": 5,
   "metadata": {},
   "outputs": [],
   "source": [
    "# Veja só, eu vou precisar instanciar um objeto a partir da classe para conseguir utilizar o print_name\n",
    "estudante = Student()"
   ]
  },
  {
   "cell_type": "code",
   "execution_count": 6,
   "metadata": {},
   "outputs": [
    {
     "name": "stdout",
     "output_type": "stream",
     "text": [
      "The name is :  Geeksforgeeks\n"
     ]
    }
   ],
   "source": [
    "# Objeto criado, então posso chamar o método associado a este objeto criado a partir da classe Student\n",
    "estudante.print_name()"
   ]
  },
  {
   "cell_type": "code",
   "execution_count": 8,
   "metadata": {},
   "outputs": [
    {
     "ename": "TypeError",
     "evalue": "print_name() missing 1 required positional argument: 'obj'",
     "output_type": "error",
     "traceback": [
      "\u001b[1;31m---------------------------------------------------------------------------\u001b[0m",
      "\u001b[1;31mTypeError\u001b[0m                                 Traceback (most recent call last)",
      "\u001b[1;32m<ipython-input-8-c2e79c024045>\u001b[0m in \u001b[0;36m<module>\u001b[1;34m\u001b[0m\n\u001b[0;32m      1\u001b[0m \u001b[1;31m# Se eu tento fazer Student.print_name(), ou seja, a partir da classe criada, já chamar o método, não consigo,\u001b[0m\u001b[1;33m\u001b[0m\u001b[1;33m\u001b[0m\u001b[1;33m\u001b[0m\u001b[0m\n\u001b[0;32m      2\u001b[0m \u001b[1;31m# preciso literalmente instanciar um objeto a partir da classe\u001b[0m\u001b[1;33m\u001b[0m\u001b[1;33m\u001b[0m\u001b[1;33m\u001b[0m\u001b[0m\n\u001b[1;32m----> 3\u001b[1;33m \u001b[0mStudent\u001b[0m\u001b[1;33m.\u001b[0m\u001b[0mprint_name\u001b[0m\u001b[1;33m(\u001b[0m\u001b[1;33m)\u001b[0m\u001b[1;33m\u001b[0m\u001b[1;33m\u001b[0m\u001b[0m\n\u001b[0m",
      "\u001b[1;31mTypeError\u001b[0m: print_name() missing 1 required positional argument: 'obj'"
     ]
    }
   ],
   "source": [
    "# Se eu tento fazer Student.print_name(), ou seja, a partir da classe criada, já chamar o método, não consigo, \n",
    "# preciso literalmente instanciar um objeto a partir da classe\n",
    "Student.print_name()"
   ]
  },
  {
   "cell_type": "markdown",
   "metadata": {},
   "source": [
    "# Mas agora vamos criar a mesma classe com um @classmethod inside it"
   ]
  },
  {
   "cell_type": "code",
   "execution_count": 9,
   "metadata": {},
   "outputs": [],
   "source": [
    "class Student:\n",
    "      \n",
    "    # create a variable\n",
    "    name = \"Geeksforgeeks\"\n",
    "      \n",
    "    # create a function\n",
    "    @classmethod\n",
    "    def print_name(obj):\n",
    "        print(\"The name is : \", obj.name)"
   ]
  },
  {
   "cell_type": "markdown",
   "metadata": {},
   "source": [
    "### Não vou precisar instanciar um objeto a partir da classe para chamar o método print_name"
   ]
  },
  {
   "cell_type": "code",
   "execution_count": 10,
   "metadata": {},
   "outputs": [
    {
     "name": "stdout",
     "output_type": "stream",
     "text": [
      "The name is :  Geeksforgeeks\n"
     ]
    }
   ],
   "source": [
    "Student.print_name()"
   ]
  },
  {
   "cell_type": "markdown",
   "metadata": {},
   "source": [
    "<font color = 'blue' size = 6> <b> @staticmethod"
   ]
  },
  {
   "cell_type": "code",
   "execution_count": 13,
   "metadata": {},
   "outputs": [],
   "source": [
    "class Student:\n",
    "    name = 'unknown' # class attribute\n",
    "    \n",
    "    def __init__(self):\n",
    "        self.age = 20  # instance attribute\n",
    "\n",
    "    @staticmethod\n",
    "    def tostring():\n",
    "        print('name=',name,'age=',self.age)"
   ]
  },
  {
   "cell_type": "markdown",
   "metadata": {},
   "source": [
    "### métodos estáticos não podem acessar outros elementos da classe, por isso não é possível utilizar self e clf"
   ]
  },
  {
   "cell_type": "code",
   "execution_count": 20,
   "metadata": {},
   "outputs": [
    {
     "name": "stdout",
     "output_type": "stream",
     "text": [
      "name is static\n"
     ]
    }
   ],
   "source": [
    "Student.tostring()"
   ]
  },
  {
   "cell_type": "markdown",
   "metadata": {},
   "source": [
    "### Mas conseguimos chama-lo diretamente sem a necessidade de instanciar um objeto a partir da classe, e vai dar tudo certo se não tentarmos puxar nenhuma variável externa da própria classe"
   ]
  },
  {
   "cell_type": "code",
   "execution_count": 23,
   "metadata": {},
   "outputs": [],
   "source": [
    "class Student:\n",
    "    name = 'unknown' # class attribute\n",
    "    \n",
    "    def __init__(self):\n",
    "        self.age = 20  # instance attribute\n",
    "\n",
    "    @staticmethod\n",
    "    def tostring():\n",
    "        print('name is static')"
   ]
  },
  {
   "cell_type": "code",
   "execution_count": 24,
   "metadata": {},
   "outputs": [
    {
     "name": "stdout",
     "output_type": "stream",
     "text": [
      "name is static\n"
     ]
    }
   ],
   "source": [
    "Student.tostring()"
   ]
  },
  {
   "cell_type": "code",
   "execution_count": null,
   "metadata": {},
   "outputs": [],
   "source": []
  }
 ],
 "metadata": {
  "kernelspec": {
   "display_name": "Python 3",
   "language": "python",
   "name": "python3"
  },
  "language_info": {
   "codemirror_mode": {
    "name": "ipython",
    "version": 3
   },
   "file_extension": ".py",
   "mimetype": "text/x-python",
   "name": "python",
   "nbconvert_exporter": "python",
   "pygments_lexer": "ipython3",
   "version": "3.8.3"
  }
 },
 "nbformat": 4,
 "nbformat_minor": 4
}
